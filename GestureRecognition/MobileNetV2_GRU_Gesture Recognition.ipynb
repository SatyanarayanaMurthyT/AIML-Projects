{
 "cells": [
  {
   "cell_type": "markdown",
   "metadata": {},
   "source": [
    "# Gesture Recognition\n",
    "In this group project, you are going to build a 3D Conv model that will be able to predict the 5 gestures correctly. Please import the following libraries to get started."
   ]
  },
  {
   "cell_type": "code",
   "execution_count": 1,
   "metadata": {},
   "outputs": [],
   "source": [
    "import numpy as np\n",
    "import os\n",
    "#from scipy.misc import imread, imresize\n",
    "from skimage.transform import resize\n",
    "import datetime\n",
    "import os\n",
    "os.getcwd()\n",
    "from matplotlib.pyplot import imread"
   ]
  },
  {
   "cell_type": "markdown",
   "metadata": {},
   "source": [
    "We set the random seed so that the results don't vary drastically."
   ]
  },
  {
   "cell_type": "code",
   "execution_count": 2,
   "metadata": {},
   "outputs": [
    {
     "name": "stderr",
     "output_type": "stream",
     "text": [
      "Using TensorFlow backend.\n"
     ]
    }
   ],
   "source": [
    "np.random.seed(30)\n",
    "import random as rn\n",
    "rn.seed(30)\n",
    "from keras import backend as K\n",
    "import tensorflow as tf\n",
    "tf.random.set_seed(30)"
   ]
  },
  {
   "cell_type": "code",
   "execution_count": 22,
   "metadata": {},
   "outputs": [],
   "source": [
    "#additional libraries imported for visual analysis\n",
    "import matplotlib.pyplot as plt"
   ]
  },
  {
   "cell_type": "markdown",
   "metadata": {},
   "source": [
    "In this block, you read the folder names for training and validation. You also set the `batch_size` here. Note that you set the batch size in such a way that you are able to use the GPU in full capacity. You keep increasing the batch size until the machine throws an error."
   ]
  },
  {
   "cell_type": "code",
   "execution_count": 3,
   "metadata": {},
   "outputs": [],
   "source": [
    "train_doc = np.random.permutation(open(os.getcwd()+\"/Project_data/train.csv\").readlines())\n",
    "val_doc = np.random.permutation(open(os.getcwd()+\"/Project_data/val.csv\").readlines())\n",
    "batch_size = 30"
   ]
  },
  {
   "cell_type": "markdown",
   "metadata": {},
   "source": [
    "## Generator\n",
    "This is one of the most important part of the code. The overall structure of the generator has been given. In the generator, you are going to preprocess the images as you have images of 2 different dimensions as well as create a batch of video frames. You have to experiment with `img_idx`, `y`,`z` and normalization such that you get high accuracy."
   ]
  },
  {
   "cell_type": "code",
   "execution_count": 4,
   "metadata": {},
   "outputs": [],
   "source": [
    "img_size=128\n",
    "no_of_images_in_folder=15\n",
    "crop_value=0\n",
    "def generator(source_path, folder_list, batch_size):\n",
    "    print( 'Source path = ', source_path, '; batch size =', batch_size)\n",
    "    img_idx = list(range(0,30,2))\n",
    "    while True:\n",
    "        t = np.random.permutation(folder_list)\n",
    "        num_batches = int(len(t)/batch_size)\n",
    "        for batch in range(num_batches): # we iterate over the number of batches\n",
    "            batch_data = np.zeros((batch_size,len(img_idx),img_size,img_size,3)) # x is the number of images you use for each video, (y,z) is the final size of the input images and 3 is the number of channels RGB\n",
    "            batch_labels = np.zeros((batch_size,5)) # batch_labels is the one hot representation of the output\n",
    "            for folder in range(batch_size): # iterate over the batch_size\n",
    "                imgs = os.listdir(source_path+'/'+ t[folder + (batch*batch_size)].split(';')[0]) # read all the images in the folder\n",
    "                for idx,item in enumerate(img_idx): #  Iterate iver the frames/images of a folder to read them in\n",
    "                    image = imread(source_path+'/'+ t[folder + (batch*batch_size)].strip().split(';')[0]+'/'+imgs[item]).astype(np.float32)\n",
    "                    #crop the images and resize them. Note that the images are of 2 different shape \n",
    "                    #and the conv3D will throw error if the inputs in a batch have different shapes\n",
    "                    #image=image[crop_value:-crop_value,crop_value:-crop_value,:]\n",
    "                    image=resize(image[:,:,:],(img_size,img_size),anti_aliasing=True)\n",
    "                    batch_data[folder,idx,:,:,0] = (image[:,:,0] - np.percentile(image[:,:,0],5))/(np.percentile(image[:,:,0],95) - np.percentile(image[:,:,0],5))\n",
    "                    batch_data[folder,idx,:,:,1] = (image[:,:,1] - np.percentile(image[:,:,1],5))/(np.percentile(image[:,:,1],95) - np.percentile(image[:,:,1],5))\n",
    "                    batch_data[folder,idx,:,:,2] = (image[:,:,2] - np.percentile(image[:,:,2],5))/(np.percentile(image[:,:,2],95) - np.percentile(image[:,:,2],5))\n",
    "                batch_labels[folder, int(t[folder + (batch*batch_size)].strip().split(';')[2])] = 1\n",
    "            yield batch_data, batch_labels #you yield the batch_data and the batch_labels, remember what does yield do\n",
    "\n",
    "        \n",
    "        # write the code for the remaining data points which are left after full batches\n",
    "        rem_batch_size=len(t)-(num_batches*batch_size)\n",
    "        rem_batch_data = np.zeros((rem_batch_size,len(img_idx),img_size,img_size,3)) # x is the number of images you use for each video, (y,z) is the final size of the input images and 3 is the number of channels RGB\n",
    "        rem_batch_labels = np.zeros((rem_batch_size,5)) # batch_labels is the one hot representation of the output\n",
    "        for folder in range(rem_batch_size): # iterate over the batch_size\n",
    "            imgs = os.listdir(source_path+'/'+ t[folder+(num_batches*batch_size)].split(';')[0]) # read all the images in the folder\n",
    "            for idx,item in enumerate(img_idx): #  Iterate iver the frames/images of a folder to read them in\n",
    "                image = imread(source_path+'/'+ t[folder+(num_batches*batch_size)].strip().split(';')[0]+'/'+imgs[item]).astype(np.float32)\n",
    "                #image=image[crop_value:-crop_value,crop_value:-crop_value,:]\n",
    "                image=resize(image[:,:,:],(img_size,img_size),anti_aliasing=True)\n",
    "                rem_batch_data[folder,idx,:,:,0] = (image[:,:,0] - np.percentile(image[:,:,0],5))/(np.percentile(image[:,:,0],95) - np.percentile(image[:,:,0],5))\n",
    "                rem_batch_data[folder,idx,:,:,1] = (image[:,:,1] - np.percentile(image[:,:,1],5))/(np.percentile(image[:,:,1],95) - np.percentile(image[:,:,1],5))\n",
    "                rem_batch_data[folder,idx,:,:,2] = (image[:,:,2] - np.percentile(image[:,:,2],5))/(np.percentile(image[:,:,2],95) - np.percentile(image[:,:,2],5))\n",
    "            rem_batch_labels[folder, int(t[folder+(num_batches*batch_size)].strip().split(';')[2])] = 1\n",
    "        yield rem_batch_data, rem_batch_labels #you yield the batch_data and the batch_labels, remember what does yield do"
   ]
  },
  {
   "cell_type": "markdown",
   "metadata": {},
   "source": [
    "Note here that a video is represented above in the generator as (number of images, height, width, number of channels). Take this into consideration while creating the model architecture."
   ]
  },
  {
   "cell_type": "code",
   "execution_count": null,
   "metadata": {},
   "outputs": [],
   "source": []
  },
  {
   "cell_type": "code",
   "execution_count": 5,
   "metadata": {},
   "outputs": [
    {
     "name": "stdout",
     "output_type": "stream",
     "text": [
      "# training sequences = 663\n",
      "# validation sequences = 100\n",
      "# epochs = 50\n"
     ]
    }
   ],
   "source": [
    "curr_dt_time = datetime.datetime.now()\n",
    "train_path = os.getcwd()+\"/Project_data/train\"\n",
    "val_path = os.getcwd()+\"/Project_data/val\"\n",
    "num_train_sequences = len(train_doc)\n",
    "print('# training sequences =', num_train_sequences)\n",
    "num_val_sequences = len(val_doc)\n",
    "print('# validation sequences =', num_val_sequences)\n",
    "num_epochs = 50\n",
    "print ('# epochs =', num_epochs)"
   ]
  },
  {
   "cell_type": "markdown",
   "metadata": {},
   "source": [
    "## Model\n",
    "Here you make the model using different functionalities that Keras provides. Remember to use `Conv3D` and `MaxPooling3D` and not `Conv2D` and `Maxpooling2D` for a 3D convolution model. You would want to use `TimeDistributed` while building a Conv2D + RNN model. Also remember that the last layer is the softmax. Design the network in such a way that the model is able to give good accuracy on the least number of parameters so that it can fit in the memory of the webcam."
   ]
  },
  {
   "cell_type": "code",
   "execution_count": 9,
   "metadata": {},
   "outputs": [],
   "source": [
    "from keras.models import Sequential, Model\n",
    "from keras.layers import Dense, GRU, Flatten, TimeDistributed, Flatten, BatchNormalization, Activation, Dropout,LSTM,GlobalAveragePooling2D\n",
    "from keras.layers.convolutional import Conv3D, MaxPooling3D,Conv2D,MaxPooling2D\n",
    "from keras.callbacks import ModelCheckpoint, ReduceLROnPlateau,EarlyStopping\n",
    "from keras import optimizers\n",
    "from tensorflow.keras import regularizers\n",
    "\n",
    "#additional imports\n",
    "from keras.applications.resnet50 import ResNet50\n",
    "from keras.applications import MobileNet\n",
    "\n",
    "from keras.models import Model\n",
    "import keras\n",
    "\n",
    "\n",
    "#write your model here\n",
    "#Importing MobileNet as we need a model with optimal number of parameters and can be used in embedded devices such as mobiles/webcam\n"
   ]
  },
  {
   "cell_type": "code",
   "execution_count": 10,
   "metadata": {},
   "outputs": [
    {
     "name": "stdout",
     "output_type": "stream",
     "text": [
      "Model: \"model_1\"\n",
      "_________________________________________________________________\n",
      "Layer (type)                 Output Shape              Param #   \n",
      "=================================================================\n",
      "input_1 (InputLayer)         (None, 128, 128, 3)       0         \n",
      "_________________________________________________________________\n",
      "conv1_pad (ZeroPadding2D)    (None, 129, 129, 3)       0         \n",
      "_________________________________________________________________\n",
      "conv1 (Conv2D)               (None, 64, 64, 32)        864       \n",
      "_________________________________________________________________\n",
      "conv1_bn (BatchNormalization (None, 64, 64, 32)        128       \n",
      "_________________________________________________________________\n",
      "conv1_relu (ReLU)            (None, 64, 64, 32)        0         \n",
      "_________________________________________________________________\n",
      "conv_dw_1 (DepthwiseConv2D)  (None, 64, 64, 32)        288       \n",
      "_________________________________________________________________\n",
      "conv_dw_1_bn (BatchNormaliza (None, 64, 64, 32)        128       \n",
      "_________________________________________________________________\n",
      "conv_dw_1_relu (ReLU)        (None, 64, 64, 32)        0         \n",
      "_________________________________________________________________\n",
      "conv_pw_1 (Conv2D)           (None, 64, 64, 64)        2048      \n",
      "_________________________________________________________________\n",
      "conv_pw_1_bn (BatchNormaliza (None, 64, 64, 64)        256       \n",
      "_________________________________________________________________\n",
      "conv_pw_1_relu (ReLU)        (None, 64, 64, 64)        0         \n",
      "_________________________________________________________________\n",
      "conv_pad_2 (ZeroPadding2D)   (None, 65, 65, 64)        0         \n",
      "_________________________________________________________________\n",
      "conv_dw_2 (DepthwiseConv2D)  (None, 32, 32, 64)        576       \n",
      "_________________________________________________________________\n",
      "conv_dw_2_bn (BatchNormaliza (None, 32, 32, 64)        256       \n",
      "_________________________________________________________________\n",
      "conv_dw_2_relu (ReLU)        (None, 32, 32, 64)        0         \n",
      "_________________________________________________________________\n",
      "conv_pw_2 (Conv2D)           (None, 32, 32, 128)       8192      \n",
      "_________________________________________________________________\n",
      "conv_pw_2_bn (BatchNormaliza (None, 32, 32, 128)       512       \n",
      "_________________________________________________________________\n",
      "conv_pw_2_relu (ReLU)        (None, 32, 32, 128)       0         \n",
      "_________________________________________________________________\n",
      "conv_dw_3 (DepthwiseConv2D)  (None, 32, 32, 128)       1152      \n",
      "_________________________________________________________________\n",
      "conv_dw_3_bn (BatchNormaliza (None, 32, 32, 128)       512       \n",
      "_________________________________________________________________\n",
      "conv_dw_3_relu (ReLU)        (None, 32, 32, 128)       0         \n",
      "_________________________________________________________________\n",
      "conv_pw_3 (Conv2D)           (None, 32, 32, 128)       16384     \n",
      "_________________________________________________________________\n",
      "conv_pw_3_bn (BatchNormaliza (None, 32, 32, 128)       512       \n",
      "_________________________________________________________________\n",
      "conv_pw_3_relu (ReLU)        (None, 32, 32, 128)       0         \n",
      "_________________________________________________________________\n",
      "conv_pad_4 (ZeroPadding2D)   (None, 33, 33, 128)       0         \n",
      "_________________________________________________________________\n",
      "conv_dw_4 (DepthwiseConv2D)  (None, 16, 16, 128)       1152      \n",
      "_________________________________________________________________\n",
      "conv_dw_4_bn (BatchNormaliza (None, 16, 16, 128)       512       \n",
      "_________________________________________________________________\n",
      "conv_dw_4_relu (ReLU)        (None, 16, 16, 128)       0         \n",
      "_________________________________________________________________\n",
      "conv_pw_4 (Conv2D)           (None, 16, 16, 256)       32768     \n",
      "_________________________________________________________________\n",
      "conv_pw_4_bn (BatchNormaliza (None, 16, 16, 256)       1024      \n",
      "_________________________________________________________________\n",
      "conv_pw_4_relu (ReLU)        (None, 16, 16, 256)       0         \n",
      "_________________________________________________________________\n",
      "conv_dw_5 (DepthwiseConv2D)  (None, 16, 16, 256)       2304      \n",
      "_________________________________________________________________\n",
      "conv_dw_5_bn (BatchNormaliza (None, 16, 16, 256)       1024      \n",
      "_________________________________________________________________\n",
      "conv_dw_5_relu (ReLU)        (None, 16, 16, 256)       0         \n",
      "_________________________________________________________________\n",
      "conv_pw_5 (Conv2D)           (None, 16, 16, 256)       65536     \n",
      "_________________________________________________________________\n",
      "conv_pw_5_bn (BatchNormaliza (None, 16, 16, 256)       1024      \n",
      "_________________________________________________________________\n",
      "conv_pw_5_relu (ReLU)        (None, 16, 16, 256)       0         \n",
      "_________________________________________________________________\n",
      "conv_pad_6 (ZeroPadding2D)   (None, 17, 17, 256)       0         \n",
      "_________________________________________________________________\n",
      "conv_dw_6 (DepthwiseConv2D)  (None, 8, 8, 256)         2304      \n",
      "_________________________________________________________________\n",
      "conv_dw_6_bn (BatchNormaliza (None, 8, 8, 256)         1024      \n",
      "_________________________________________________________________\n",
      "conv_dw_6_relu (ReLU)        (None, 8, 8, 256)         0         \n",
      "_________________________________________________________________\n",
      "conv_pw_6 (Conv2D)           (None, 8, 8, 512)         131072    \n",
      "_________________________________________________________________\n",
      "conv_pw_6_bn (BatchNormaliza (None, 8, 8, 512)         2048      \n",
      "_________________________________________________________________\n",
      "conv_pw_6_relu (ReLU)        (None, 8, 8, 512)         0         \n",
      "_________________________________________________________________\n",
      "conv_dw_7 (DepthwiseConv2D)  (None, 8, 8, 512)         4608      \n",
      "_________________________________________________________________\n",
      "conv_dw_7_bn (BatchNormaliza (None, 8, 8, 512)         2048      \n",
      "_________________________________________________________________\n",
      "conv_dw_7_relu (ReLU)        (None, 8, 8, 512)         0         \n",
      "_________________________________________________________________\n",
      "conv_pw_7 (Conv2D)           (None, 8, 8, 512)         262144    \n",
      "_________________________________________________________________\n",
      "conv_pw_7_bn (BatchNormaliza (None, 8, 8, 512)         2048      \n",
      "_________________________________________________________________\n",
      "conv_pw_7_relu (ReLU)        (None, 8, 8, 512)         0         \n",
      "_________________________________________________________________\n",
      "conv_dw_8 (DepthwiseConv2D)  (None, 8, 8, 512)         4608      \n",
      "_________________________________________________________________\n",
      "conv_dw_8_bn (BatchNormaliza (None, 8, 8, 512)         2048      \n",
      "_________________________________________________________________\n",
      "conv_dw_8_relu (ReLU)        (None, 8, 8, 512)         0         \n",
      "_________________________________________________________________\n",
      "conv_pw_8 (Conv2D)           (None, 8, 8, 512)         262144    \n",
      "_________________________________________________________________\n",
      "conv_pw_8_bn (BatchNormaliza (None, 8, 8, 512)         2048      \n",
      "_________________________________________________________________\n",
      "conv_pw_8_relu (ReLU)        (None, 8, 8, 512)         0         \n",
      "_________________________________________________________________\n",
      "conv_dw_9 (DepthwiseConv2D)  (None, 8, 8, 512)         4608      \n",
      "_________________________________________________________________\n",
      "conv_dw_9_bn (BatchNormaliza (None, 8, 8, 512)         2048      \n",
      "_________________________________________________________________\n",
      "conv_dw_9_relu (ReLU)        (None, 8, 8, 512)         0         \n",
      "_________________________________________________________________\n",
      "conv_pw_9 (Conv2D)           (None, 8, 8, 512)         262144    \n",
      "_________________________________________________________________\n",
      "conv_pw_9_bn (BatchNormaliza (None, 8, 8, 512)         2048      \n",
      "_________________________________________________________________\n",
      "conv_pw_9_relu (ReLU)        (None, 8, 8, 512)         0         \n",
      "_________________________________________________________________\n",
      "conv_dw_10 (DepthwiseConv2D) (None, 8, 8, 512)         4608      \n",
      "_________________________________________________________________\n",
      "conv_dw_10_bn (BatchNormaliz (None, 8, 8, 512)         2048      \n",
      "_________________________________________________________________\n",
      "conv_dw_10_relu (ReLU)       (None, 8, 8, 512)         0         \n",
      "_________________________________________________________________\n",
      "conv_pw_10 (Conv2D)          (None, 8, 8, 512)         262144    \n",
      "_________________________________________________________________\n",
      "conv_pw_10_bn (BatchNormaliz (None, 8, 8, 512)         2048      \n",
      "_________________________________________________________________\n",
      "conv_pw_10_relu (ReLU)       (None, 8, 8, 512)         0         \n",
      "_________________________________________________________________\n",
      "conv_dw_11 (DepthwiseConv2D) (None, 8, 8, 512)         4608      \n",
      "_________________________________________________________________\n",
      "conv_dw_11_bn (BatchNormaliz (None, 8, 8, 512)         2048      \n",
      "_________________________________________________________________\n",
      "conv_dw_11_relu (ReLU)       (None, 8, 8, 512)         0         \n",
      "_________________________________________________________________\n",
      "conv_pw_11 (Conv2D)          (None, 8, 8, 512)         262144    \n",
      "_________________________________________________________________\n",
      "conv_pw_11_bn (BatchNormaliz (None, 8, 8, 512)         2048      \n",
      "_________________________________________________________________\n",
      "conv_pw_11_relu (ReLU)       (None, 8, 8, 512)         0         \n",
      "_________________________________________________________________\n",
      "conv_pad_12 (ZeroPadding2D)  (None, 9, 9, 512)         0         \n",
      "_________________________________________________________________\n",
      "conv_dw_12 (DepthwiseConv2D) (None, 4, 4, 512)         4608      \n",
      "_________________________________________________________________\n",
      "conv_dw_12_bn (BatchNormaliz (None, 4, 4, 512)         2048      \n",
      "_________________________________________________________________\n",
      "conv_dw_12_relu (ReLU)       (None, 4, 4, 512)         0         \n",
      "_________________________________________________________________\n",
      "conv_pw_12 (Conv2D)          (None, 4, 4, 1024)        524288    \n",
      "_________________________________________________________________\n",
      "conv_pw_12_bn (BatchNormaliz (None, 4, 4, 1024)        4096      \n",
      "_________________________________________________________________\n",
      "conv_pw_12_relu (ReLU)       (None, 4, 4, 1024)        0         \n",
      "_________________________________________________________________\n",
      "conv_dw_13 (DepthwiseConv2D) (None, 4, 4, 1024)        9216      \n",
      "_________________________________________________________________\n",
      "conv_dw_13_bn (BatchNormaliz (None, 4, 4, 1024)        4096      \n",
      "_________________________________________________________________\n",
      "conv_dw_13_relu (ReLU)       (None, 4, 4, 1024)        0         \n",
      "_________________________________________________________________\n",
      "conv_pw_13 (Conv2D)          (None, 4, 4, 1024)        1048576   \n",
      "_________________________________________________________________\n",
      "conv_pw_13_bn (BatchNormaliz (None, 4, 4, 1024)        4096      \n",
      "_________________________________________________________________\n",
      "conv_pw_13_relu (ReLU)       (None, 4, 4, 1024)        0         \n",
      "_________________________________________________________________\n",
      "global_average_pooling2d_1 ( (None, 1024)              0         \n",
      "=================================================================\n",
      "Total params: 3,228,864\n",
      "Trainable params: 0\n",
      "Non-trainable params: 3,228,864\n",
      "_________________________________________________________________\n"
     ]
    }
   ],
   "source": [
    "restnet = MobileNet(include_top=False, weights='imagenet', input_shape=(img_size,img_size,3))\n",
    "output = restnet.layers[-1].output\n",
    "output= GlobalAveragePooling2D()(output)\n",
    "restnet = Model(inputs=restnet.input, outputs=output)\n",
    "for layer in restnet.layers:\n",
    "    layer.trainable = False\n",
    "restnet.summary()"
   ]
  },
  {
   "cell_type": "code",
   "execution_count": 11,
   "metadata": {},
   "outputs": [
    {
     "data": {
      "text/plain": [
       "88"
      ]
     },
     "execution_count": 11,
     "metadata": {},
     "output_type": "execute_result"
    }
   ],
   "source": [
    "len(restnet.layers)"
   ]
  },
  {
   "cell_type": "code",
   "execution_count": 12,
   "metadata": {},
   "outputs": [],
   "source": [
    "split_at = 75\n",
    "for layer in restnet.layers[:split_at]: layer.trainable = False\n",
    "for layer in restnet.layers[split_at:]: layer.trainable = True"
   ]
  },
  {
   "cell_type": "code",
   "execution_count": 13,
   "metadata": {},
   "outputs": [
    {
     "name": "stdout",
     "output_type": "stream",
     "text": [
      "Model: \"sequential_1\"\n",
      "_________________________________________________________________\n",
      "Layer (type)                 Output Shape              Param #   \n",
      "=================================================================\n",
      "time_distributed_1 (TimeDist (None, 15, 1024)          3228864   \n",
      "_________________________________________________________________\n",
      "dropout_1 (Dropout)          (None, 15, 1024)          0         \n",
      "_________________________________________________________________\n",
      "gru_1 (GRU)                  (None, 15, 16)            49968     \n",
      "_________________________________________________________________\n",
      "dropout_2 (Dropout)          (None, 15, 16)            0         \n",
      "_________________________________________________________________\n",
      "gru_2 (GRU)                  (None, 16)                1584      \n",
      "_________________________________________________________________\n",
      "dropout_3 (Dropout)          (None, 16)                0         \n",
      "_________________________________________________________________\n",
      "dense_1 (Dense)              (None, 5)                 85        \n",
      "=================================================================\n",
      "Total params: 3,280,501\n",
      "Trainable params: 1,645,493\n",
      "Non-trainable params: 1,635,008\n",
      "_________________________________________________________________\n"
     ]
    }
   ],
   "source": [
    "model=Sequential()\n",
    "model.add(TimeDistributed(restnet,input_shape=(no_of_images_in_folder,img_size,img_size,3)))\n",
    "model.add(Dropout(0.5))\n",
    "model.add(GRU(16,activation='relu',return_sequences=True))\n",
    "model.add(Dropout(0.5))\n",
    "model.add(GRU(16,activation='relu'))\n",
    "model.add(Dropout(0.5))\n",
    "# softmax layer\n",
    "model.add(Dense(5, activation='softmax'))\n",
    "# model summary\n",
    "model.summary()"
   ]
  },
  {
   "cell_type": "markdown",
   "metadata": {},
   "source": [
    "Now that you have written the model, the next step is to `compile` the model. When you print the `summary` of the model, you'll see the total number of parameters you have to train."
   ]
  },
  {
   "cell_type": "code",
   "execution_count": 14,
   "metadata": {
    "scrolled": true
   },
   "outputs": [
    {
     "name": "stdout",
     "output_type": "stream",
     "text": [
      "Model: \"sequential_1\"\n",
      "_________________________________________________________________\n",
      "Layer (type)                 Output Shape              Param #   \n",
      "=================================================================\n",
      "time_distributed_1 (TimeDist (None, 15, 1024)          3228864   \n",
      "_________________________________________________________________\n",
      "dropout_1 (Dropout)          (None, 15, 1024)          0         \n",
      "_________________________________________________________________\n",
      "gru_1 (GRU)                  (None, 15, 16)            49968     \n",
      "_________________________________________________________________\n",
      "dropout_2 (Dropout)          (None, 15, 16)            0         \n",
      "_________________________________________________________________\n",
      "gru_2 (GRU)                  (None, 16)                1584      \n",
      "_________________________________________________________________\n",
      "dropout_3 (Dropout)          (None, 16)                0         \n",
      "_________________________________________________________________\n",
      "dense_1 (Dense)              (None, 5)                 85        \n",
      "=================================================================\n",
      "Total params: 3,280,501\n",
      "Trainable params: 1,645,493\n",
      "Non-trainable params: 1,635,008\n",
      "_________________________________________________________________\n",
      "None\n"
     ]
    }
   ],
   "source": [
    "optimiser = optimizers.adam()\n",
    "model.compile(optimizer=optimiser, loss='categorical_crossentropy', metrics=['categorical_accuracy'])\n",
    "print (model.summary())"
   ]
  },
  {
   "cell_type": "markdown",
   "metadata": {},
   "source": [
    "Let us create the `train_generator` and the `val_generator` which will be used in `.fit_generator`."
   ]
  },
  {
   "cell_type": "code",
   "execution_count": 15,
   "metadata": {},
   "outputs": [],
   "source": [
    "train_generator = generator(train_path, train_doc, batch_size)\n",
    "val_generator = generator(val_path, val_doc, batch_size)"
   ]
  },
  {
   "cell_type": "code",
   "execution_count": 16,
   "metadata": {},
   "outputs": [],
   "source": [
    "model_name = 'model_init' + '_' + str(curr_dt_time).replace(' ','').replace(':','_') + '/'\n",
    "    \n",
    "if not os.path.exists(model_name):\n",
    "    os.mkdir(model_name)\n",
    "        \n",
    "filepath = model_name + 'model-{epoch:05d}-{loss:.5f}-{categorical_accuracy:.5f}-{val_loss:.5f}-{val_categorical_accuracy:.5f}.h5'\n",
    "\n",
    "checkpoint = ModelCheckpoint(filepath, monitor='val_loss', verbose=1, save_best_only=False, save_weights_only=False, mode='auto', period=1)\n",
    "\n",
    "LR =  ReduceLROnPlateau(monitor='val_loss', factor=0.2,patience=5, min_lr=0.0001)\n",
    "callbacks_list = [checkpoint,LR]"
   ]
  },
  {
   "cell_type": "markdown",
   "metadata": {},
   "source": [
    "The `steps_per_epoch` and `validation_steps` are used by `fit_generator` to decide the number of next() calls it need to make."
   ]
  },
  {
   "cell_type": "code",
   "execution_count": 17,
   "metadata": {},
   "outputs": [],
   "source": [
    "if (num_train_sequences%batch_size) == 0:\n",
    "    steps_per_epoch = int(num_train_sequences/batch_size)\n",
    "else:\n",
    "    steps_per_epoch = (num_train_sequences//batch_size) + 1\n",
    "\n",
    "if (num_val_sequences%batch_size) == 0:\n",
    "    validation_steps = int(num_val_sequences/batch_size)\n",
    "else:\n",
    "    validation_steps = (num_val_sequences//batch_size) + 1"
   ]
  },
  {
   "cell_type": "markdown",
   "metadata": {},
   "source": [
    "Let us now fit the model. This will start training the model and with the help of the checkpoints, you'll be able to save the model at the end of each epoch."
   ]
  },
  {
   "cell_type": "code",
   "execution_count": 18,
   "metadata": {
    "scrolled": true
   },
   "outputs": [
    {
     "name": "stdout",
     "output_type": "stream",
     "text": [
      "Epoch 1/50Source path = \n",
      "Source path =   D:\\upgrad\\gesturerecognition/Project_data/train ; batch size = 30D:\\upgrad\\gesturerecognition/Project_data/val\n",
      " ; batch size = 30\n",
      "23/23 [==============================] - 242s 11s/step - loss: 1.5958 - categorical_accuracy: 0.2866 - val_loss: 1.5521 - val_categorical_accuracy: 0.3600\n",
      "\n",
      "Epoch 00001: saving model to model_init_2020-09-1310_25_03.767652/model-00001-1.59132-0.28658-1.55210-0.36000.h5\n",
      "Epoch 2/50\n",
      "23/23 [==============================] - 179s 8s/step - loss: 1.4064 - categorical_accuracy: 0.3741 - val_loss: 1.6081 - val_categorical_accuracy: 0.2500\n",
      "\n",
      "Epoch 00002: saving model to model_init_2020-09-1310_25_03.767652/model-00002-1.40399-0.37406-1.60810-0.25000.h5\n",
      "Epoch 3/50\n",
      "23/23 [==============================] - 178s 8s/step - loss: 1.2396 - categorical_accuracy: 0.5309 - val_loss: 1.6005 - val_categorical_accuracy: 0.5400\n",
      "\n",
      "Epoch 00003: saving model to model_init_2020-09-1310_25_03.767652/model-00003-1.23472-0.53092-1.60046-0.54000.h5\n",
      "Epoch 4/50\n",
      "23/23 [==============================] - 178s 8s/step - loss: 1.1265 - categorical_accuracy: 0.5535 - val_loss: 1.5675 - val_categorical_accuracy: 0.5000\n",
      "\n",
      "Epoch 00004: saving model to model_init_2020-09-1310_25_03.767652/model-00004-1.13046-0.55354-1.56751-0.50000.h5\n",
      "Epoch 5/50\n",
      "23/23 [==============================] - 178s 8s/step - loss: 0.9953 - categorical_accuracy: 0.6471 - val_loss: 1.2336 - val_categorical_accuracy: 0.3900\n",
      "\n",
      "Epoch 00005: saving model to model_init_2020-09-1310_25_03.767652/model-00005-0.97881-0.64706-1.23357-0.39000.h5\n",
      "Epoch 6/50\n",
      "23/23 [==============================] - 179s 8s/step - loss: 0.8757 - categorical_accuracy: 0.6983 - val_loss: 1.3376 - val_categorical_accuracy: 0.4200\n",
      "\n",
      "Epoch 00006: saving model to model_init_2020-09-1310_25_03.767652/model-00006-0.81336-0.69834-1.33762-0.42000.h5\n",
      "Epoch 7/50\n",
      "23/23 [==============================] - 178s 8s/step - loss: 0.8092 - categorical_accuracy: 0.7738 - val_loss: 4.1868 - val_categorical_accuracy: 0.2200\n",
      "\n",
      "Epoch 00007: saving model to model_init_2020-09-1310_25_03.767652/model-00007-0.78632-0.77376-4.18677-0.22000.h5\n",
      "Epoch 8/50\n",
      "23/23 [==============================] - 178s 8s/step - loss: 0.6707 - categorical_accuracy: 0.8100 - val_loss: 4.9605 - val_categorical_accuracy: 0.2000\n",
      "\n",
      "Epoch 00008: saving model to model_init_2020-09-1310_25_03.767652/model-00008-0.67621-0.80995-4.96049-0.20000.h5\n",
      "Epoch 9/50\n",
      "23/23 [==============================] - 178s 8s/step - loss: 0.6014 - categorical_accuracy: 0.8537 - val_loss: 2.0691 - val_categorical_accuracy: 0.4200\n",
      "\n",
      "Epoch 00009: saving model to model_init_2020-09-1310_25_03.767652/model-00009-0.60184-0.85370-2.06908-0.42000.h5\n",
      "Epoch 10/50\n",
      "23/23 [==============================] - 179s 8s/step - loss: 0.5569 - categorical_accuracy: 0.8462 - val_loss: 1.4755 - val_categorical_accuracy: 0.5800\n",
      "\n",
      "Epoch 00010: saving model to model_init_2020-09-1310_25_03.767652/model-00010-0.54207-0.84615-1.47547-0.58000.h5\n",
      "Epoch 11/50\n",
      "23/23 [==============================] - 179s 8s/step - loss: 0.4996 - categorical_accuracy: 0.8748 - val_loss: 2.1850 - val_categorical_accuracy: 0.5900\n",
      "\n",
      "Epoch 00011: saving model to model_init_2020-09-1310_25_03.767652/model-00011-0.49599-0.87481-2.18502-0.59000.h5\n",
      "Epoch 12/50\n",
      "23/23 [==============================] - 184s 8s/step - loss: 0.4907 - categorical_accuracy: 0.8808 - val_loss: 2.0033 - val_categorical_accuracy: 0.5900\n",
      "\n",
      "Epoch 00012: saving model to model_init_2020-09-1310_25_03.767652/model-00012-0.48251-0.88084-2.00329-0.59000.h5\n",
      "Epoch 13/50\n",
      "23/23 [==============================] - 181s 8s/step - loss: 0.4508 - categorical_accuracy: 0.9095 - val_loss: 1.2552 - val_categorical_accuracy: 0.5900\n",
      "\n",
      "Epoch 00013: saving model to model_init_2020-09-1310_25_03.767652/model-00013-0.46796-0.90950-1.25521-0.59000.h5\n",
      "Epoch 14/50\n",
      "23/23 [==============================] - 178s 8s/step - loss: 0.5068 - categorical_accuracy: 0.8748 - val_loss: 0.9252 - val_categorical_accuracy: 0.6000\n",
      "\n",
      "Epoch 00014: saving model to model_init_2020-09-1310_25_03.767652/model-00014-0.49188-0.87481-0.92524-0.60000.h5\n",
      "Epoch 15/50\n",
      "23/23 [==============================] - 179s 8s/step - loss: 0.5261 - categorical_accuracy: 0.8627 - val_loss: 1.4536 - val_categorical_accuracy: 0.6300\n",
      "\n",
      "Epoch 00015: saving model to model_init_2020-09-1310_25_03.767652/model-00015-0.52756-0.86275-1.45363-0.63000.h5\n",
      "Epoch 16/50\n",
      "23/23 [==============================] - 179s 8s/step - loss: 0.5516 - categorical_accuracy: 0.8431 - val_loss: 1.4152 - val_categorical_accuracy: 0.6300\n",
      "\n",
      "Epoch 00016: saving model to model_init_2020-09-1310_25_03.767652/model-00016-0.52302-0.84314-1.41517-0.63000.h5\n",
      "Epoch 17/50\n",
      "23/23 [==============================] - 178s 8s/step - loss: 0.5094 - categorical_accuracy: 0.8914 - val_loss: 0.8670 - val_categorical_accuracy: 0.7300\n",
      "\n",
      "Epoch 00017: saving model to model_init_2020-09-1310_25_03.767652/model-00017-0.49732-0.89140-0.86702-0.73000.h5\n",
      "Epoch 18/50\n",
      "23/23 [==============================] - 178s 8s/step - loss: 0.4905 - categorical_accuracy: 0.8929 - val_loss: 0.6613 - val_categorical_accuracy: 0.7900\n",
      "\n",
      "Epoch 00018: saving model to model_init_2020-09-1310_25_03.767652/model-00018-0.49062-0.89291-0.66131-0.79000.h5\n",
      "Epoch 19/50\n",
      "23/23 [==============================] - 179s 8s/step - loss: 0.4955 - categorical_accuracy: 0.8778 - val_loss: 0.8733 - val_categorical_accuracy: 0.7700\n",
      "\n",
      "Epoch 00019: saving model to model_init_2020-09-1310_25_03.767652/model-00019-0.50272-0.87783-0.87327-0.77000.h5\n",
      "Epoch 20/50\n",
      "23/23 [==============================] - 178s 8s/step - loss: 0.5165 - categorical_accuracy: 0.9005 - val_loss: 0.9874 - val_categorical_accuracy: 0.8200\n",
      "\n",
      "Epoch 00020: saving model to model_init_2020-09-1310_25_03.767652/model-00020-0.45255-0.90045-0.98744-0.82000.h5\n",
      "Epoch 21/50\n",
      "23/23 [==============================] - 179s 8s/step - loss: 0.4516 - categorical_accuracy: 0.8959 - val_loss: 0.3236 - val_categorical_accuracy: 0.8300\n",
      "\n",
      "Epoch 00021: saving model to model_init_2020-09-1310_25_03.767652/model-00021-0.46239-0.89593-0.32364-0.83000.h5\n",
      "Epoch 22/50\n",
      "23/23 [==============================] - 178s 8s/step - loss: 0.4787 - categorical_accuracy: 0.8869 - val_loss: 0.5470 - val_categorical_accuracy: 0.8300\n",
      "\n",
      "Epoch 00022: saving model to model_init_2020-09-1310_25_03.767652/model-00022-0.46698-0.88688-0.54695-0.83000.h5\n",
      "Epoch 23/50\n",
      "23/23 [==============================] - 178s 8s/step - loss: 0.4518 - categorical_accuracy: 0.9020 - val_loss: 0.9552 - val_categorical_accuracy: 0.8000\n",
      "\n",
      "Epoch 00023: saving model to model_init_2020-09-1310_25_03.767652/model-00023-0.42469-0.90196-0.95516-0.80000.h5\n",
      "Epoch 24/50\n",
      "23/23 [==============================] - 179s 8s/step - loss: 0.5013 - categorical_accuracy: 0.8854 - val_loss: 0.5187 - val_categorical_accuracy: 0.8800\n",
      "\n",
      "Epoch 00024: saving model to model_init_2020-09-1310_25_03.767652/model-00024-0.44378-0.88537-0.51873-0.88000.h5\n",
      "Epoch 25/50\n",
      "23/23 [==============================] - 179s 8s/step - loss: 0.4584 - categorical_accuracy: 0.9050 - val_loss: 0.9117 - val_categorical_accuracy: 0.7500\n",
      "\n",
      "Epoch 00025: saving model to model_init_2020-09-1310_25_03.767652/model-00025-0.44017-0.90498-0.91168-0.75000.h5\n",
      "Epoch 26/50\n",
      "23/23 [==============================] - 179s 8s/step - loss: 0.4574 - categorical_accuracy: 0.9095 - val_loss: 0.4386 - val_categorical_accuracy: 0.8000\n",
      "\n",
      "Epoch 00026: saving model to model_init_2020-09-1310_25_03.767652/model-00026-0.42683-0.90950-0.43863-0.80000.h5\n",
      "Epoch 27/50\n",
      "23/23 [==============================] - 179s 8s/step - loss: 0.4388 - categorical_accuracy: 0.8989 - val_loss: 1.0214 - val_categorical_accuracy: 0.8300\n",
      "\n",
      "Epoch 00027: saving model to model_init_2020-09-1310_25_03.767652/model-00027-0.44004-0.89894-1.02144-0.83000.h5\n",
      "Epoch 28/50\n",
      "23/23 [==============================] - 179s 8s/step - loss: 0.4114 - categorical_accuracy: 0.9065 - val_loss: 0.6650 - val_categorical_accuracy: 0.8600\n",
      "\n",
      "Epoch 00028: saving model to model_init_2020-09-1310_25_03.767652/model-00028-0.42747-0.90649-0.66503-0.86000.h5\n",
      "Epoch 29/50\n",
      "23/23 [==============================] - 178s 8s/step - loss: 0.3915 - categorical_accuracy: 0.9216 - val_loss: 0.9660 - val_categorical_accuracy: 0.8600\n",
      "\n",
      "Epoch 00029: saving model to model_init_2020-09-1310_25_03.767652/model-00029-0.38502-0.92157-0.96604-0.86000.h5\n"
     ]
    },
    {
     "name": "stdout",
     "output_type": "stream",
     "text": [
      "Epoch 30/50\n",
      "23/23 [==============================] - 179s 8s/step - loss: 0.4091 - categorical_accuracy: 0.9170 - val_loss: 0.9282 - val_categorical_accuracy: 0.8700\n",
      "\n",
      "Epoch 00030: saving model to model_init_2020-09-1310_25_03.767652/model-00030-0.40753-0.91704-0.92821-0.87000.h5\n",
      "Epoch 31/50\n",
      "23/23 [==============================] - 178s 8s/step - loss: 0.4689 - categorical_accuracy: 0.8974 - val_loss: 0.5849 - val_categorical_accuracy: 0.8700\n",
      "\n",
      "Epoch 00031: saving model to model_init_2020-09-1310_25_03.767652/model-00031-0.42773-0.89744-0.58491-0.87000.h5\n",
      "Epoch 32/50\n",
      "23/23 [==============================] - 178s 8s/step - loss: 0.5159 - categorical_accuracy: 0.8778 - val_loss: 0.2275 - val_categorical_accuracy: 0.8700\n",
      "\n",
      "Epoch 00032: saving model to model_init_2020-09-1310_25_03.767652/model-00032-0.46137-0.87783-0.22747-0.87000.h5\n",
      "Epoch 33/50\n",
      "23/23 [==============================] - 178s 8s/step - loss: 0.3944 - categorical_accuracy: 0.9291 - val_loss: 0.4922 - val_categorical_accuracy: 0.8700\n",
      "\n",
      "Epoch 00033: saving model to model_init_2020-09-1310_25_03.767652/model-00033-0.38714-0.92911-0.49220-0.87000.h5\n",
      "Epoch 34/50\n",
      "23/23 [==============================] - 179s 8s/step - loss: 0.5457 - categorical_accuracy: 0.9155 - val_loss: 0.5709 - val_categorical_accuracy: 0.8800\n",
      "\n",
      "Epoch 00034: saving model to model_init_2020-09-1310_25_03.767652/model-00034-0.42446-0.91554-0.57091-0.88000.h5\n",
      "Epoch 35/50\n",
      "23/23 [==============================] - 178s 8s/step - loss: 0.4289 - categorical_accuracy: 0.9065 - val_loss: 0.6813 - val_categorical_accuracy: 0.8600\n",
      "\n",
      "Epoch 00035: saving model to model_init_2020-09-1310_25_03.767652/model-00035-0.42672-0.90649-0.68127-0.86000.h5\n",
      "Epoch 36/50\n",
      "23/23 [==============================] - 178s 8s/step - loss: 0.5197 - categorical_accuracy: 0.8974 - val_loss: 0.4896 - val_categorical_accuracy: 0.8600\n",
      "\n",
      "Epoch 00036: saving model to model_init_2020-09-1310_25_03.767652/model-00036-0.43132-0.89744-0.48961-0.86000.h5\n",
      "Epoch 37/50\n",
      "23/23 [==============================] - 178s 8s/step - loss: 0.4304 - categorical_accuracy: 0.8989 - val_loss: 0.3792 - val_categorical_accuracy: 0.8600\n",
      "\n",
      "Epoch 00037: saving model to model_init_2020-09-1310_25_03.767652/model-00037-0.42988-0.89894-0.37917-0.86000.h5\n",
      "Epoch 38/50\n",
      "23/23 [==============================] - 178s 8s/step - loss: 0.4826 - categorical_accuracy: 0.9246 - val_loss: 0.3414 - val_categorical_accuracy: 0.8800\n",
      "\n",
      "Epoch 00038: saving model to model_init_2020-09-1310_25_03.767652/model-00038-0.40700-0.92459-0.34137-0.88000.h5\n",
      "Epoch 39/50\n",
      "23/23 [==============================] - 179s 8s/step - loss: 0.4088 - categorical_accuracy: 0.9065 - val_loss: 0.2431 - val_categorical_accuracy: 0.8600\n",
      "\n",
      "Epoch 00039: saving model to model_init_2020-09-1310_25_03.767652/model-00039-0.42476-0.90649-0.24306-0.86000.h5\n",
      "Epoch 40/50\n",
      "23/23 [==============================] - 178s 8s/step - loss: 0.3943 - categorical_accuracy: 0.9050 - val_loss: 0.7833 - val_categorical_accuracy: 0.8600\n",
      "\n",
      "Epoch 00040: saving model to model_init_2020-09-1310_25_03.767652/model-00040-0.40798-0.90498-0.78335-0.86000.h5\n",
      "Epoch 41/50\n",
      "23/23 [==============================] - 179s 8s/step - loss: 0.3999 - categorical_accuracy: 0.9186 - val_loss: 0.4846 - val_categorical_accuracy: 0.8800\n",
      "\n",
      "Epoch 00041: saving model to model_init_2020-09-1310_25_03.767652/model-00041-0.39925-0.91855-0.48459-0.88000.h5\n",
      "Epoch 42/50\n",
      "23/23 [==============================] - 179s 8s/step - loss: 0.4272 - categorical_accuracy: 0.9005 - val_loss: 0.2284 - val_categorical_accuracy: 0.8900\n",
      "\n",
      "Epoch 00042: saving model to model_init_2020-09-1310_25_03.767652/model-00042-0.42673-0.90045-0.22835-0.89000.h5\n",
      "Epoch 43/50\n",
      "23/23 [==============================] - 187s 8s/step - loss: 0.4037 - categorical_accuracy: 0.9065 - val_loss: 0.6392 - val_categorical_accuracy: 0.8900\n",
      "\n",
      "Epoch 00043: saving model to model_init_2020-09-1310_25_03.767652/model-00043-0.40277-0.90649-0.63918-0.89000.h5\n",
      "Epoch 44/50\n",
      "23/23 [==============================] - 178s 8s/step - loss: 0.3617 - categorical_accuracy: 0.9306 - val_loss: 0.2226 - val_categorical_accuracy: 0.8900\n",
      "\n",
      "Epoch 00044: saving model to model_init_2020-09-1310_25_03.767652/model-00044-0.36592-0.93062-0.22263-0.89000.h5\n",
      "Epoch 45/50\n",
      "23/23 [==============================] - 178s 8s/step - loss: 0.3803 - categorical_accuracy: 0.9261 - val_loss: 0.2035 - val_categorical_accuracy: 0.8900\n",
      "\n",
      "Epoch 00045: saving model to model_init_2020-09-1310_25_03.767652/model-00045-0.36269-0.92609-0.20345-0.89000.h5\n",
      "Epoch 46/50\n",
      "23/23 [==============================] - 179s 8s/step - loss: 0.4017 - categorical_accuracy: 0.9050 - val_loss: 0.3176 - val_categorical_accuracy: 0.8800\n",
      "\n",
      "Epoch 00046: saving model to model_init_2020-09-1310_25_03.767652/model-00046-0.39897-0.90498-0.31764-0.88000.h5\n",
      "Epoch 47/50\n",
      "23/23 [==============================] - 178s 8s/step - loss: 0.3729 - categorical_accuracy: 0.9216 - val_loss: 0.8633 - val_categorical_accuracy: 0.8800\n",
      "\n",
      "Epoch 00047: saving model to model_init_2020-09-1310_25_03.767652/model-00047-0.36904-0.92157-0.86327-0.88000.h5\n",
      "Epoch 48/50\n",
      "23/23 [==============================] - 179s 8s/step - loss: 0.3617 - categorical_accuracy: 0.9186 - val_loss: 0.4140 - val_categorical_accuracy: 0.8800\n",
      "\n",
      "Epoch 00048: saving model to model_init_2020-09-1310_25_03.767652/model-00048-0.37579-0.91855-0.41396-0.88000.h5\n",
      "Epoch 49/50\n",
      "23/23 [==============================] - 178s 8s/step - loss: 0.4559 - categorical_accuracy: 0.9095 - val_loss: 0.2435 - val_categorical_accuracy: 0.8800\n",
      "\n",
      "Epoch 00049: saving model to model_init_2020-09-1310_25_03.767652/model-00049-0.39115-0.90950-0.24352-0.88000.h5\n",
      "Epoch 50/50\n",
      "23/23 [==============================] - 179s 8s/step - loss: 0.3552 - categorical_accuracy: 0.9261 - val_loss: 0.3129 - val_categorical_accuracy: 0.8600\n",
      "\n",
      "Epoch 00050: saving model to model_init_2020-09-1310_25_03.767652/model-00050-0.36748-0.92609-0.31287-0.86000.h5\n"
     ]
    }
   ],
   "source": [
    "history=model.fit_generator(train_generator, steps_per_epoch=steps_per_epoch, epochs=num_epochs, verbose=1, \n",
    "                    callbacks=callbacks_list, validation_data=val_generator, \n",
    "                    validation_steps=validation_steps, class_weight=None, workers=1, initial_epoch=0)"
   ]
  },
  {
   "cell_type": "markdown",
   "metadata": {},
   "source": [
    "# Plots for Visual Analysis"
   ]
  },
  {
   "cell_type": "code",
   "execution_count": 19,
   "metadata": {},
   "outputs": [],
   "source": [
    "history_dropout=history"
   ]
  },
  {
   "cell_type": "code",
   "execution_count": 20,
   "metadata": {},
   "outputs": [
    {
     "data": {
      "image/png": "[encoded data removed]",
      "text/plain": [
       "<Figure size 432x288 with 1 Axes>"
      ]
     },
     "metadata": {
      "needs_background": "light"
     },
     "output_type": "display_data"
    }
   ],
   "source": [
    "loss = history_dropout.history['loss']\n",
    "val_loss = history_dropout.history['val_loss']\n",
    "epochs = range(1, len(loss) + 1)\n",
    "plt.plot(epochs, loss, 'y', label='Training loss')\n",
    "plt.plot(epochs, val_loss, 'r', label='Validation loss')\n",
    "plt.title('Training and validation loss')\n",
    "plt.xlabel('Epochs')\n",
    "plt.ylabel('Loss')\n",
    "plt.legend()\n",
    "plt.show()"
   ]
  },
  {
   "cell_type": "code",
   "execution_count": 21,
   "metadata": {},
   "outputs": [
    {
     "data": {
      "image/png": "[encoded data removed]",
      "text/plain": [
       "<Figure size 432x288 with 1 Axes>"
      ]
     },
     "metadata": {
      "needs_background": "light"
     },
     "output_type": "display_data"
    }
   ],
   "source": [
    "acc = history_dropout.history['categorical_accuracy']\n",
    "val_acc = history_dropout.history['val_categorical_accuracy']\n",
    "plt.plot(epochs, acc, 'y', label='Training acc')\n",
    "plt.plot(epochs, val_acc, 'r', label='Validation acc')\n",
    "plt.title('Training and validation accuracy')\n",
    "plt.xlabel('Epochs')\n",
    "plt.ylabel('Accuracy')\n",
    "plt.legend()\n",
    "plt.show()"
   ]
  },
  {
   "cell_type": "markdown",
   "metadata": {},
   "source": [
    "<b> Training Loss and Accuracy looks to be stable and increasing over epochs<br>\n",
    "    Validation Loss and Accuracy loos to waver a lot initially but gets stable after 20 epochs and gets increasing over epochs after that.<br>\n",
    "    From the plot model looks to be more stable at 42 epoch where both training and validation has accuracies of 0.90 and 0.89 repectively. So model weights at this epoch is taken as best possible model from this analysis    \n",
    "    "
   ]
  },
  {
   "cell_type": "code",
   "execution_count": null,
   "metadata": {},
   "outputs": [],
   "source": []
  }
 ],
 "metadata": {
  "kernelspec": {
   "display_name": "TensorFlow-GPU",
   "language": "python",
   "name": "tf-gpu"
  },
  "language_info": {
   "codemirror_mode": {
    "name": "ipython",
    "version": 3
   },
   "file_extension": ".py",
   "mimetype": "text/x-python",
   "name": "python",
   "nbconvert_exporter": "python",
   "pygments_lexer": "ipython3",
   "version": "3.7.9"
  }
 },
 "nbformat": 4,
 "nbformat_minor": 2
}
