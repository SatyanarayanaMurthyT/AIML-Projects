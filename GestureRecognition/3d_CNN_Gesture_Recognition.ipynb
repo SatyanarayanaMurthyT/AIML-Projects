{
 "cells": [
  {
   "cell_type": "markdown",
   "metadata": {},
   "source": [
    "# Gesture Recognition\n",
    "In this group project, you are going to build a 3D Conv model that will be able to predict the 5 gestures correctly. Please import the following libraries to get started."
   ]
  },
  {
   "cell_type": "code",
   "execution_count": 1,
   "metadata": {},
   "outputs": [],
   "source": [
    "import numpy as np\n",
    "import os\n",
    "#from scipy.misc import imread, imresize\n",
    "from skimage.transform import resize\n",
    "import datetime\n",
    "import os\n",
    "os.getcwd()\n",
    "from matplotlib.pyplot import imread"
   ]
  },
  {
   "cell_type": "markdown",
   "metadata": {},
   "source": [
    "We set the random seed so that the results don't vary drastically."
   ]
  },
  {
   "cell_type": "code",
   "execution_count": 2,
   "metadata": {},
   "outputs": [
    {
     "name": "stderr",
     "output_type": "stream",
     "text": [
      "Using TensorFlow backend.\n"
     ]
    }
   ],
   "source": [
    "np.random.seed(30)\n",
    "import random as rn\n",
    "rn.seed(30)\n",
    "from keras import backend as K\n",
    "import tensorflow as tf\n",
    "tf.random.set_seed(30)"
   ]
  },
  {
   "cell_type": "code",
   "execution_count": 3,
   "metadata": {},
   "outputs": [],
   "source": [
    "#additional libraries imported for visual analysis\n",
    "import matplotlib.pyplot as plt"
   ]
  },
  {
   "cell_type": "markdown",
   "metadata": {},
   "source": [
    "In this block, you read the folder names for training and validation. You also set the `batch_size` here. Note that you set the batch size in such a way that you are able to use the GPU in full capacity. You keep increasing the batch size until the machine throws an error."
   ]
  },
  {
   "cell_type": "code",
   "execution_count": 4,
   "metadata": {},
   "outputs": [],
   "source": [
    "train_doc = np.random.permutation(open(os.getcwd()+\"/Project_data/train.csv\").readlines())\n",
    "val_doc = np.random.permutation(open(os.getcwd()+\"/Project_data/val.csv\").readlines())\n",
    "batch_size = 30"
   ]
  },
  {
   "cell_type": "markdown",
   "metadata": {},
   "source": [
    "## Generator\n",
    "This is one of the most important part of the code. The overall structure of the generator has been given. In the generator, you are going to preprocess the images as you have images of 2 different dimensions as well as create a batch of video frames. You have to experiment with `img_idx`, `y`,`z` and normalization such that you get high accuracy."
   ]
  },
  {
   "cell_type": "code",
   "execution_count": 5,
   "metadata": {},
   "outputs": [],
   "source": [
    "img_size=60\n",
    "no_of_images_in_folder=15\n",
    "crop_value=0\n",
    "def generator(source_path, folder_list, batch_size):\n",
    "    print( 'Source path = ', source_path, '; batch size =', batch_size)\n",
    "    img_idx = list(range(0,30,2))\n",
    "    while True:\n",
    "        t = np.random.permutation(folder_list)\n",
    "        num_batches = int(len(t)/batch_size)\n",
    "        for batch in range(num_batches): # we iterate over the number of batches\n",
    "            batch_data = np.zeros((batch_size,len(img_idx),img_size,img_size,3)) # x is the number of images you use for each video, (y,z) is the final size of the input images and 3 is the number of channels RGB\n",
    "            batch_labels = np.zeros((batch_size,5)) # batch_labels is the one hot representation of the output\n",
    "            for folder in range(batch_size): # iterate over the batch_size\n",
    "                imgs = os.listdir(source_path+'/'+ t[folder + (batch*batch_size)].split(';')[0]) # read all the images in the folder\n",
    "                for idx,item in enumerate(img_idx): #  Iterate iver the frames/images of a folder to read them in\n",
    "                    image = imread(source_path+'/'+ t[folder + (batch*batch_size)].strip().split(';')[0]+'/'+imgs[item]).astype(np.float32)\n",
    "                    #crop the images and resize them. Note that the images are of 2 different shape \n",
    "                    #and the conv3D will throw error if the inputs in a batch have different shapes\n",
    "                    #image=image[crop_value:-crop_value,crop_value:-crop_value,:]\n",
    "                    image=resize(image[:,:,:],(img_size,img_size),anti_aliasing=True)\n",
    "                    batch_data[folder,idx,:,:,0] = (image[:,:,0] - np.percentile(image[:,:,0],5))/(np.percentile(image[:,:,0],95) - np.percentile(image[:,:,0],5))\n",
    "                    batch_data[folder,idx,:,:,1] = (image[:,:,1] - np.percentile(image[:,:,1],5))/(np.percentile(image[:,:,1],95) - np.percentile(image[:,:,1],5))\n",
    "                    batch_data[folder,idx,:,:,2] = (image[:,:,2] - np.percentile(image[:,:,2],5))/(np.percentile(image[:,:,2],95) - np.percentile(image[:,:,2],5))\n",
    "                batch_labels[folder, int(t[folder + (batch*batch_size)].strip().split(';')[2])] = 1\n",
    "            yield batch_data, batch_labels #you yield the batch_data and the batch_labels, remember what does yield do\n",
    "\n",
    "        \n",
    "        # write the code for the remaining data points which are left after full batches\n",
    "        rem_batch_size=len(t)-(num_batches*batch_size)\n",
    "        rem_batch_data = np.zeros((rem_batch_size,len(img_idx),img_size,img_size,3)) # x is the number of images you use for each video, (y,z) is the final size of the input images and 3 is the number of channels RGB\n",
    "        rem_batch_labels = np.zeros((rem_batch_size,5)) # batch_labels is the one hot representation of the output\n",
    "        for folder in range(rem_batch_size): # iterate over the batch_size\n",
    "            imgs = os.listdir(source_path+'/'+ t[folder+(num_batches*batch_size)].split(';')[0]) # read all the images in the folder\n",
    "            for idx,item in enumerate(img_idx): #  Iterate iver the frames/images of a folder to read them in\n",
    "                image = imread(source_path+'/'+ t[folder+(num_batches*batch_size)].strip().split(';')[0]+'/'+imgs[item]).astype(np.float32)\n",
    "                #image=image[crop_value:-crop_value,crop_value:-crop_value,:]\n",
    "                image=resize(image[:,:,:],(img_size,img_size),anti_aliasing=True)\n",
    "                rem_batch_data[folder,idx,:,:,0] = (image[:,:,0] - np.percentile(image[:,:,0],5))/(np.percentile(image[:,:,0],95) - np.percentile(image[:,:,0],5))\n",
    "                rem_batch_data[folder,idx,:,:,1] = (image[:,:,1] - np.percentile(image[:,:,1],5))/(np.percentile(image[:,:,1],95) - np.percentile(image[:,:,1],5))\n",
    "                rem_batch_data[folder,idx,:,:,2] = (image[:,:,2] - np.percentile(image[:,:,2],5))/(np.percentile(image[:,:,2],95) - np.percentile(image[:,:,2],5))\n",
    "            rem_batch_labels[folder, int(t[folder+(num_batches*batch_size)].strip().split(';')[2])] = 1\n",
    "        yield rem_batch_data, rem_batch_labels #you yield the batch_data and the batch_labels, remember what does yield do"
   ]
  },
  {
   "cell_type": "markdown",
   "metadata": {},
   "source": [
    "Note here that a video is represented above in the generator as (number of images, height, width, number of channels). Take this into consideration while creating the model architecture."
   ]
  },
  {
   "cell_type": "code",
   "execution_count": 6,
   "metadata": {},
   "outputs": [
    {
     "data": {
      "text/plain": [
       "'D:\\\\upgrad\\\\gesturerecognition'"
      ]
     },
     "execution_count": 6,
     "metadata": {},
     "output_type": "execute_result"
    }
   ],
   "source": [
    "import os\n",
    "os.getcwd()"
   ]
  },
  {
   "cell_type": "code",
   "execution_count": 7,
   "metadata": {},
   "outputs": [
    {
     "name": "stdout",
     "output_type": "stream",
     "text": [
      "# training sequences = 663\n",
      "# validation sequences = 100\n",
      "# epochs = 50\n"
     ]
    }
   ],
   "source": [
    "curr_dt_time = datetime.datetime.now()\n",
    "train_path = os.getcwd()+\"/Project_data/train\"\n",
    "val_path = os.getcwd()+\"/Project_data/val\"\n",
    "num_train_sequences = len(train_doc)\n",
    "print('# training sequences =', num_train_sequences)\n",
    "num_val_sequences = len(val_doc)\n",
    "print('# validation sequences =', num_val_sequences)\n",
    "num_epochs = 50\n",
    "print ('# epochs =', num_epochs)"
   ]
  },
  {
   "cell_type": "code",
   "execution_count": null,
   "metadata": {},
   "outputs": [],
   "source": []
  },
  {
   "cell_type": "markdown",
   "metadata": {},
   "source": [
    "## Model\n",
    "Here you make the model using different functionalities that Keras provides. Remember to use `Conv3D` and `MaxPooling3D` and not `Conv2D` and `Maxpooling2D` for a 3D convolution model. You would want to use `TimeDistributed` while building a Conv2D + RNN model. Also remember that the last layer is the softmax. Design the network in such a way that the model is able to give good accuracy on the least number of parameters so that it can fit in the memory of the webcam."
   ]
  },
  {
   "cell_type": "code",
   "execution_count": 8,
   "metadata": {},
   "outputs": [],
   "source": [
    "from keras import backend\n",
    "backend.set_image_data_format('channels_last')"
   ]
  },
  {
   "cell_type": "code",
   "execution_count": 9,
   "metadata": {},
   "outputs": [
    {
     "name": "stdout",
     "output_type": "stream",
     "text": [
      "Model: \"sequential_1\"\n",
      "_________________________________________________________________\n",
      "Layer (type)                 Output Shape              Param #   \n",
      "=================================================================\n",
      "conv3d_1 (Conv3D)            (None, 15, 60, 60, 8)     656       \n",
      "_________________________________________________________________\n",
      "max_pooling3d_1 (MaxPooling3 (None, 7, 30, 30, 8)      0         \n",
      "_________________________________________________________________\n",
      "dropout_1 (Dropout)          (None, 7, 30, 30, 8)      0         \n",
      "_________________________________________________________________\n",
      "conv3d_2 (Conv3D)            (None, 7, 30, 30, 16)     3472      \n",
      "_________________________________________________________________\n",
      "max_pooling3d_2 (MaxPooling3 (None, 3, 15, 15, 16)     0         \n",
      "_________________________________________________________________\n",
      "conv3d_3 (Conv3D)            (None, 3, 15, 15, 32)     13856     \n",
      "_________________________________________________________________\n",
      "max_pooling3d_3 (MaxPooling3 (None, 1, 7, 7, 32)       0         \n",
      "_________________________________________________________________\n",
      "dropout_2 (Dropout)          (None, 1, 7, 7, 32)       0         \n",
      "_________________________________________________________________\n",
      "flatten_1 (Flatten)          (None, 1568)              0         \n",
      "_________________________________________________________________\n",
      "dense_1 (Dense)              (None, 64)                100416    \n",
      "_________________________________________________________________\n",
      "dropout_3 (Dropout)          (None, 64)                0         \n",
      "_________________________________________________________________\n",
      "dense_2 (Dense)              (None, 5)                 325       \n",
      "=================================================================\n",
      "Total params: 118,725\n",
      "Trainable params: 118,725\n",
      "Non-trainable params: 0\n",
      "_________________________________________________________________\n"
     ]
    }
   ],
   "source": [
    "from keras.models import Sequential, Model\n",
    "from keras.layers import Dense, GRU, Flatten, TimeDistributed, Flatten, BatchNormalization, Activation, Dropout\n",
    "from keras.layers.convolutional import Conv3D, MaxPooling3D\n",
    "from keras.callbacks import ModelCheckpoint, ReduceLROnPlateau\n",
    "from keras import optimizers\n",
    "\n",
    "#write your model here\n",
    "model=Sequential()\n",
    "model.add(Conv3D(8, kernel_size=(3,3,3),\n",
    "                 activation='relu',\n",
    "                 input_shape=(no_of_images_in_folder, img_size, img_size, 3),padding='same'))\n",
    "model.add(MaxPooling3D(pool_size=(2, 2,2)))\n",
    "model.add(Dropout(0.5))\n",
    "\n",
    "model.add(Conv3D(16, kernel_size=(3,3,3),\n",
    "                 activation='relu',\n",
    "                 input_shape=(no_of_images_in_folder, img_size, img_size, 3),padding='same'))\n",
    "model.add(MaxPooling3D(pool_size=(2, 2,2)))\n",
    "\n",
    "model.add(Conv3D(32, kernel_size=(3,3,3),\n",
    "                 activation='relu',\n",
    "                 input_shape=(no_of_images_in_folder, img_size, img_size, 3),padding='same'))\n",
    "model.add(MaxPooling3D(pool_size=(2, 2,2)))\n",
    "# flatten and put a fully connected layer\n",
    "model.add(Dropout(0.5))\n",
    "model.add(Flatten())\n",
    "model.add(Dense(64, activation='relu'))\n",
    "model.add(Dropout(0.5))\n",
    "\n",
    "# softmax layer\n",
    "model.add(Dense(5, activation='softmax'))\n",
    "\n",
    "# model summary\n",
    "model.summary()\n"
   ]
  },
  {
   "cell_type": "markdown",
   "metadata": {},
   "source": [
    "Now that you have written the model, the next step is to `compile` the model. When you print the `summary` of the model, you'll see the total number of parameters you have to train."
   ]
  },
  {
   "cell_type": "code",
   "execution_count": 10,
   "metadata": {
    "scrolled": true
   },
   "outputs": [
    {
     "name": "stdout",
     "output_type": "stream",
     "text": [
      "Model: \"sequential_1\"\n",
      "_________________________________________________________________\n",
      "Layer (type)                 Output Shape              Param #   \n",
      "=================================================================\n",
      "conv3d_1 (Conv3D)            (None, 15, 60, 60, 8)     656       \n",
      "_________________________________________________________________\n",
      "max_pooling3d_1 (MaxPooling3 (None, 7, 30, 30, 8)      0         \n",
      "_________________________________________________________________\n",
      "dropout_1 (Dropout)          (None, 7, 30, 30, 8)      0         \n",
      "_________________________________________________________________\n",
      "conv3d_2 (Conv3D)            (None, 7, 30, 30, 16)     3472      \n",
      "_________________________________________________________________\n",
      "max_pooling3d_2 (MaxPooling3 (None, 3, 15, 15, 16)     0         \n",
      "_________________________________________________________________\n",
      "conv3d_3 (Conv3D)            (None, 3, 15, 15, 32)     13856     \n",
      "_________________________________________________________________\n",
      "max_pooling3d_3 (MaxPooling3 (None, 1, 7, 7, 32)       0         \n",
      "_________________________________________________________________\n",
      "dropout_2 (Dropout)          (None, 1, 7, 7, 32)       0         \n",
      "_________________________________________________________________\n",
      "flatten_1 (Flatten)          (None, 1568)              0         \n",
      "_________________________________________________________________\n",
      "dense_1 (Dense)              (None, 64)                100416    \n",
      "_________________________________________________________________\n",
      "dropout_3 (Dropout)          (None, 64)                0         \n",
      "_________________________________________________________________\n",
      "dense_2 (Dense)              (None, 5)                 325       \n",
      "=================================================================\n",
      "Total params: 118,725\n",
      "Trainable params: 118,725\n",
      "Non-trainable params: 0\n",
      "_________________________________________________________________\n",
      "None\n"
     ]
    }
   ],
   "source": [
    "optimiser = optimizers.adam()\n",
    "model.compile(optimizer=optimiser, loss='categorical_crossentropy', metrics=['categorical_accuracy'])\n",
    "print (model.summary())"
   ]
  },
  {
   "cell_type": "markdown",
   "metadata": {},
   "source": [
    "Let us create the `train_generator` and the `val_generator` which will be used in `.fit_generator`."
   ]
  },
  {
   "cell_type": "code",
   "execution_count": 11,
   "metadata": {},
   "outputs": [],
   "source": [
    "train_generator = generator(train_path, train_doc, batch_size)\n",
    "val_generator = generator(val_path, val_doc, batch_size)"
   ]
  },
  {
   "cell_type": "code",
   "execution_count": 12,
   "metadata": {},
   "outputs": [],
   "source": [
    "model_name = 'model_init' + '_' + str(curr_dt_time).replace(' ','').replace(':','_') + '/'\n",
    "    \n",
    "if not os.path.exists(model_name):\n",
    "    os.mkdir(model_name)\n",
    "        \n",
    "filepath = model_name + 'model-{epoch:05d}-{loss:.5f}-{categorical_accuracy:.5f}-{val_loss:.5f}-{val_categorical_accuracy:.5f}.h5'\n",
    "\n",
    "checkpoint = ModelCheckpoint(filepath, monitor='val_loss', verbose=1, save_best_only=False, save_weights_only=False, mode='auto', period=1)\n",
    "\n",
    "LR =  ReduceLROnPlateau(monitor='val_loss', factor=0.2,patience=5, min_lr=0.001)\n",
    "callbacks_list = [checkpoint,LR]"
   ]
  },
  {
   "cell_type": "markdown",
   "metadata": {},
   "source": [
    "The `steps_per_epoch` and `validation_steps` are used by `fit_generator` to decide the number of next() calls it need to make."
   ]
  },
  {
   "cell_type": "code",
   "execution_count": 13,
   "metadata": {},
   "outputs": [],
   "source": [
    "if (num_train_sequences%batch_size) == 0:\n",
    "    steps_per_epoch = int(num_train_sequences/batch_size)\n",
    "else:\n",
    "    steps_per_epoch = (num_train_sequences//batch_size) + 1\n",
    "\n",
    "if (num_val_sequences%batch_size) == 0:\n",
    "    validation_steps = int(num_val_sequences/batch_size)\n",
    "else:\n",
    "    validation_steps = (num_val_sequences//batch_size) + 1"
   ]
  },
  {
   "cell_type": "markdown",
   "metadata": {},
   "source": [
    "Let us now fit the model. This will start training the model and with the help of the checkpoints, you'll be able to save the model at the end of each epoch."
   ]
  },
  {
   "cell_type": "code",
   "execution_count": 14,
   "metadata": {},
   "outputs": [
    {
     "name": "stdout",
     "output_type": "stream",
     "text": [
      "Epoch 1/50Source path =  D:\\upgrad\\gesturerecognition/Project_data/val ; batch size = 30\n",
      "\n",
      "Source path =  D:\\upgrad\\gesturerecognition/Project_data/train ; batch size = 30\n",
      "23/23 [==============================] - 110s 5s/step - loss: 1.6486 - categorical_accuracy: 0.1885 - val_loss: 1.6125 - val_categorical_accuracy: 0.2100\n",
      "\n",
      "Epoch 00001: saving model to model_init_2020-09-1400_32_19.302208/model-00001-1.65267-0.18854-1.61252-0.21000.h5\n",
      "Epoch 2/50\n",
      "23/23 [==============================] - 63s 3s/step - loss: 1.5945 - categorical_accuracy: 0.2594 - val_loss: 1.5909 - val_categorical_accuracy: 0.3100\n",
      "\n",
      "Epoch 00002: saving model to model_init_2020-09-1400_32_19.302208/model-00002-1.59993-0.25943-1.59086-0.31000.h5\n",
      "Epoch 3/50\n",
      "23/23 [==============================] - 64s 3s/step - loss: 1.6026 - categorical_accuracy: 0.2247 - val_loss: 1.6067 - val_categorical_accuracy: 0.3800\n",
      "\n",
      "Epoch 00003: saving model to model_init_2020-09-1400_32_19.302208/model-00003-1.60521-0.22474-1.60673-0.38000.h5\n",
      "Epoch 4/50\n",
      "23/23 [==============================] - 66s 3s/step - loss: 1.5532 - categorical_accuracy: 0.3002 - val_loss: 1.5539 - val_categorical_accuracy: 0.4500\n",
      "\n",
      "Epoch 00004: saving model to model_init_2020-09-1400_32_19.302208/model-00004-1.56232-0.30015-1.55389-0.45000.h5\n",
      "Epoch 5/50\n",
      "23/23 [==============================] - 66s 3s/step - loss: 1.4855 - categorical_accuracy: 0.3198 - val_loss: 1.3411 - val_categorical_accuracy: 0.4000\n",
      "\n",
      "Epoch 00005: saving model to model_init_2020-09-1400_32_19.302208/model-00005-1.50971-0.31976-1.34106-0.40000.h5\n",
      "Epoch 6/50\n",
      "23/23 [==============================] - 67s 3s/step - loss: 1.3587 - categorical_accuracy: 0.4042 - val_loss: 1.2095 - val_categorical_accuracy: 0.4700\n",
      "\n",
      "Epoch 00006: saving model to model_init_2020-09-1400_32_19.302208/model-00006-1.36462-0.40422-1.20952-0.47000.h5\n",
      "Epoch 7/50\n",
      "23/23 [==============================] - 66s 3s/step - loss: 1.2543 - categorical_accuracy: 0.4630 - val_loss: 1.0235 - val_categorical_accuracy: 0.6100\n",
      "\n",
      "Epoch 00007: saving model to model_init_2020-09-1400_32_19.302208/model-00007-1.25815-0.46305-1.02353-0.61000.h5\n",
      "Epoch 8/50\n",
      "23/23 [==============================] - 65s 3s/step - loss: 1.1180 - categorical_accuracy: 0.5581 - val_loss: 0.7448 - val_categorical_accuracy: 0.6500\n",
      "\n",
      "Epoch 00008: saving model to model_init_2020-09-1400_32_19.302208/model-00008-1.11822-0.55807-0.74484-0.65000.h5\n",
      "Epoch 9/50\n",
      "23/23 [==============================] - 66s 3s/step - loss: 1.0330 - categorical_accuracy: 0.5671 - val_loss: 0.7342 - val_categorical_accuracy: 0.6800\n",
      "\n",
      "Epoch 00009: saving model to model_init_2020-09-1400_32_19.302208/model-00009-1.03552-0.56712-0.73423-0.68000.h5\n",
      "Epoch 10/50\n",
      "23/23 [==============================] - 66s 3s/step - loss: 0.9581 - categorical_accuracy: 0.6546 - val_loss: 0.6830 - val_categorical_accuracy: 0.7200\n",
      "\n",
      "Epoch 00010: saving model to model_init_2020-09-1400_32_19.302208/model-00010-0.94185-0.65460-0.68302-0.72000.h5\n",
      "Epoch 11/50\n",
      "23/23 [==============================] - 66s 3s/step - loss: 0.8918 - categorical_accuracy: 0.6576 - val_loss: 1.2844 - val_categorical_accuracy: 0.7900\n",
      "\n",
      "Epoch 00011: saving model to model_init_2020-09-1400_32_19.302208/model-00011-0.88654-0.65762-1.28443-0.79000.h5\n",
      "Epoch 12/50\n",
      "23/23 [==============================] - 66s 3s/step - loss: 0.8005 - categorical_accuracy: 0.6833 - val_loss: 0.4481 - val_categorical_accuracy: 0.7400\n",
      "\n",
      "Epoch 00012: saving model to model_init_2020-09-1400_32_19.302208/model-00012-0.81236-0.68326-0.44813-0.74000.h5\n",
      "Epoch 13/50\n",
      "23/23 [==============================] - 66s 3s/step - loss: 0.7419 - categorical_accuracy: 0.7526 - val_loss: 1.0084 - val_categorical_accuracy: 0.7600\n",
      "\n",
      "Epoch 00013: saving model to model_init_2020-09-1400_32_19.302208/model-00013-0.69911-0.75264-1.00837-0.76000.h5\n",
      "Epoch 14/50\n",
      "23/23 [==============================] - 66s 3s/step - loss: 0.7023 - categorical_accuracy: 0.7421 - val_loss: 0.7259 - val_categorical_accuracy: 0.8200\n",
      "\n",
      "Epoch 00014: saving model to model_init_2020-09-1400_32_19.302208/model-00014-0.69609-0.74208-0.72588-0.82000.h5\n",
      "Epoch 15/50\n",
      "23/23 [==============================] - 66s 3s/step - loss: 0.6171 - categorical_accuracy: 0.7496 - val_loss: 0.4141 - val_categorical_accuracy: 0.8200\n",
      "\n",
      "Epoch 00015: saving model to model_init_2020-09-1400_32_19.302208/model-00015-0.62811-0.74962-0.41413-0.82000.h5\n",
      "Epoch 16/50\n",
      "23/23 [==============================] - 66s 3s/step - loss: 0.5354 - categorical_accuracy: 0.7888 - val_loss: 0.3204 - val_categorical_accuracy: 0.8400\n",
      "\n",
      "Epoch 00016: saving model to model_init_2020-09-1400_32_19.302208/model-00016-0.55116-0.78884-0.32041-0.84000.h5\n",
      "Epoch 17/50\n",
      "23/23 [==============================] - 66s 3s/step - loss: 0.5320 - categorical_accuracy: 0.8024 - val_loss: 0.5035 - val_categorical_accuracy: 0.8200\n",
      "\n",
      "Epoch 00017: saving model to model_init_2020-09-1400_32_19.302208/model-00017-0.54210-0.80241-0.50353-0.82000.h5\n",
      "Epoch 18/50\n",
      "23/23 [==============================] - 67s 3s/step - loss: 0.4537 - categorical_accuracy: 0.8235 - val_loss: 0.4250 - val_categorical_accuracy: 0.8600\n",
      "\n",
      "Epoch 00018: saving model to model_init_2020-09-1400_32_19.302208/model-00018-0.45740-0.82353-0.42495-0.86000.h5\n",
      "Epoch 19/50\n",
      "23/23 [==============================] - 67s 3s/step - loss: 0.4626 - categorical_accuracy: 0.8205 - val_loss: 0.2963 - val_categorical_accuracy: 0.8300\n",
      "\n",
      "Epoch 00019: saving model to model_init_2020-09-1400_32_19.302208/model-00019-0.47363-0.82051-0.29631-0.83000.h5\n",
      "Epoch 20/50\n",
      "23/23 [==============================] - 66s 3s/step - loss: 0.4589 - categorical_accuracy: 0.8250 - val_loss: 0.3464 - val_categorical_accuracy: 0.8700\n",
      "\n",
      "Epoch 00020: saving model to model_init_2020-09-1400_32_19.302208/model-00020-0.46581-0.82504-0.34640-0.87000.h5\n",
      "Epoch 21/50\n",
      "23/23 [==============================] - 67s 3s/step - loss: 0.3653 - categorical_accuracy: 0.8658 - val_loss: 0.8830 - val_categorical_accuracy: 0.8600\n",
      "\n",
      "Epoch 00021: saving model to model_init_2020-09-1400_32_19.302208/model-00021-0.37003-0.86576-0.88299-0.86000.h5\n",
      "Epoch 22/50\n",
      "23/23 [==============================] - 66s 3s/step - loss: 0.4391 - categorical_accuracy: 0.8537 - val_loss: 0.4767 - val_categorical_accuracy: 0.8300\n",
      "\n",
      "Epoch 00022: saving model to model_init_2020-09-1400_32_19.302208/model-00022-0.41744-0.85370-0.47672-0.83000.h5\n",
      "Epoch 23/50\n",
      "23/23 [==============================] - 65s 3s/step - loss: 0.4222 - categorical_accuracy: 0.8326 - val_loss: 0.4445 - val_categorical_accuracy: 0.8800\n",
      "\n",
      "Epoch 00023: saving model to model_init_2020-09-1400_32_19.302208/model-00023-0.42699-0.83258-0.44453-0.88000.h5\n",
      "Epoch 24/50\n",
      "23/23 [==============================] - 66s 3s/step - loss: 0.3307 - categorical_accuracy: 0.8643 - val_loss: 0.0840 - val_categorical_accuracy: 0.8600\n",
      "\n",
      "Epoch 00024: saving model to model_init_2020-09-1400_32_19.302208/model-00024-0.34185-0.86425-0.08395-0.86000.h5\n",
      "Epoch 25/50\n",
      "23/23 [==============================] - 66s 3s/step - loss: 0.2878 - categorical_accuracy: 0.8839 - val_loss: 0.7957 - val_categorical_accuracy: 0.8400\n",
      "\n",
      "Epoch 00025: saving model to model_init_2020-09-1400_32_19.302208/model-00025-0.29767-0.88386-0.79571-0.84000.h5\n",
      "Epoch 26/50\n",
      "23/23 [==============================] - 66s 3s/step - loss: 0.2963 - categorical_accuracy: 0.8929 - val_loss: 0.1056 - val_categorical_accuracy: 0.8800\n",
      "\n",
      "Epoch 00026: saving model to model_init_2020-09-1400_32_19.302208/model-00026-0.29285-0.89291-0.10561-0.88000.h5\n",
      "Epoch 27/50\n",
      "23/23 [==============================] - 67s 3s/step - loss: 0.3547 - categorical_accuracy: 0.8869 - val_loss: 0.5192 - val_categorical_accuracy: 0.8700\n",
      "\n",
      "Epoch 00027: saving model to model_init_2020-09-1400_32_19.302208/model-00027-0.33106-0.88688-0.51919-0.87000.h5\n",
      "Epoch 28/50\n",
      "23/23 [==============================] - 67s 3s/step - loss: 0.2867 - categorical_accuracy: 0.8899 - val_loss: 0.2295 - val_categorical_accuracy: 0.8900\n",
      "\n",
      "Epoch 00028: saving model to model_init_2020-09-1400_32_19.302208/model-00028-0.28538-0.88989-0.22952-0.89000.h5\n",
      "Epoch 29/50\n",
      "23/23 [==============================] - 66s 3s/step - loss: 0.2926 - categorical_accuracy: 0.8854 - val_loss: 0.6020 - val_categorical_accuracy: 0.8400\n",
      "\n",
      "Epoch 00029: saving model to model_init_2020-09-1400_32_19.302208/model-00029-0.29880-0.88537-0.60201-0.84000.h5\n"
     ]
    },
    {
     "name": "stdout",
     "output_type": "stream",
     "text": [
      "Epoch 30/50\n",
      "23/23 [==============================] - 67s 3s/step - loss: 0.2288 - categorical_accuracy: 0.9276 - val_loss: 0.4503 - val_categorical_accuracy: 0.8800\n",
      "\n",
      "Epoch 00030: saving model to model_init_2020-09-1400_32_19.302208/model-00030-0.23671-0.92760-0.45031-0.88000.h5\n",
      "Epoch 31/50\n",
      "23/23 [==============================] - 66s 3s/step - loss: 0.2502 - categorical_accuracy: 0.9020 - val_loss: 0.0149 - val_categorical_accuracy: 0.8900\n",
      "\n",
      "Epoch 00031: saving model to model_init_2020-09-1400_32_19.302208/model-00031-0.25800-0.90196-0.01488-0.89000.h5\n",
      "Epoch 32/50\n",
      "23/23 [==============================] - 66s 3s/step - loss: 0.2754 - categorical_accuracy: 0.9065 - val_loss: 0.1591 - val_categorical_accuracy: 0.9000\n",
      "\n",
      "Epoch 00032: saving model to model_init_2020-09-1400_32_19.302208/model-00032-0.27440-0.90649-0.15907-0.90000.h5\n",
      "Epoch 33/50\n",
      "23/23 [==============================] - 66s 3s/step - loss: 0.2334 - categorical_accuracy: 0.9050 - val_loss: 0.1180 - val_categorical_accuracy: 0.8900\n",
      "\n",
      "Epoch 00033: saving model to model_init_2020-09-1400_32_19.302208/model-00033-0.24244-0.90498-0.11798-0.89000.h5\n",
      "Epoch 34/50\n",
      "23/23 [==============================] - 66s 3s/step - loss: 0.2722 - categorical_accuracy: 0.8899 - val_loss: 0.0575 - val_categorical_accuracy: 0.9100\n",
      "\n",
      "Epoch 00034: saving model to model_init_2020-09-1400_32_19.302208/model-00034-0.27858-0.88989-0.05753-0.91000.h5\n",
      "Epoch 35/50\n",
      "23/23 [==============================] - 66s 3s/step - loss: 0.2112 - categorical_accuracy: 0.9306 - val_loss: 0.0292 - val_categorical_accuracy: 0.8900\n",
      "\n",
      "Epoch 00035: saving model to model_init_2020-09-1400_32_19.302208/model-00035-0.21946-0.93062-0.02916-0.89000.h5\n",
      "Epoch 36/50\n",
      "23/23 [==============================] - 66s 3s/step - loss: 0.1794 - categorical_accuracy: 0.9351 - val_loss: 0.0701 - val_categorical_accuracy: 0.9000\n",
      "\n",
      "Epoch 00036: saving model to model_init_2020-09-1400_32_19.302208/model-00036-0.18023-0.93514-0.07009-0.90000.h5\n",
      "Epoch 37/50\n",
      "23/23 [==============================] - 66s 3s/step - loss: 0.1573 - categorical_accuracy: 0.9457 - val_loss: 0.4654 - val_categorical_accuracy: 0.8800\n",
      "\n",
      "Epoch 00037: saving model to model_init_2020-09-1400_32_19.302208/model-00037-0.16081-0.94570-0.46537-0.88000.h5\n",
      "Epoch 38/50\n",
      "23/23 [==============================] - 66s 3s/step - loss: 0.2225 - categorical_accuracy: 0.9231 - val_loss: 0.7729 - val_categorical_accuracy: 0.8700\n",
      "\n",
      "Epoch 00038: saving model to model_init_2020-09-1400_32_19.302208/model-00038-0.21269-0.92308-0.77290-0.87000.h5\n",
      "Epoch 39/50\n",
      "23/23 [==============================] - 67s 3s/step - loss: 0.1994 - categorical_accuracy: 0.9397 - val_loss: 0.0206 - val_categorical_accuracy: 0.9300\n",
      "\n",
      "Epoch 00039: saving model to model_init_2020-09-1400_32_19.302208/model-00039-0.19337-0.93967-0.02060-0.93000.h5\n",
      "Epoch 40/50\n",
      "23/23 [==============================] - 66s 3s/step - loss: 0.2703 - categorical_accuracy: 0.9201 - val_loss: 0.8291 - val_categorical_accuracy: 0.8800\n",
      "\n",
      "Epoch 00040: saving model to model_init_2020-09-1400_32_19.302208/model-00040-0.23492-0.92006-0.82907-0.88000.h5\n",
      "Epoch 41/50\n",
      "23/23 [==============================] - 66s 3s/step - loss: 0.3287 - categorical_accuracy: 0.8869 - val_loss: 0.3579 - val_categorical_accuracy: 0.8800\n",
      "\n",
      "Epoch 00041: saving model to model_init_2020-09-1400_32_19.302208/model-00041-0.32155-0.88688-0.35791-0.88000.h5\n",
      "Epoch 42/50\n",
      "23/23 [==============================] - 66s 3s/step - loss: 0.1801 - categorical_accuracy: 0.9306 - val_loss: 0.6898 - val_categorical_accuracy: 0.9000\n",
      "\n",
      "Epoch 00042: saving model to model_init_2020-09-1400_32_19.302208/model-00042-0.18311-0.93062-0.68977-0.90000.h5\n",
      "Epoch 43/50\n",
      "23/23 [==============================] - 66s 3s/step - loss: 0.1577 - categorical_accuracy: 0.9502 - val_loss: 0.0755 - val_categorical_accuracy: 0.9000\n",
      "\n",
      "Epoch 00043: saving model to model_init_2020-09-1400_32_19.302208/model-00043-0.15950-0.95023-0.07547-0.90000.h5\n",
      "Epoch 44/50\n",
      "23/23 [==============================] - 66s 3s/step - loss: 0.1413 - categorical_accuracy: 0.9563 - val_loss: 0.0741 - val_categorical_accuracy: 0.9100\n",
      "\n",
      "Epoch 00044: saving model to model_init_2020-09-1400_32_19.302208/model-00044-0.14570-0.95626-0.07408-0.91000.h5\n",
      "Epoch 45/50\n",
      "23/23 [==============================] - 65s 3s/step - loss: 0.1368 - categorical_accuracy: 0.9442 - val_loss: 0.1197 - val_categorical_accuracy: 0.8800\n",
      "\n",
      "Epoch 00045: saving model to model_init_2020-09-1400_32_19.302208/model-00045-0.14020-0.94419-0.11968-0.88000.h5\n",
      "Epoch 46/50\n",
      "23/23 [==============================] - 66s 3s/step - loss: 0.1625 - categorical_accuracy: 0.9532 - val_loss: 0.3940 - val_categorical_accuracy: 0.8900\n",
      "\n",
      "Epoch 00046: saving model to model_init_2020-09-1400_32_19.302208/model-00046-0.14078-0.95324-0.39402-0.89000.h5\n",
      "Epoch 47/50\n",
      "23/23 [==============================] - 66s 3s/step - loss: 0.1920 - categorical_accuracy: 0.9291 - val_loss: 0.0140 - val_categorical_accuracy: 0.9100\n",
      "\n",
      "Epoch 00047: saving model to model_init_2020-09-1400_32_19.302208/model-00047-0.19527-0.92911-0.01398-0.91000.h5\n",
      "Epoch 48/50\n",
      "23/23 [==============================] - 67s 3s/step - loss: 0.1659 - categorical_accuracy: 0.9321 - val_loss: 0.7127 - val_categorical_accuracy: 0.9100\n",
      "\n",
      "Epoch 00048: saving model to model_init_2020-09-1400_32_19.302208/model-00048-0.17185-0.93213-0.71269-0.91000.h5\n",
      "Epoch 49/50\n",
      "23/23 [==============================] - 66s 3s/step - loss: 0.1304 - categorical_accuracy: 0.9502 - val_loss: 1.4651 - val_categorical_accuracy: 0.8900\n",
      "\n",
      "Epoch 00049: saving model to model_init_2020-09-1400_32_19.302208/model-00049-0.13541-0.95023-1.46513-0.89000.h5\n",
      "Epoch 50/50\n",
      "23/23 [==============================] - 66s 3s/step - loss: 0.1376 - categorical_accuracy: 0.9487 - val_loss: 0.0575 - val_categorical_accuracy: 0.9100\n",
      "\n",
      "Epoch 00050: saving model to model_init_2020-09-1400_32_19.302208/model-00050-0.14092-0.94872-0.05753-0.91000.h5\n"
     ]
    }
   ],
   "source": [
    "history=model.fit_generator(train_generator, steps_per_epoch=steps_per_epoch, epochs=num_epochs, verbose=1, \n",
    "                    callbacks=callbacks_list, validation_data=val_generator, \n",
    "                    validation_steps=validation_steps, class_weight=None, workers=1, initial_epoch=0)"
   ]
  },
  {
   "cell_type": "markdown",
   "metadata": {},
   "source": [
    "# Plots for Visual Analysis"
   ]
  },
  {
   "cell_type": "code",
   "execution_count": 15,
   "metadata": {},
   "outputs": [
    {
     "data": {
      "image/png": "[encoded data removed]",
      "text/plain": [
       "<Figure size 432x288 with 1 Axes>"
      ]
     },
     "metadata": {
      "needs_background": "light"
     },
     "output_type": "display_data"
    }
   ],
   "source": [
    "history_dropout=history\n",
    "loss = history_dropout.history['loss']\n",
    "val_loss = history_dropout.history['val_loss']\n",
    "epochs = range(1, len(loss) + 1)\n",
    "plt.plot(epochs, loss, 'y', label='Training loss')\n",
    "plt.plot(epochs, val_loss, 'r', label='Validation loss')\n",
    "plt.title('Training and validation loss')\n",
    "plt.xlabel('Epochs')\n",
    "plt.ylabel('Loss')\n",
    "plt.legend()\n",
    "plt.show()"
   ]
  },
  {
   "cell_type": "code",
   "execution_count": 17,
   "metadata": {},
   "outputs": [
    {
     "data": {
      "image/png": "[encoded data removed]",
      "text/plain": [
       "<Figure size 432x288 with 1 Axes>"
      ]
     },
     "metadata": {
      "needs_background": "light"
     },
     "output_type": "display_data"
    }
   ],
   "source": [
    "acc = history_dropout.history['categorical_accuracy']\n",
    "val_acc = history_dropout.history['val_categorical_accuracy']\n",
    "plt.plot(epochs, acc, 'y', label='Training acc')\n",
    "plt.plot(epochs, val_acc, 'r', label='Validation acc')\n",
    "plt.axvline(x=[39], label='Optimal fit')\n",
    "plt.title('Training and validation accuracy')\n",
    "plt.xlabel('Epochs')\n",
    "plt.ylabel('Accuracy')\n",
    "plt.legend()\n",
    "plt.show()"
   ]
  },
  {
   "cell_type": "markdown",
   "metadata": {},
   "source": [
    "# Analysis and Inference"
   ]
  },
  {
   "cell_type": "markdown",
   "metadata": {},
   "source": [
    "<b> Selecting model fit at epoch 39 which gives balanced accuracy of approximately 0.93.<br>\n",
    "    <br>Additional Observations:<br>\n",
    "    There is slight variation/sway in validation loss but it follows pattern for training loss and also reduces with more epochs"
   ]
  },
  {
   "cell_type": "code",
   "execution_count": null,
   "metadata": {},
   "outputs": [],
   "source": []
  }
 ],
 "metadata": {
  "kernelspec": {
   "display_name": "TensorFlow-GPU",
   "language": "python",
   "name": "tf-gpu"
  },
  "language_info": {
   "codemirror_mode": {
    "name": "ipython",
    "version": 3
   },
   "file_extension": ".py",
   "mimetype": "text/x-python",
   "name": "python",
   "nbconvert_exporter": "python",
   "pygments_lexer": "ipython3",
   "version": "3.7.9"
  }
 },
 "nbformat": 4,
 "nbformat_minor": 2
}
