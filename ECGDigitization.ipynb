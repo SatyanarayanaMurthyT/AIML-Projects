{
  "cells": [
    {
      "cell_type": "markdown",
      "metadata": {
        "id": "view-in-github",
        "colab_type": "text"
      },
      "source": [
        "<a href=\"https://colab.research.google.com/github/SatyanarayanaMurthyT/AIML-Projects/blob/ECG-Digitization/ECGDigitization.ipynb\" target=\"_parent\"><img src=\"https://colab.research.google.com/assets/colab-badge.svg\" alt=\"Open In Colab\"/></a>"
      ]
    },
    {
      "cell_type": "code",
      "execution_count": 1,
      "metadata": {
        "colab": {
          "base_uri": "https://localhost:8080/"
        },
        "id": "hFsSjjiOseHN",
        "outputId": "4412885c-ca8b-4929-f910-f32af391d979"
      },
      "outputs": [
        {
          "output_type": "stream",
          "name": "stdout",
          "text": [
            "Collecting wfdb\n",
            "  Downloading wfdb-4.1.2-py3-none-any.whl.metadata (4.3 kB)\n",
            "Requirement already satisfied: SoundFile>=0.10.0 in /usr/local/lib/python3.10/dist-packages (from wfdb) (0.12.1)\n",
            "Requirement already satisfied: matplotlib>=3.2.2 in /usr/local/lib/python3.10/dist-packages (from wfdb) (3.8.0)\n",
            "Requirement already satisfied: numpy>=1.10.1 in /usr/local/lib/python3.10/dist-packages (from wfdb) (1.26.4)\n",
            "Requirement already satisfied: pandas>=1.3.0 in /usr/local/lib/python3.10/dist-packages (from wfdb) (2.2.2)\n",
            "Requirement already satisfied: requests>=2.8.1 in /usr/local/lib/python3.10/dist-packages (from wfdb) (2.32.3)\n",
            "Requirement already satisfied: scipy>=1.0.0 in /usr/local/lib/python3.10/dist-packages (from wfdb) (1.13.1)\n",
            "Requirement already satisfied: contourpy>=1.0.1 in /usr/local/lib/python3.10/dist-packages (from matplotlib>=3.2.2->wfdb) (1.3.1)\n",
            "Requirement already satisfied: cycler>=0.10 in /usr/local/lib/python3.10/dist-packages (from matplotlib>=3.2.2->wfdb) (0.12.1)\n",
            "Requirement already satisfied: fonttools>=4.22.0 in /usr/local/lib/python3.10/dist-packages (from matplotlib>=3.2.2->wfdb) (4.55.2)\n",
            "Requirement already satisfied: kiwisolver>=1.0.1 in /usr/local/lib/python3.10/dist-packages (from matplotlib>=3.2.2->wfdb) (1.4.7)\n",
            "Requirement already satisfied: packaging>=20.0 in /usr/local/lib/python3.10/dist-packages (from matplotlib>=3.2.2->wfdb) (24.2)\n",
            "Requirement already satisfied: pillow>=6.2.0 in /usr/local/lib/python3.10/dist-packages (from matplotlib>=3.2.2->wfdb) (11.0.0)\n",
            "Requirement already satisfied: pyparsing>=2.3.1 in /usr/local/lib/python3.10/dist-packages (from matplotlib>=3.2.2->wfdb) (3.2.0)\n",
            "Requirement already satisfied: python-dateutil>=2.7 in /usr/local/lib/python3.10/dist-packages (from matplotlib>=3.2.2->wfdb) (2.8.2)\n",
            "Requirement already satisfied: pytz>=2020.1 in /usr/local/lib/python3.10/dist-packages (from pandas>=1.3.0->wfdb) (2024.2)\n",
            "Requirement already satisfied: tzdata>=2022.7 in /usr/local/lib/python3.10/dist-packages (from pandas>=1.3.0->wfdb) (2024.2)\n",
            "Requirement already satisfied: charset-normalizer<4,>=2 in /usr/local/lib/python3.10/dist-packages (from requests>=2.8.1->wfdb) (3.4.0)\n",
            "Requirement already satisfied: idna<4,>=2.5 in /usr/local/lib/python3.10/dist-packages (from requests>=2.8.1->wfdb) (3.10)\n",
            "Requirement already satisfied: urllib3<3,>=1.21.1 in /usr/local/lib/python3.10/dist-packages (from requests>=2.8.1->wfdb) (2.2.3)\n",
            "Requirement already satisfied: certifi>=2017.4.17 in /usr/local/lib/python3.10/dist-packages (from requests>=2.8.1->wfdb) (2024.8.30)\n",
            "Requirement already satisfied: cffi>=1.0 in /usr/local/lib/python3.10/dist-packages (from SoundFile>=0.10.0->wfdb) (1.17.1)\n",
            "Requirement already satisfied: pycparser in /usr/local/lib/python3.10/dist-packages (from cffi>=1.0->SoundFile>=0.10.0->wfdb) (2.22)\n",
            "Requirement already satisfied: six>=1.5 in /usr/local/lib/python3.10/dist-packages (from python-dateutil>=2.7->matplotlib>=3.2.2->wfdb) (1.17.0)\n",
            "Downloading wfdb-4.1.2-py3-none-any.whl (159 kB)\n",
            "\u001b[2K   \u001b[90m━━━━━━━━━━━━━━━━━━━━━━━━━━━━━━━━━━━━━━━━\u001b[0m \u001b[32m160.0/160.0 kB\u001b[0m \u001b[31m3.4 MB/s\u001b[0m eta \u001b[36m0:00:00\u001b[0m\n",
            "\u001b[?25hInstalling collected packages: wfdb\n",
            "Successfully installed wfdb-4.1.2\n",
            "Collecting qrcode\n",
            "  Downloading qrcode-8.0-py3-none-any.whl.metadata (17 kB)\n",
            "Downloading qrcode-8.0-py3-none-any.whl (45 kB)\n",
            "\u001b[2K   \u001b[90m━━━━━━━━━━━━━━━━━━━━━━━━━━━━━━━━━━━━━━━━\u001b[0m \u001b[32m45.7/45.7 kB\u001b[0m \u001b[31m1.6 MB/s\u001b[0m eta \u001b[36m0:00:00\u001b[0m\n",
            "\u001b[?25hInstalling collected packages: qrcode\n",
            "Successfully installed qrcode-8.0\n",
            "Collecting validators\n",
            "  Downloading validators-0.34.0-py3-none-any.whl.metadata (3.8 kB)\n",
            "Downloading validators-0.34.0-py3-none-any.whl (43 kB)\n",
            "\u001b[2K   \u001b[90m━━━━━━━━━━━━━━━━━━━━━━━━━━━━━━━━━━━━━━━━\u001b[0m \u001b[32m43.5/43.5 kB\u001b[0m \u001b[31m1.6 MB/s\u001b[0m eta \u001b[36m0:00:00\u001b[0m\n",
            "\u001b[?25hInstalling collected packages: validators\n",
            "Successfully installed validators-0.34.0\n"
          ]
        }
      ],
      "source": [
        "!pip install wfdb\n",
        "!pip install qrcode\n",
        "!pip install validators"
      ]
    },
    {
      "cell_type": "code",
      "execution_count": 2,
      "metadata": {
        "id": "TT9IT_f8rHkH"
      },
      "outputs": [],
      "source": [
        "# prompt: import pandas\n",
        "\n",
        "import pandas as pd\n",
        "import IPython\n",
        "import zipfile\n",
        "from IPython.core.interactiveshell import InteractiveShell\n",
        "InteractiveShell.ast_node_interactivity = 'all'"
      ]
    },
    {
      "cell_type": "code",
      "execution_count": 3,
      "metadata": {
        "colab": {
          "base_uri": "https://localhost:8080/"
        },
        "id": "DPYimHgNtLIS",
        "outputId": "9486b060-9e06-45b0-c161-834897a489d5"
      },
      "outputs": [
        {
          "output_type": "stream",
          "name": "stdout",
          "text": [
            "Architecture:             x86_64\n",
            "  CPU op-mode(s):         32-bit, 64-bit\n",
            "  Address sizes:          46 bits physical, 48 bits virtual\n",
            "  Byte Order:             Little Endian\n",
            "CPU(s):                   2\n",
            "  On-line CPU(s) list:    0,1\n",
            "Vendor ID:                GenuineIntel\n",
            "  Model name:             Intel(R) Xeon(R) CPU @ 2.20GHz\n",
            "    CPU family:           6\n",
            "    Model:                79\n",
            "    Thread(s) per core:   2\n",
            "    Core(s) per socket:   1\n",
            "    Socket(s):            1\n",
            "    Stepping:             0\n",
            "    BogoMIPS:             4400.32\n",
            "    Flags:                fpu vme de pse tsc msr pae mce cx8 apic sep mtrr pge mca cmov pat pse36 cl\n",
            "                          flush mmx fxsr sse sse2 ss ht syscall nx pdpe1gb rdtscp lm constant_tsc re\n",
            "                          p_good nopl xtopology nonstop_tsc cpuid tsc_known_freq pni pclmulqdq ssse3\n",
            "                           fma cx16 pcid sse4_1 sse4_2 x2apic movbe popcnt aes xsave avx f16c rdrand\n",
            "                           hypervisor lahf_lm abm 3dnowprefetch invpcid_single ssbd ibrs ibpb stibp \n",
            "                          fsgsbase tsc_adjust bmi1 hle avx2 smep bmi2 erms invpcid rtm rdseed adx sm\n",
            "                          ap xsaveopt arat md_clear arch_capabilities\n",
            "Virtualization features:  \n",
            "  Hypervisor vendor:      KVM\n",
            "  Virtualization type:    full\n",
            "Caches (sum of all):      \n",
            "  L1d:                    32 KiB (1 instance)\n",
            "  L1i:                    32 KiB (1 instance)\n",
            "  L2:                     256 KiB (1 instance)\n",
            "  L3:                     55 MiB (1 instance)\n",
            "NUMA:                     \n",
            "  NUMA node(s):           1\n",
            "  NUMA node0 CPU(s):      0,1\n",
            "Vulnerabilities:          \n",
            "  Gather data sampling:   Not affected\n",
            "  Itlb multihit:          Not affected\n",
            "  L1tf:                   Mitigation; PTE Inversion\n",
            "  Mds:                    Vulnerable; SMT Host state unknown\n",
            "  Meltdown:               Vulnerable\n",
            "  Mmio stale data:        Vulnerable\n",
            "  Reg file data sampling: Not affected\n",
            "  Retbleed:               Vulnerable\n",
            "  Spec rstack overflow:   Not affected\n",
            "  Spec store bypass:      Vulnerable\n",
            "  Spectre v1:             Vulnerable: __user pointer sanitization and usercopy barriers only; no swa\n",
            "                          pgs barriers\n",
            "  Spectre v2:             Vulnerable; IBPB: disabled; STIBP: disabled; PBRSB-eIBRS: Not affected; BH\n",
            "                          I: Vulnerable (Syscall hardening enabled)\n",
            "  Srbds:                  Not affected\n",
            "  Tsx async abort:        Vulnerable\n",
            ".......................................\n",
            "Model name:                           Intel(R) Xeon(R) CPU @ 2.20GHz\n",
            ".......................................\n",
            "12G\n"
          ]
        }
      ],
      "source": [
        "!lscpu\n",
        "\n",
        "print(\".......................................\")\n",
        "!lscpu |grep 'Model name'\n",
        "print(\".......................................\")\n",
        "!free -h --si | awk  '/Mem:/{print $2}'\n",
        "\n"
      ]
    },
    {
      "cell_type": "code",
      "execution_count": 4,
      "metadata": {
        "colab": {
          "base_uri": "https://localhost:8080/"
        },
        "id": "ubPW-WMvtp8e",
        "outputId": "9d9800ab-f62b-4489-ae8a-ffc71ded2292"
      },
      "outputs": [
        {
          "output_type": "stream",
          "name": "stdout",
          "text": [
            "Mounted at /content/drive\n"
          ]
        }
      ],
      "source": [
        "from google.colab import drive\n",
        "drive.mount(\"/content/drive\")"
      ]
    },
    {
      "cell_type": "code",
      "execution_count": 5,
      "metadata": {
        "colab": {
          "base_uri": "https://localhost:8080/"
        },
        "id": "n7SXM8MEy_WP",
        "outputId": "e7f905fe-8791-4c21-db6e-bb86715b9c64"
      },
      "outputs": [
        {
          "output_type": "stream",
          "name": "stdout",
          "text": [
            "/content\n",
            "ECGDigitization.ipynb  Image_Files\t      ptb-xl.zip\t     st12slv23ToSNOMED.csv\n",
            "ecg-image-generator    prepare_image_data.py  remove_hidden_data.py\n",
            "helper_code.py\t       prepare_ptbxl_data.py  st12sl_statements.csv\n"
          ]
        }
      ],
      "source": [
        "!pwd\n",
        "!ls /content/drive/MyDrive/Colab\\ Notebooks/ECGDigitization/"
      ]
    },
    {
      "cell_type": "code",
      "execution_count": 6,
      "metadata": {
        "colab": {
          "base_uri": "https://localhost:8080/",
          "height": 36
        },
        "id": "fh6-qrzw_qzz",
        "outputId": "30fbe92e-25c6-44b2-ec39-c0a0d8a233b7"
      },
      "outputs": [
        {
          "output_type": "execute_result",
          "data": {
            "text/plain": [
              "'/content/drive/MyDrive/Colab Notebooks/ECGDigitization/ptb-xl.zip'"
            ],
            "application/vnd.google.colaboratory.intrinsic+json": {
              "type": "string"
            }
          },
          "metadata": {},
          "execution_count": 6
        }
      ],
      "source": [
        "ECGDir=\"/content/drive/MyDrive/Colab Notebooks/ECGDigitization/Image_Files/ECGImageAnalysis.zip\"\n",
        "ECGDir"
      ]
    },
    {
      "cell_type": "code",
      "execution_count": 7,
      "metadata": {
        "id": "wM6ymfxLz1lc"
      },
      "outputs": [],
      "source": [
        "with zipfile.ZipFile(ECGDir,\"r\") as zip_ref:\n",
        "    zip_ref.extractall(\"./\")"
      ]
    },
    {
      "cell_type": "code",
      "execution_count": 8,
      "metadata": {
        "id": "p3vp-9LjOSnX"
      },
      "outputs": [],
      "source": [
        "!mv \"/content/ptb-xl-a-large-publicly-available-electrocardiography-dataset-1.0.3\" \"/content/ECGImageAnalysis\""
      ]
    },
    {
      "cell_type": "code",
      "execution_count": null,
      "metadata": {
        "id": "w5S58w83NRIP"
      },
      "outputs": [],
      "source": [
        "!cp \"/content/drive/MyDrive/Colab Notebooks/ECGDigitization/prepare_ptbxl_data.py\" \"./ECGImageAnalysis\"\n",
        "!cp \"/content/drive/MyDrive/Colab Notebooks/ECGDigitization/st12slv23ToSNOMED.csv\" \"./ECGImageAnalysis\"\n",
        "!cp \"/content/drive/MyDrive/Colab Notebooks/ECGDigitization/st12sl_statements.csv\" \"./ECGImageAnalysis\"\n",
        "!cp \"/content/drive/MyDrive/Colab Notebooks/ECGDigitization/helper_code.py\" \"./ECGImageAnalysis\"\n",
        "!cp \"/content/drive/MyDrive/Colab Notebooks/ECGDigitization/prepare_image_data.py\" \"./ECGImageAnalysis\"\n",
        "!cp \"/content/drive/MyDrive/Colab Notebooks/ECGDigitization/remove_hidden_data.py\" \"./ECGImageAnalysis\"\n"
      ]
    },
    {
      "cell_type": "code",
      "execution_count": null,
      "metadata": {
        "colab": {
          "base_uri": "https://localhost:8080/"
        },
        "id": "77oJ1DDVBn02",
        "outputId": "ed3300f3-dfa2-48a7-b63e-d701f9428235"
      },
      "outputs": [
        {
          "name": "stdout",
          "output_type": "stream",
          "text": [
            "/content\n",
            "drive  ptb-xl  sample_data\n"
          ]
        }
      ],
      "source": [
        "!pwd\n",
        "!ls"
      ]
    },
    {
      "cell_type": "code",
      "execution_count": null,
      "metadata": {
        "colab": {
          "base_uri": "https://localhost:8080/"
        },
        "id": "ugaQLMdsO-aB",
        "outputId": "cd168e3f-37d9-4b8c-c7b8-135e2a670867"
      },
      "outputs": [
        {
          "name": "stdout",
          "output_type": "stream",
          "text": [
            "example_physionet.py   prepare_ptbxl_data.py\t RECORDS\t\tscp_statements.csv\n",
            "helper_code.py\t       ptbxl_database.csv\t records100\t\tSHA256SUMS.txt\n",
            "LICENSE.txt\t       ptbxl_v102_changelog.txt  records500\t\tst12sl_statements.csv\n",
            "prepare_image_data.py  ptbxl_v103_changelog.txt  remove_hidden_data.py\tst12slv23ToSNOMED.csv\n"
          ]
        }
      ],
      "source": [
        "!ls ptb-xl/"
      ]
    },
    {
      "cell_type": "code",
      "execution_count": null,
      "metadata": {
        "id": "pzhYC1hwNy8O"
      },
      "outputs": [],
      "source": [
        "!python  ptb-xl/prepare_ptbxl_data.py \\\n",
        "     -i  ptb-xl/records500/ \\\n",
        "     -pd ptb-xl/ptbxl_database.csv \\\n",
        "     -pm ptb-xl/scp_statements.csv \\\n",
        "     -sd ptb-xl/st12sl_statements.csv \\\n",
        "     -sm ptb-xl/st12slv23ToSNOMED.csv \\\n",
        "     -o  ptb-xl/records500_tmp/"
      ]
    },
    {
      "cell_type": "code",
      "execution_count": null,
      "metadata": {
        "colab": {
          "base_uri": "https://localhost:8080/"
        },
        "id": "x4ZI_ECCwpsk",
        "outputId": "bb50e167-8d3c-4b54-af67-42eb94a21ffc"
      },
      "outputs": [
        {
          "name": "stdout",
          "output_type": "stream",
          "text": [
            "False\n",
            "False\n"
          ]
        }
      ],
      "source": [
        "import os\n",
        "print(os.path.exists(\"/content/ptb-xl/ecg_image\"))\n",
        "print(os.path.isdir(\"/content/ptb-xl/ecg_image/ptb-xl/records500/00000\"))\n"
      ]
    },
    {
      "cell_type": "code",
      "execution_count": null,
      "metadata": {
        "id": "JignWELjCTuy"
      },
      "outputs": [],
      "source": [
        "\n",
        "import shutil\n",
        "\n",
        "def copytree(src, dst, symlinks=False, ignore=None):\n",
        "    for item in os.listdir(src):\n",
        "        s = os.path.join(src, item)\n",
        "        d = os.path.join(dst, item)\n",
        "        if os.path.exists(d):\n",
        "            try:\n",
        "                shutil.rmtree(d)\n",
        "            except Exception as e:\n",
        "                print(e)\n",
        "                os.unlink(d)\n",
        "        if os.path.isdir(s):\n",
        "            shutil.copytree(s, d, symlinks, ignore)\n",
        "        else:\n",
        "            shutil.copy2(s, d)\n",
        "copytree(\"/content/drive/MyDrive/Colab Notebooks/ECGDigitization/ecg-image-generator/\", \"./ptb-xl/\" )"
      ]
    },
    {
      "cell_type": "code",
      "execution_count": null,
      "metadata": {
        "id": "i_IQNIbB8DJJ"
      },
      "outputs": [],
      "source": [
        "import subprocess\n",
        "import os\n",
        "import shutil\n",
        "import threading"
      ]
    },
    {
      "cell_type": "code",
      "execution_count": null,
      "metadata": {
        "colab": {
          "background_save": true,
          "base_uri": "https://localhost:8080/"
        },
        "id": "eRgGhJKLnh-f",
        "outputId": "49c0ed62-02ba-4266-bc47-184210121fb5"
      },
      "outputs": [
        {
          "name": "stdout",
          "output_type": "stream",
          "text": [
            "image directory:  18000\n",
            "image dir:  records500_tmp/18000\n",
            "python ptb-xl/gen_ecg_images_from_data_batch.py -i records500_tmp/18000 -o records500_tmp/18000 --print_header --store_config 2\n",
            "image directory:  19000\n",
            "image dir:  records500_tmp/19000\n",
            "python ptb-xl/gen_ecg_images_from_data_batch.py -i records500_tmp/19000 -o records500_tmp/19000 --print_header --store_config 2\n",
            "image directory:  20000\n",
            "image dir:  records500_tmp/20000\n",
            "python ptb-xl/gen_ecg_images_from_data_batch.py -i records500_tmp/20000 -o records500_tmp/20000 --print_header --store_config 2\n",
            "image directory:  21000\n",
            "image dir:  records500_tmp/21000\n",
            "python ptb-xl/gen_ecg_images_from_data_batch.py -i records500_tmp/21000 -o records500_tmp/21000 --print_header --store_config 2\n"
          ]
        }
      ],
      "source": [
        "def generateECGImages(image_dir):\n",
        " tmp_dir=\"records500_tmp/\"+image_dir\n",
        " print(\"image dir: \",tmp_dir)\n",
        " arg1= \" -i \"+tmp_dir\n",
        " arg2= \" -o \"+tmp_dir\n",
        " arg3=\" --print_header\"\n",
        " arg4=\" --store_config 2\"\n",
        "\n",
        " str_arg_cmd=\"python ptb-xl/gen_ecg_images_from_data_batch.py\"+arg1+arg2+arg3+arg4\n",
        " print(str_arg_cmd)\n",
        " os.system(str_arg_cmd)\n",
        "\n",
        "def generateECGImagesForDir(image_dir):\n",
        "  generateECGImages(image_dir)\n",
        "  shutil.make_archive(\"ptb-xl/records500_tmp/\"+image_dir, 'zip', \"ptb-xl/records500_tmp/\"+image_dir)\n",
        "  input_zip=\"ptb-xl/records500_tmp/\"+image_dir+\".zip\"\n",
        "  output_zip=\"/content/drive/MyDrive/Colab Notebooks/ECGDigitization/Image_Files/\"+image_dir+\".zip\"\n",
        "  shutil.move(input_zip,output_zip)\n",
        "\n",
        "list_dir=sorted(os.listdir(\"ptb-xl/records500_tmp/\"))\n",
        "for image_dir in list_dir[18:]:\n",
        "  print(\"image directory: \",image_dir)\n",
        "  generateECGImagesForDir(image_dir)\n"
      ]
    },
    {
      "cell_type": "code",
      "execution_count": null,
      "metadata": {
        "colab": {
          "background_save": true
        },
        "id": "d9UPcvGim9bI"
      },
      "outputs": [],
      "source": []
    }
  ],
  "metadata": {
    "colab": {
      "provenance": [],
      "authorship_tag": "ABX9TyOuNA8dZTn1l7+WLKcJYRPU",
      "include_colab_link": true
    },
    "kernelspec": {
      "display_name": "Python 3",
      "name": "python3"
    },
    "language_info": {
      "name": "python"
    }
  },
  "nbformat": 4,
  "nbformat_minor": 0
}