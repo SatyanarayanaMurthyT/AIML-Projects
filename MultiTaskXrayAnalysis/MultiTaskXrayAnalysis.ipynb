{
  "nbformat": 4,
  "nbformat_minor": 0,
  "metadata": {
    "accelerator": "GPU",
    "colab": {
      "name": "TSatyanarayanaMurthy_Final_Thesis_Submission.ipynb",
      "provenance": [],
      "collapsed_sections": [],
      "machine_shape": "hm"
    },
    "kernelspec": {
      "display_name": "Python 3",
      "language": "python",
      "name": "python3"
    },
    "language_info": {
      "codemirror_mode": {
        "name": "ipython",
        "version": 3
      },
      "file_extension": ".py",
      "mimetype": "text/x-python",
      "name": "python",
      "nbconvert_exporter": "python",
      "pygments_lexer": "ipython3",
      "version": "3.8.8"
    }
  },
  "cells": [
    {
      "cell_type": "markdown",
      "metadata": {
        "id": "GGPn9aCdJNyk"
      },
      "source": [
        "# MSLE Loss for age prediction task and using DenseNet+MobileNet+ResNet"
      ]
    },
    {
      "cell_type": "markdown",
      "metadata": {
        "id": "Oc_QNKGqC881"
      },
      "source": [
        "# Import Libraries and dataset"
      ]
    },
    {
      "cell_type": "code",
      "metadata": {
        "id": "oZTqt52-kbwq"
      },
      "source": [
        "#import pandas\n",
        "import pandas as pd\n",
        "\n",
        "#import numpy an set random seed\n",
        "import numpy as np\n",
        "np.random.seed(30)\n",
        "  \n",
        "#import seaborn\n",
        "import seaborn as sns\n",
        "\n",
        "from sklearn.preprocessing import LabelEncoder\n",
        "import os\n"
      ],
      "execution_count": null,
      "outputs": []
    },
    {
      "cell_type": "markdown",
      "metadata": {
        "id": "ei9txCzsL6m5"
      },
      "source": [
        "### Check for GPU type"
      ]
    },
    {
      "cell_type": "code",
      "metadata": {
        "colab": {
          "base_uri": "https://localhost:8080/"
        },
        "id": "9EYkTYa9Zl1f",
        "outputId": "206188c3-38e1-4c26-bedf-d9f58176e546"
      },
      "source": [
        "!nvidia-smi"
      ],
      "execution_count": null,
      "outputs": [
        {
          "output_type": "stream",
          "text": [
            "Wed Aug  4 08:12:29 2021       \n",
            "+-----------------------------------------------------------------------------+\n",
            "| NVIDIA-SMI 470.42.01    Driver Version: 460.32.03    CUDA Version: 11.2     |\n",
            "|-------------------------------+----------------------+----------------------+\n",
            "| GPU  Name        Persistence-M| Bus-Id        Disp.A | Volatile Uncorr. ECC |\n",
            "| Fan  Temp  Perf  Pwr:Usage/Cap|         Memory-Usage | GPU-Util  Compute M. |\n",
            "|                               |                      |               MIG M. |\n",
            "|===============================+======================+======================|\n",
            "|   0  Tesla P100-PCIE...  Off  | 00000000:00:04.0 Off |                    0 |\n",
            "| N/A   34C    P0    26W / 250W |      0MiB / 16280MiB |      0%      Default |\n",
            "|                               |                      |                  N/A |\n",
            "+-------------------------------+----------------------+----------------------+\n",
            "                                                                               \n",
            "+-----------------------------------------------------------------------------+\n",
            "| Processes:                                                                  |\n",
            "|  GPU   GI   CI        PID   Type   Process name                  GPU Memory |\n",
            "|        ID   ID                                                   Usage      |\n",
            "|=============================================================================|\n",
            "|  No running processes found                                                 |\n",
            "+-----------------------------------------------------------------------------+\n"
          ],
          "name": "stdout"
        }
      ]
    },
    {
      "cell_type": "code",
      "metadata": {
        "id": "-NASsipmQW-K"
      },
      "source": [
        "create_files=1"
      ],
      "execution_count": null,
      "outputs": []
    },
    {
      "cell_type": "code",
      "metadata": {
        "colab": {
          "base_uri": "https://localhost:8080/"
        },
        "id": "qMxAHMvgkwER",
        "outputId": "cbf97d82-fd1d-42f5-f2a6-1f5f830ec8e2"
      },
      "source": [
        "from google.colab import drive\n",
        "\n",
        "drive.mount('/content/gdrive')"
      ],
      "execution_count": null,
      "outputs": [
        {
          "output_type": "stream",
          "text": [
            "Mounted at /content/gdrive\n"
          ],
          "name": "stdout"
        }
      ]
    },
    {
      "cell_type": "code",
      "metadata": {
        "id": "rLrSqAvL0R8N"
      },
      "source": [
        "import os\n"
      ],
      "execution_count": null,
      "outputs": []
    },
    {
      "cell_type": "code",
      "metadata": {
        "id": "Tx7hAJ82lHAY"
      },
      "source": [
        "import zipfile"
      ],
      "execution_count": null,
      "outputs": []
    },
    {
      "cell_type": "markdown",
      "metadata": {
        "id": "JVDabqvVMBeH"
      },
      "source": [
        "Extract CheXPert dataset"
      ]
    },
    {
      "cell_type": "code",
      "metadata": {
        "id": "uAWGnu_-lKBT"
      },
      "source": [
        "if create_files==1:\n",
        "   zipref=zipfile.ZipFile('/content/gdrive/MyDrive/upgrad/LJMU/CheXpert-v1.0-small.zip')\n",
        "   zipref.extractall()"
      ],
      "execution_count": null,
      "outputs": []
    },
    {
      "cell_type": "code",
      "metadata": {
        "id": "uJBKMmeekbwy"
      },
      "source": [
        "#import random number\n",
        "import random as rn\n",
        "rn.seed(50)"
      ],
      "execution_count": null,
      "outputs": []
    },
    {
      "cell_type": "code",
      "metadata": {
        "id": "F-XR6io8kbw0"
      },
      "source": [
        "from keras import backend as K\n",
        "import tensorflow as tf\n",
        "tf.random.set_seed(30)"
      ],
      "execution_count": null,
      "outputs": []
    },
    {
      "cell_type": "code",
      "metadata": {
        "id": "SZCU-NRokbw3"
      },
      "source": [
        "import matplotlib.pyplot as plt"
      ],
      "execution_count": null,
      "outputs": []
    },
    {
      "cell_type": "code",
      "metadata": {
        "id": "D4Ss1cUwkbw4"
      },
      "source": [
        "import cv2\n",
        "import os\n",
        "import re"
      ],
      "execution_count": null,
      "outputs": []
    },
    {
      "cell_type": "markdown",
      "metadata": {
        "id": "siIct1-ckbw6"
      },
      "source": [
        "### Read train csv file"
      ]
    },
    {
      "cell_type": "code",
      "metadata": {
        "id": "2StKHUYwkbw7"
      },
      "source": [
        "main_train_csv=pd.read_csv(\"./CheXpert-v1.0-small/train.csv\")"
      ],
      "execution_count": null,
      "outputs": []
    },
    {
      "cell_type": "code",
      "metadata": {
        "colab": {
          "base_uri": "https://localhost:8080/",
          "height": 607
        },
        "id": "7XHjLKa3kbw8",
        "scrolled": true,
        "outputId": "7a44917c-6e08-4e8d-efb1-66f7b39a0eed"
      },
      "source": [
        "main_train_csv"
      ],
      "execution_count": null,
      "outputs": [
        {
          "output_type": "execute_result",
          "data": {
            "text/html": [
              "<div>\n",
              "<style scoped>\n",
              "    .dataframe tbody tr th:only-of-type {\n",
              "        vertical-align: middle;\n",
              "    }\n",
              "\n",
              "    .dataframe tbody tr th {\n",
              "        vertical-align: top;\n",
              "    }\n",
              "\n",
              "    .dataframe thead th {\n",
              "        text-align: right;\n",
              "    }\n",
              "</style>\n",
              "<table border=\"1\" class=\"dataframe\">\n",
              "  <thead>\n",
              "    <tr style=\"text-align: right;\">\n",
              "      <th></th>\n",
              "      <th>Path</th>\n",
              "      <th>Sex</th>\n",
              "      <th>Age</th>\n",
              "      <th>Frontal/Lateral</th>\n",
              "      <th>AP/PA</th>\n",
              "      <th>No Finding</th>\n",
              "      <th>Enlarged Cardiomediastinum</th>\n",
              "      <th>Cardiomegaly</th>\n",
              "      <th>Lung Opacity</th>\n",
              "      <th>Lung Lesion</th>\n",
              "      <th>Edema</th>\n",
              "      <th>Consolidation</th>\n",
              "      <th>Pneumonia</th>\n",
              "      <th>Atelectasis</th>\n",
              "      <th>Pneumothorax</th>\n",
              "      <th>Pleural Effusion</th>\n",
              "      <th>Pleural Other</th>\n",
              "      <th>Fracture</th>\n",
              "      <th>Support Devices</th>\n",
              "    </tr>\n",
              "  </thead>\n",
              "  <tbody>\n",
              "    <tr>\n",
              "      <th>0</th>\n",
              "      <td>CheXpert-v1.0-small/train/patient00001/study1/...</td>\n",
              "      <td>Female</td>\n",
              "      <td>68</td>\n",
              "      <td>Frontal</td>\n",
              "      <td>AP</td>\n",
              "      <td>1.0</td>\n",
              "      <td>NaN</td>\n",
              "      <td>NaN</td>\n",
              "      <td>NaN</td>\n",
              "      <td>NaN</td>\n",
              "      <td>NaN</td>\n",
              "      <td>NaN</td>\n",
              "      <td>NaN</td>\n",
              "      <td>NaN</td>\n",
              "      <td>0.0</td>\n",
              "      <td>NaN</td>\n",
              "      <td>NaN</td>\n",
              "      <td>NaN</td>\n",
              "      <td>1.0</td>\n",
              "    </tr>\n",
              "    <tr>\n",
              "      <th>1</th>\n",
              "      <td>CheXpert-v1.0-small/train/patient00002/study2/...</td>\n",
              "      <td>Female</td>\n",
              "      <td>87</td>\n",
              "      <td>Frontal</td>\n",
              "      <td>AP</td>\n",
              "      <td>NaN</td>\n",
              "      <td>NaN</td>\n",
              "      <td>-1.0</td>\n",
              "      <td>1.0</td>\n",
              "      <td>NaN</td>\n",
              "      <td>-1.0</td>\n",
              "      <td>-1.0</td>\n",
              "      <td>NaN</td>\n",
              "      <td>-1.0</td>\n",
              "      <td>NaN</td>\n",
              "      <td>-1.0</td>\n",
              "      <td>NaN</td>\n",
              "      <td>1.0</td>\n",
              "      <td>NaN</td>\n",
              "    </tr>\n",
              "    <tr>\n",
              "      <th>2</th>\n",
              "      <td>CheXpert-v1.0-small/train/patient00002/study1/...</td>\n",
              "      <td>Female</td>\n",
              "      <td>83</td>\n",
              "      <td>Frontal</td>\n",
              "      <td>AP</td>\n",
              "      <td>NaN</td>\n",
              "      <td>NaN</td>\n",
              "      <td>NaN</td>\n",
              "      <td>1.0</td>\n",
              "      <td>NaN</td>\n",
              "      <td>NaN</td>\n",
              "      <td>-1.0</td>\n",
              "      <td>NaN</td>\n",
              "      <td>NaN</td>\n",
              "      <td>NaN</td>\n",
              "      <td>NaN</td>\n",
              "      <td>NaN</td>\n",
              "      <td>1.0</td>\n",
              "      <td>NaN</td>\n",
              "    </tr>\n",
              "    <tr>\n",
              "      <th>3</th>\n",
              "      <td>CheXpert-v1.0-small/train/patient00002/study1/...</td>\n",
              "      <td>Female</td>\n",
              "      <td>83</td>\n",
              "      <td>Lateral</td>\n",
              "      <td>NaN</td>\n",
              "      <td>NaN</td>\n",
              "      <td>NaN</td>\n",
              "      <td>NaN</td>\n",
              "      <td>1.0</td>\n",
              "      <td>NaN</td>\n",
              "      <td>NaN</td>\n",
              "      <td>-1.0</td>\n",
              "      <td>NaN</td>\n",
              "      <td>NaN</td>\n",
              "      <td>NaN</td>\n",
              "      <td>NaN</td>\n",
              "      <td>NaN</td>\n",
              "      <td>1.0</td>\n",
              "      <td>NaN</td>\n",
              "    </tr>\n",
              "    <tr>\n",
              "      <th>4</th>\n",
              "      <td>CheXpert-v1.0-small/train/patient00003/study1/...</td>\n",
              "      <td>Male</td>\n",
              "      <td>41</td>\n",
              "      <td>Frontal</td>\n",
              "      <td>AP</td>\n",
              "      <td>NaN</td>\n",
              "      <td>NaN</td>\n",
              "      <td>NaN</td>\n",
              "      <td>NaN</td>\n",
              "      <td>NaN</td>\n",
              "      <td>1.0</td>\n",
              "      <td>NaN</td>\n",
              "      <td>NaN</td>\n",
              "      <td>NaN</td>\n",
              "      <td>0.0</td>\n",
              "      <td>NaN</td>\n",
              "      <td>NaN</td>\n",
              "      <td>NaN</td>\n",
              "      <td>NaN</td>\n",
              "    </tr>\n",
              "    <tr>\n",
              "      <th>...</th>\n",
              "      <td>...</td>\n",
              "      <td>...</td>\n",
              "      <td>...</td>\n",
              "      <td>...</td>\n",
              "      <td>...</td>\n",
              "      <td>...</td>\n",
              "      <td>...</td>\n",
              "      <td>...</td>\n",
              "      <td>...</td>\n",
              "      <td>...</td>\n",
              "      <td>...</td>\n",
              "      <td>...</td>\n",
              "      <td>...</td>\n",
              "      <td>...</td>\n",
              "      <td>...</td>\n",
              "      <td>...</td>\n",
              "      <td>...</td>\n",
              "      <td>...</td>\n",
              "      <td>...</td>\n",
              "    </tr>\n",
              "    <tr>\n",
              "      <th>223409</th>\n",
              "      <td>CheXpert-v1.0-small/train/patient64537/study2/...</td>\n",
              "      <td>Male</td>\n",
              "      <td>59</td>\n",
              "      <td>Frontal</td>\n",
              "      <td>AP</td>\n",
              "      <td>NaN</td>\n",
              "      <td>NaN</td>\n",
              "      <td>NaN</td>\n",
              "      <td>-1.0</td>\n",
              "      <td>NaN</td>\n",
              "      <td>NaN</td>\n",
              "      <td>NaN</td>\n",
              "      <td>NaN</td>\n",
              "      <td>-1.0</td>\n",
              "      <td>0.0</td>\n",
              "      <td>1.0</td>\n",
              "      <td>NaN</td>\n",
              "      <td>NaN</td>\n",
              "      <td>NaN</td>\n",
              "    </tr>\n",
              "    <tr>\n",
              "      <th>223410</th>\n",
              "      <td>CheXpert-v1.0-small/train/patient64537/study1/...</td>\n",
              "      <td>Male</td>\n",
              "      <td>59</td>\n",
              "      <td>Frontal</td>\n",
              "      <td>AP</td>\n",
              "      <td>NaN</td>\n",
              "      <td>NaN</td>\n",
              "      <td>NaN</td>\n",
              "      <td>-1.0</td>\n",
              "      <td>NaN</td>\n",
              "      <td>NaN</td>\n",
              "      <td>NaN</td>\n",
              "      <td>0.0</td>\n",
              "      <td>-1.0</td>\n",
              "      <td>NaN</td>\n",
              "      <td>-1.0</td>\n",
              "      <td>NaN</td>\n",
              "      <td>NaN</td>\n",
              "      <td>NaN</td>\n",
              "    </tr>\n",
              "    <tr>\n",
              "      <th>223411</th>\n",
              "      <td>CheXpert-v1.0-small/train/patient64538/study1/...</td>\n",
              "      <td>Female</td>\n",
              "      <td>0</td>\n",
              "      <td>Frontal</td>\n",
              "      <td>AP</td>\n",
              "      <td>NaN</td>\n",
              "      <td>NaN</td>\n",
              "      <td>NaN</td>\n",
              "      <td>NaN</td>\n",
              "      <td>NaN</td>\n",
              "      <td>-1.0</td>\n",
              "      <td>NaN</td>\n",
              "      <td>NaN</td>\n",
              "      <td>NaN</td>\n",
              "      <td>NaN</td>\n",
              "      <td>NaN</td>\n",
              "      <td>NaN</td>\n",
              "      <td>NaN</td>\n",
              "      <td>NaN</td>\n",
              "    </tr>\n",
              "    <tr>\n",
              "      <th>223412</th>\n",
              "      <td>CheXpert-v1.0-small/train/patient64539/study1/...</td>\n",
              "      <td>Female</td>\n",
              "      <td>0</td>\n",
              "      <td>Frontal</td>\n",
              "      <td>AP</td>\n",
              "      <td>NaN</td>\n",
              "      <td>NaN</td>\n",
              "      <td>1.0</td>\n",
              "      <td>1.0</td>\n",
              "      <td>NaN</td>\n",
              "      <td>NaN</td>\n",
              "      <td>NaN</td>\n",
              "      <td>-1.0</td>\n",
              "      <td>1.0</td>\n",
              "      <td>0.0</td>\n",
              "      <td>NaN</td>\n",
              "      <td>NaN</td>\n",
              "      <td>NaN</td>\n",
              "      <td>0.0</td>\n",
              "    </tr>\n",
              "    <tr>\n",
              "      <th>223413</th>\n",
              "      <td>CheXpert-v1.0-small/train/patient64540/study1/...</td>\n",
              "      <td>Female</td>\n",
              "      <td>0</td>\n",
              "      <td>Frontal</td>\n",
              "      <td>AP</td>\n",
              "      <td>1.0</td>\n",
              "      <td>NaN</td>\n",
              "      <td>NaN</td>\n",
              "      <td>NaN</td>\n",
              "      <td>NaN</td>\n",
              "      <td>NaN</td>\n",
              "      <td>NaN</td>\n",
              "      <td>NaN</td>\n",
              "      <td>NaN</td>\n",
              "      <td>0.0</td>\n",
              "      <td>NaN</td>\n",
              "      <td>NaN</td>\n",
              "      <td>NaN</td>\n",
              "      <td>NaN</td>\n",
              "    </tr>\n",
              "  </tbody>\n",
              "</table>\n",
              "<p>223414 rows × 19 columns</p>\n",
              "</div>"
            ],
            "text/plain": [
              "                                                     Path  ... Support Devices\n",
              "0       CheXpert-v1.0-small/train/patient00001/study1/...  ...             1.0\n",
              "1       CheXpert-v1.0-small/train/patient00002/study2/...  ...             NaN\n",
              "2       CheXpert-v1.0-small/train/patient00002/study1/...  ...             NaN\n",
              "3       CheXpert-v1.0-small/train/patient00002/study1/...  ...             NaN\n",
              "4       CheXpert-v1.0-small/train/patient00003/study1/...  ...             NaN\n",
              "...                                                   ...  ...             ...\n",
              "223409  CheXpert-v1.0-small/train/patient64537/study2/...  ...             NaN\n",
              "223410  CheXpert-v1.0-small/train/patient64537/study1/...  ...             NaN\n",
              "223411  CheXpert-v1.0-small/train/patient64538/study1/...  ...             NaN\n",
              "223412  CheXpert-v1.0-small/train/patient64539/study1/...  ...             0.0\n",
              "223413  CheXpert-v1.0-small/train/patient64540/study1/...  ...             NaN\n",
              "\n",
              "[223414 rows x 19 columns]"
            ]
          },
          "metadata": {
            "tags": []
          },
          "execution_count": 18
        }
      ]
    },
    {
      "cell_type": "code",
      "metadata": {
        "colab": {
          "base_uri": "https://localhost:8080/",
          "height": 347
        },
        "id": "BhV35EE8kbw9",
        "outputId": "c378530c-fe1a-409c-c06a-3f92c3c0939f"
      },
      "source": [
        "sns.boxplot(main_train_csv.Age)"
      ],
      "execution_count": null,
      "outputs": [
        {
          "output_type": "stream",
          "text": [
            "/usr/local/lib/python3.7/dist-packages/seaborn/_decorators.py:43: FutureWarning: Pass the following variable as a keyword arg: x. From version 0.12, the only valid positional argument will be `data`, and passing other arguments without an explicit keyword will result in an error or misinterpretation.\n",
            "  FutureWarning\n"
          ],
          "name": "stderr"
        },
        {
          "output_type": "execute_result",
          "data": {
            "text/plain": [
              "<matplotlib.axes._subplots.AxesSubplot at 0x7efe3cf3e390>"
            ]
          },
          "metadata": {
            "tags": []
          },
          "execution_count": 19
        },
        {
          "output_type": "display_data",
          "data": {
            "image/png": "[encoded data removed]",
            "text/plain": [
              "<Figure size 432x288 with 1 Axes>"
            ]
          },
          "metadata": {
            "tags": [],
            "needs_background": "light"
          }
        }
      ]
    },
    {
      "cell_type": "code",
      "metadata": {
        "colab": {
          "base_uri": "https://localhost:8080/",
          "height": 223
        },
        "id": "ZRy1hgRKkbw-",
        "outputId": "47f672cf-8126-4eb4-80c7-24b9df3b47be"
      },
      "source": [
        "main_train_csv[main_train_csv.Age<18]"
      ],
      "execution_count": null,
      "outputs": [
        {
          "output_type": "execute_result",
          "data": {
            "text/html": [
              "<div>\n",
              "<style scoped>\n",
              "    .dataframe tbody tr th:only-of-type {\n",
              "        vertical-align: middle;\n",
              "    }\n",
              "\n",
              "    .dataframe tbody tr th {\n",
              "        vertical-align: top;\n",
              "    }\n",
              "\n",
              "    .dataframe thead th {\n",
              "        text-align: right;\n",
              "    }\n",
              "</style>\n",
              "<table border=\"1\" class=\"dataframe\">\n",
              "  <thead>\n",
              "    <tr style=\"text-align: right;\">\n",
              "      <th></th>\n",
              "      <th>Path</th>\n",
              "      <th>Sex</th>\n",
              "      <th>Age</th>\n",
              "      <th>Frontal/Lateral</th>\n",
              "      <th>AP/PA</th>\n",
              "      <th>No Finding</th>\n",
              "      <th>Enlarged Cardiomediastinum</th>\n",
              "      <th>Cardiomegaly</th>\n",
              "      <th>Lung Opacity</th>\n",
              "      <th>Lung Lesion</th>\n",
              "      <th>Edema</th>\n",
              "      <th>Consolidation</th>\n",
              "      <th>Pneumonia</th>\n",
              "      <th>Atelectasis</th>\n",
              "      <th>Pneumothorax</th>\n",
              "      <th>Pleural Effusion</th>\n",
              "      <th>Pleural Other</th>\n",
              "      <th>Fracture</th>\n",
              "      <th>Support Devices</th>\n",
              "    </tr>\n",
              "  </thead>\n",
              "  <tbody>\n",
              "    <tr>\n",
              "      <th>223411</th>\n",
              "      <td>CheXpert-v1.0-small/train/patient64538/study1/...</td>\n",
              "      <td>Female</td>\n",
              "      <td>0</td>\n",
              "      <td>Frontal</td>\n",
              "      <td>AP</td>\n",
              "      <td>NaN</td>\n",
              "      <td>NaN</td>\n",
              "      <td>NaN</td>\n",
              "      <td>NaN</td>\n",
              "      <td>NaN</td>\n",
              "      <td>-1.0</td>\n",
              "      <td>NaN</td>\n",
              "      <td>NaN</td>\n",
              "      <td>NaN</td>\n",
              "      <td>NaN</td>\n",
              "      <td>NaN</td>\n",
              "      <td>NaN</td>\n",
              "      <td>NaN</td>\n",
              "      <td>NaN</td>\n",
              "    </tr>\n",
              "    <tr>\n",
              "      <th>223412</th>\n",
              "      <td>CheXpert-v1.0-small/train/patient64539/study1/...</td>\n",
              "      <td>Female</td>\n",
              "      <td>0</td>\n",
              "      <td>Frontal</td>\n",
              "      <td>AP</td>\n",
              "      <td>NaN</td>\n",
              "      <td>NaN</td>\n",
              "      <td>1.0</td>\n",
              "      <td>1.0</td>\n",
              "      <td>NaN</td>\n",
              "      <td>NaN</td>\n",
              "      <td>NaN</td>\n",
              "      <td>-1.0</td>\n",
              "      <td>1.0</td>\n",
              "      <td>0.0</td>\n",
              "      <td>NaN</td>\n",
              "      <td>NaN</td>\n",
              "      <td>NaN</td>\n",
              "      <td>0.0</td>\n",
              "    </tr>\n",
              "    <tr>\n",
              "      <th>223413</th>\n",
              "      <td>CheXpert-v1.0-small/train/patient64540/study1/...</td>\n",
              "      <td>Female</td>\n",
              "      <td>0</td>\n",
              "      <td>Frontal</td>\n",
              "      <td>AP</td>\n",
              "      <td>1.0</td>\n",
              "      <td>NaN</td>\n",
              "      <td>NaN</td>\n",
              "      <td>NaN</td>\n",
              "      <td>NaN</td>\n",
              "      <td>NaN</td>\n",
              "      <td>NaN</td>\n",
              "      <td>NaN</td>\n",
              "      <td>NaN</td>\n",
              "      <td>0.0</td>\n",
              "      <td>NaN</td>\n",
              "      <td>NaN</td>\n",
              "      <td>NaN</td>\n",
              "      <td>NaN</td>\n",
              "    </tr>\n",
              "  </tbody>\n",
              "</table>\n",
              "</div>"
            ],
            "text/plain": [
              "                                                     Path  ... Support Devices\n",
              "223411  CheXpert-v1.0-small/train/patient64538/study1/...  ...             NaN\n",
              "223412  CheXpert-v1.0-small/train/patient64539/study1/...  ...             0.0\n",
              "223413  CheXpert-v1.0-small/train/patient64540/study1/...  ...             NaN\n",
              "\n",
              "[3 rows x 19 columns]"
            ]
          },
          "metadata": {
            "tags": []
          },
          "execution_count": 20
        }
      ]
    },
    {
      "cell_type": "code",
      "metadata": {
        "colab": {
          "base_uri": "https://localhost:8080/",
          "height": 347
        },
        "id": "a-sXgjnbkbxA",
        "outputId": "148185d1-265b-47fc-e472-8b9d187f102b"
      },
      "source": [
        "sns.distplot(main_train_csv.Age,bins=10)"
      ],
      "execution_count": null,
      "outputs": [
        {
          "output_type": "stream",
          "text": [
            "/usr/local/lib/python3.7/dist-packages/seaborn/distributions.py:2557: FutureWarning: `distplot` is a deprecated function and will be removed in a future version. Please adapt your code to use either `displot` (a figure-level function with similar flexibility) or `histplot` (an axes-level function for histograms).\n",
            "  warnings.warn(msg, FutureWarning)\n"
          ],
          "name": "stderr"
        },
        {
          "output_type": "execute_result",
          "data": {
            "text/plain": [
              "<matplotlib.axes._subplots.AxesSubplot at 0x7efe3b706150>"
            ]
          },
          "metadata": {
            "tags": []
          },
          "execution_count": 21
        },
        {
          "output_type": "display_data",
          "data": {
            "image/png": "[encoded data removed]",
            "text/plain": [
              "<Figure size 432x288 with 1 Axes>"
            ]
          },
          "metadata": {
            "tags": [],
            "needs_background": "light"
          }
        }
      ]
    },
    {
      "cell_type": "code",
      "metadata": {
        "id": "e90oScEUkbxB"
      },
      "source": [
        "main_train_csv=main_train_csv[main_train_csv.Age>=10]"
      ],
      "execution_count": null,
      "outputs": []
    },
    {
      "cell_type": "code",
      "metadata": {
        "colab": {
          "base_uri": "https://localhost:8080/",
          "height": 347
        },
        "id": "g9kpS4UhkbxB",
        "outputId": "e6972b4e-46d4-409e-8231-3a37fc122c12"
      },
      "source": [
        "sns.distplot(main_train_csv.Age,bins=10)"
      ],
      "execution_count": null,
      "outputs": [
        {
          "output_type": "stream",
          "text": [
            "/usr/local/lib/python3.7/dist-packages/seaborn/distributions.py:2557: FutureWarning: `distplot` is a deprecated function and will be removed in a future version. Please adapt your code to use either `displot` (a figure-level function with similar flexibility) or `histplot` (an axes-level function for histograms).\n",
            "  warnings.warn(msg, FutureWarning)\n"
          ],
          "name": "stderr"
        },
        {
          "output_type": "execute_result",
          "data": {
            "text/plain": [
              "<matplotlib.axes._subplots.AxesSubplot at 0x7efe31e3e690>"
            ]
          },
          "metadata": {
            "tags": []
          },
          "execution_count": 23
        },
        {
          "output_type": "display_data",
          "data": {
            "image/png": "[encoded data removed]",
            "text/plain": [
              "<Figure size 432x288 with 1 Axes>"
            ]
          },
          "metadata": {
            "tags": [],
            "needs_background": "light"
          }
        }
      ]
    },
    {
      "cell_type": "code",
      "metadata": {
        "colab": {
          "base_uri": "https://localhost:8080/"
        },
        "id": "FUBTiYiEkbxC",
        "outputId": "87237097-d498-41eb-eeed-61f4806ab379"
      },
      "source": [
        "main_train_csv.columns"
      ],
      "execution_count": null,
      "outputs": [
        {
          "output_type": "execute_result",
          "data": {
            "text/plain": [
              "Index(['Path', 'Sex', 'Age', 'Frontal/Lateral', 'AP/PA', 'No Finding',\n",
              "       'Enlarged Cardiomediastinum', 'Cardiomegaly', 'Lung Opacity',\n",
              "       'Lung Lesion', 'Edema', 'Consolidation', 'Pneumonia', 'Atelectasis',\n",
              "       'Pneumothorax', 'Pleural Effusion', 'Pleural Other', 'Fracture',\n",
              "       'Support Devices'],\n",
              "      dtype='object')"
            ]
          },
          "metadata": {
            "tags": []
          },
          "execution_count": 24
        }
      ]
    },
    {
      "cell_type": "code",
      "metadata": {
        "colab": {
          "base_uri": "https://localhost:8080/"
        },
        "id": "iFnYXBaKkbxD",
        "outputId": "18a2732c-8ca4-4e2c-e0e7-9da52de6320f"
      },
      "source": [
        "cols=main_train_csv.columns\n",
        "cols=cols[6:-1]\n",
        "cols"
      ],
      "execution_count": null,
      "outputs": [
        {
          "output_type": "execute_result",
          "data": {
            "text/plain": [
              "Index(['Enlarged Cardiomediastinum', 'Cardiomegaly', 'Lung Opacity',\n",
              "       'Lung Lesion', 'Edema', 'Consolidation', 'Pneumonia', 'Atelectasis',\n",
              "       'Pneumothorax', 'Pleural Effusion', 'Pleural Other', 'Fracture'],\n",
              "      dtype='object')"
            ]
          },
          "metadata": {
            "tags": []
          },
          "execution_count": 25
        }
      ]
    },
    {
      "cell_type": "markdown",
      "metadata": {
        "id": "yhshQgtfkbxE"
      },
      "source": [
        "# Graph of Frontal Vs Lateral XRays"
      ]
    },
    {
      "cell_type": "code",
      "metadata": {
        "id": "WzZBuc0FkbxF"
      },
      "source": [
        "front_lateral=main_train_csv.groupby('Frontal/Lateral').count()['Path']"
      ],
      "execution_count": null,
      "outputs": []
    },
    {
      "cell_type": "code",
      "metadata": {
        "colab": {
          "base_uri": "https://localhost:8080/"
        },
        "id": "EARflH1_kbxG",
        "outputId": "c093c622-ab40-43a3-f25e-51d502c0607f"
      },
      "source": [
        "front_lateral.values"
      ],
      "execution_count": null,
      "outputs": [
        {
          "output_type": "execute_result",
          "data": {
            "text/plain": [
              "array([191024,  32387])"
            ]
          },
          "metadata": {
            "tags": []
          },
          "execution_count": 27
        }
      ]
    },
    {
      "cell_type": "code",
      "metadata": {
        "colab": {
          "base_uri": "https://localhost:8080/",
          "height": 302
        },
        "id": "DwQxBNK3kbxH",
        "outputId": "06b332d7-ef3c-4555-ccb8-64a491456d9a"
      },
      "source": [
        "plt.figure(figsize=(5,5))\n",
        "patches, texts, autotexts=plt.pie(front_lateral.values,labels=front_lateral.index,autopct=\"%.1f%%\",colors=['lightblue','lightgreen'],\n",
        "                                 textprops={'fontsize': 14})\n",
        "plt.show()"
      ],
      "execution_count": null,
      "outputs": [
        {
          "output_type": "display_data",
          "data": {
            "image/png": "[encoded data removed]",
            "text/plain": [
              "<Figure size 360x360 with 1 Axes>"
            ]
          },
          "metadata": {
            "tags": []
          }
        }
      ]
    },
    {
      "cell_type": "code",
      "metadata": {
        "id": "W9T5zOuooOFF"
      },
      "source": [
        "sex=main_train_csv.groupby('Sex').count()['Path']"
      ],
      "execution_count": null,
      "outputs": []
    },
    {
      "cell_type": "code",
      "metadata": {
        "colab": {
          "base_uri": "https://localhost:8080/",
          "height": 302
        },
        "id": "HXIH8LY7oXSn",
        "outputId": "fd93ed6d-da69-4b23-85f8-d71c874eb85e"
      },
      "source": [
        "plt.figure(figsize=(5,5))\n",
        "patches, texts, autotexts=plt.pie(sex.values,labels=sex.index,autopct=\"%.1f%%\",colors=['lightblue','lightgreen'],\n",
        "                                 textprops={'fontsize': 14})\n",
        "plt.show()"
      ],
      "execution_count": null,
      "outputs": [
        {
          "output_type": "display_data",
          "data": {
            "image/png": "[encoded data removed]",
            "text/plain": [
              "<Figure size 360x360 with 1 Axes>"
            ]
          },
          "metadata": {
            "tags": []
          }
        }
      ]
    },
    {
      "cell_type": "code",
      "metadata": {
        "id": "STDTKqC82z3O"
      },
      "source": [
        "main_train_csv=main_train_csv[main_train_csv['Sex']!='Unknown']"
      ],
      "execution_count": null,
      "outputs": []
    },
    {
      "cell_type": "code",
      "metadata": {
        "colab": {
          "base_uri": "https://localhost:8080/",
          "height": 302
        },
        "id": "bSpcwxyh3PUv",
        "outputId": "da037e78-782f-4fd0-9203-583e149eaef2"
      },
      "source": [
        "sex=main_train_csv.groupby('Sex').count()['Path']\n",
        "\n",
        "plt.figure(figsize=(5,5))\n",
        "patches, texts, autotexts=plt.pie(sex.values,labels=sex.index,autopct=\"%.1f%%\",colors=['lightblue','lightgreen'],\n",
        "                                 textprops={'fontsize': 14})\n",
        "plt.show()"
      ],
      "execution_count": null,
      "outputs": [
        {
          "output_type": "display_data",
          "data": {
            "image/png": "[encoded data removed]",
            "text/plain": [
              "<Figure size 360x360 with 1 Axes>"
            ]
          },
          "metadata": {
            "tags": []
          }
        }
      ]
    },
    {
      "cell_type": "markdown",
      "metadata": {
        "id": "JbA2wd-gkbxI"
      },
      "source": [
        "# Graph plots of pathologies"
      ]
    },
    {
      "cell_type": "code",
      "metadata": {
        "id": "OWX2bH41kbxJ"
      },
      "source": [
        "cols=main_train_csv.columns[5:]"
      ],
      "execution_count": null,
      "outputs": []
    },
    {
      "cell_type": "code",
      "metadata": {
        "colab": {
          "base_uri": "https://localhost:8080/"
        },
        "id": "k_JUQLDbkbxJ",
        "outputId": "a16019f2-5b69-41e8-e827-010d725d5143"
      },
      "source": [
        "cols"
      ],
      "execution_count": null,
      "outputs": [
        {
          "output_type": "execute_result",
          "data": {
            "text/plain": [
              "Index(['No Finding', 'Enlarged Cardiomediastinum', 'Cardiomegaly',\n",
              "       'Lung Opacity', 'Lung Lesion', 'Edema', 'Consolidation', 'Pneumonia',\n",
              "       'Atelectasis', 'Pneumothorax', 'Pleural Effusion', 'Pleural Other',\n",
              "       'Fracture', 'Support Devices'],\n",
              "      dtype='object')"
            ]
          },
          "metadata": {
            "tags": []
          },
          "execution_count": 35
        }
      ]
    },
    {
      "cell_type": "code",
      "metadata": {
        "id": "h24ypYaPkbxK"
      },
      "source": [
        "path_count=[main_train_csv[main_train_csv[col]==1.0].shape[0] for col in cols]"
      ],
      "execution_count": null,
      "outputs": []
    },
    {
      "cell_type": "code",
      "metadata": {
        "id": "4Lgj54WVkbxL"
      },
      "source": [
        "path_count_uncert=[main_train_csv[main_train_csv[col]==-1.0].shape[0] for col in cols]"
      ],
      "execution_count": null,
      "outputs": []
    },
    {
      "cell_type": "code",
      "metadata": {
        "id": "dGPnxoaokbxM"
      },
      "source": [
        "path_count_negative=[main_train_csv[(main_train_csv[col]==0.0) | (main_train_csv[col].isnull())].shape[0] for col in cols]"
      ],
      "execution_count": null,
      "outputs": []
    },
    {
      "cell_type": "code",
      "metadata": {
        "colab": {
          "base_uri": "https://localhost:8080/",
          "height": 422
        },
        "id": "PlBMkYn9kbxM",
        "outputId": "69cdf974-291d-400d-ab2d-3adf93d154e2"
      },
      "source": [
        "plt.figure(figsize=(18,4))\n",
        "\n",
        "X_axis = np.arange(len(cols))\n",
        "\n",
        "\n",
        "plt.bar(X_axis-0.25,path_count,0.25,color='orange',label='positive')\n",
        "plt.bar(X_axis+0.0,path_count_uncert,0.25,color='lightblue',label='uncertain')\n",
        "plt.bar(X_axis+0.25,path_count_negative,0.25,color='lightgreen',label='negative/no mention')\n",
        "\n",
        "plt.xticks(X_axis, cols)\n",
        "\n",
        "plt.xlabel('Pathology Label',fontsize=18)\n",
        "plt.ylabel('Occurance',fontsize=18)\n",
        "plt.xticks(rotation=90)\n",
        "plt.legend(loc=\"upper left\")\n",
        "\n",
        "\n",
        "plt.show()"
      ],
      "execution_count": null,
      "outputs": [
        {
          "output_type": "display_data",
          "data": {
            "image/png": "[encoded data removed]",
            "text/plain": [
              "<Figure size 1296x288 with 1 Axes>"
            ]
          },
          "metadata": {
            "tags": [],
            "needs_background": "light"
          }
        }
      ]
    },
    {
      "cell_type": "markdown",
      "metadata": {
        "id": "hyG0nJkEkbxO"
      },
      "source": [
        ""
      ]
    },
    {
      "cell_type": "markdown",
      "metadata": {
        "id": "IEkx1NpOkbxR"
      },
      "source": [
        "# Age prediction task"
      ]
    },
    {
      "cell_type": "code",
      "metadata": {
        "colab": {
          "base_uri": "https://localhost:8080/",
          "height": 607
        },
        "id": "OObQYMnHkbxS",
        "outputId": "d7eb4428-56fe-43ed-e0fe-18f3e5b28e5b"
      },
      "source": [
        "main_train_nofinding=main_train_csv[main_train_csv['No Finding']==1.0]\n",
        "main_train_nofinding"
      ],
      "execution_count": null,
      "outputs": [
        {
          "output_type": "execute_result",
          "data": {
            "text/html": [
              "<div>\n",
              "<style scoped>\n",
              "    .dataframe tbody tr th:only-of-type {\n",
              "        vertical-align: middle;\n",
              "    }\n",
              "\n",
              "    .dataframe tbody tr th {\n",
              "        vertical-align: top;\n",
              "    }\n",
              "\n",
              "    .dataframe thead th {\n",
              "        text-align: right;\n",
              "    }\n",
              "</style>\n",
              "<table border=\"1\" class=\"dataframe\">\n",
              "  <thead>\n",
              "    <tr style=\"text-align: right;\">\n",
              "      <th></th>\n",
              "      <th>Path</th>\n",
              "      <th>Sex</th>\n",
              "      <th>Age</th>\n",
              "      <th>Frontal/Lateral</th>\n",
              "      <th>AP/PA</th>\n",
              "      <th>No Finding</th>\n",
              "      <th>Enlarged Cardiomediastinum</th>\n",
              "      <th>Cardiomegaly</th>\n",
              "      <th>Lung Opacity</th>\n",
              "      <th>Lung Lesion</th>\n",
              "      <th>Edema</th>\n",
              "      <th>Consolidation</th>\n",
              "      <th>Pneumonia</th>\n",
              "      <th>Atelectasis</th>\n",
              "      <th>Pneumothorax</th>\n",
              "      <th>Pleural Effusion</th>\n",
              "      <th>Pleural Other</th>\n",
              "      <th>Fracture</th>\n",
              "      <th>Support Devices</th>\n",
              "    </tr>\n",
              "  </thead>\n",
              "  <tbody>\n",
              "    <tr>\n",
              "      <th>0</th>\n",
              "      <td>CheXpert-v1.0-small/train/patient00001/study1/...</td>\n",
              "      <td>Female</td>\n",
              "      <td>68</td>\n",
              "      <td>Frontal</td>\n",
              "      <td>AP</td>\n",
              "      <td>1.0</td>\n",
              "      <td>NaN</td>\n",
              "      <td>NaN</td>\n",
              "      <td>NaN</td>\n",
              "      <td>NaN</td>\n",
              "      <td>NaN</td>\n",
              "      <td>NaN</td>\n",
              "      <td>NaN</td>\n",
              "      <td>NaN</td>\n",
              "      <td>0.0</td>\n",
              "      <td>NaN</td>\n",
              "      <td>NaN</td>\n",
              "      <td>NaN</td>\n",
              "      <td>1.0</td>\n",
              "    </tr>\n",
              "    <tr>\n",
              "      <th>5</th>\n",
              "      <td>CheXpert-v1.0-small/train/patient00004/study1/...</td>\n",
              "      <td>Female</td>\n",
              "      <td>20</td>\n",
              "      <td>Frontal</td>\n",
              "      <td>PA</td>\n",
              "      <td>1.0</td>\n",
              "      <td>0.0</td>\n",
              "      <td>NaN</td>\n",
              "      <td>NaN</td>\n",
              "      <td>NaN</td>\n",
              "      <td>NaN</td>\n",
              "      <td>0.0</td>\n",
              "      <td>NaN</td>\n",
              "      <td>NaN</td>\n",
              "      <td>NaN</td>\n",
              "      <td>0.0</td>\n",
              "      <td>NaN</td>\n",
              "      <td>NaN</td>\n",
              "      <td>NaN</td>\n",
              "    </tr>\n",
              "    <tr>\n",
              "      <th>6</th>\n",
              "      <td>CheXpert-v1.0-small/train/patient00004/study1/...</td>\n",
              "      <td>Female</td>\n",
              "      <td>20</td>\n",
              "      <td>Lateral</td>\n",
              "      <td>NaN</td>\n",
              "      <td>1.0</td>\n",
              "      <td>0.0</td>\n",
              "      <td>NaN</td>\n",
              "      <td>NaN</td>\n",
              "      <td>NaN</td>\n",
              "      <td>NaN</td>\n",
              "      <td>0.0</td>\n",
              "      <td>NaN</td>\n",
              "      <td>NaN</td>\n",
              "      <td>NaN</td>\n",
              "      <td>0.0</td>\n",
              "      <td>NaN</td>\n",
              "      <td>NaN</td>\n",
              "      <td>NaN</td>\n",
              "    </tr>\n",
              "    <tr>\n",
              "      <th>7</th>\n",
              "      <td>CheXpert-v1.0-small/train/patient00005/study1/...</td>\n",
              "      <td>Male</td>\n",
              "      <td>33</td>\n",
              "      <td>Frontal</td>\n",
              "      <td>PA</td>\n",
              "      <td>1.0</td>\n",
              "      <td>NaN</td>\n",
              "      <td>0.0</td>\n",
              "      <td>NaN</td>\n",
              "      <td>NaN</td>\n",
              "      <td>NaN</td>\n",
              "      <td>0.0</td>\n",
              "      <td>NaN</td>\n",
              "      <td>NaN</td>\n",
              "      <td>NaN</td>\n",
              "      <td>0.0</td>\n",
              "      <td>NaN</td>\n",
              "      <td>NaN</td>\n",
              "      <td>1.0</td>\n",
              "    </tr>\n",
              "    <tr>\n",
              "      <th>8</th>\n",
              "      <td>CheXpert-v1.0-small/train/patient00005/study1/...</td>\n",
              "      <td>Male</td>\n",
              "      <td>33</td>\n",
              "      <td>Lateral</td>\n",
              "      <td>NaN</td>\n",
              "      <td>1.0</td>\n",
              "      <td>NaN</td>\n",
              "      <td>0.0</td>\n",
              "      <td>NaN</td>\n",
              "      <td>NaN</td>\n",
              "      <td>NaN</td>\n",
              "      <td>0.0</td>\n",
              "      <td>NaN</td>\n",
              "      <td>NaN</td>\n",
              "      <td>NaN</td>\n",
              "      <td>0.0</td>\n",
              "      <td>NaN</td>\n",
              "      <td>NaN</td>\n",
              "      <td>1.0</td>\n",
              "    </tr>\n",
              "    <tr>\n",
              "      <th>...</th>\n",
              "      <td>...</td>\n",
              "      <td>...</td>\n",
              "      <td>...</td>\n",
              "      <td>...</td>\n",
              "      <td>...</td>\n",
              "      <td>...</td>\n",
              "      <td>...</td>\n",
              "      <td>...</td>\n",
              "      <td>...</td>\n",
              "      <td>...</td>\n",
              "      <td>...</td>\n",
              "      <td>...</td>\n",
              "      <td>...</td>\n",
              "      <td>...</td>\n",
              "      <td>...</td>\n",
              "      <td>...</td>\n",
              "      <td>...</td>\n",
              "      <td>...</td>\n",
              "      <td>...</td>\n",
              "    </tr>\n",
              "    <tr>\n",
              "      <th>223386</th>\n",
              "      <td>CheXpert-v1.0-small/train/patient64517/study1/...</td>\n",
              "      <td>Male</td>\n",
              "      <td>21</td>\n",
              "      <td>Frontal</td>\n",
              "      <td>AP</td>\n",
              "      <td>1.0</td>\n",
              "      <td>0.0</td>\n",
              "      <td>NaN</td>\n",
              "      <td>NaN</td>\n",
              "      <td>NaN</td>\n",
              "      <td>NaN</td>\n",
              "      <td>NaN</td>\n",
              "      <td>NaN</td>\n",
              "      <td>NaN</td>\n",
              "      <td>0.0</td>\n",
              "      <td>NaN</td>\n",
              "      <td>NaN</td>\n",
              "      <td>NaN</td>\n",
              "      <td>1.0</td>\n",
              "    </tr>\n",
              "    <tr>\n",
              "      <th>223388</th>\n",
              "      <td>CheXpert-v1.0-small/train/patient64519/study1/...</td>\n",
              "      <td>Female</td>\n",
              "      <td>33</td>\n",
              "      <td>Frontal</td>\n",
              "      <td>AP</td>\n",
              "      <td>1.0</td>\n",
              "      <td>NaN</td>\n",
              "      <td>NaN</td>\n",
              "      <td>NaN</td>\n",
              "      <td>NaN</td>\n",
              "      <td>NaN</td>\n",
              "      <td>0.0</td>\n",
              "      <td>NaN</td>\n",
              "      <td>NaN</td>\n",
              "      <td>NaN</td>\n",
              "      <td>0.0</td>\n",
              "      <td>NaN</td>\n",
              "      <td>NaN</td>\n",
              "      <td>1.0</td>\n",
              "    </tr>\n",
              "    <tr>\n",
              "      <th>223389</th>\n",
              "      <td>CheXpert-v1.0-small/train/patient64520/study1/...</td>\n",
              "      <td>Female</td>\n",
              "      <td>65</td>\n",
              "      <td>Frontal</td>\n",
              "      <td>AP</td>\n",
              "      <td>1.0</td>\n",
              "      <td>NaN</td>\n",
              "      <td>NaN</td>\n",
              "      <td>NaN</td>\n",
              "      <td>NaN</td>\n",
              "      <td>NaN</td>\n",
              "      <td>0.0</td>\n",
              "      <td>NaN</td>\n",
              "      <td>NaN</td>\n",
              "      <td>NaN</td>\n",
              "      <td>NaN</td>\n",
              "      <td>NaN</td>\n",
              "      <td>NaN</td>\n",
              "      <td>NaN</td>\n",
              "    </tr>\n",
              "    <tr>\n",
              "      <th>223391</th>\n",
              "      <td>CheXpert-v1.0-small/train/patient64522/study1/...</td>\n",
              "      <td>Female</td>\n",
              "      <td>21</td>\n",
              "      <td>Frontal</td>\n",
              "      <td>AP</td>\n",
              "      <td>1.0</td>\n",
              "      <td>NaN</td>\n",
              "      <td>0.0</td>\n",
              "      <td>0.0</td>\n",
              "      <td>NaN</td>\n",
              "      <td>NaN</td>\n",
              "      <td>NaN</td>\n",
              "      <td>NaN</td>\n",
              "      <td>NaN</td>\n",
              "      <td>0.0</td>\n",
              "      <td>0.0</td>\n",
              "      <td>NaN</td>\n",
              "      <td>NaN</td>\n",
              "      <td>0.0</td>\n",
              "    </tr>\n",
              "    <tr>\n",
              "      <th>223402</th>\n",
              "      <td>CheXpert-v1.0-small/train/patient64532/study1/...</td>\n",
              "      <td>Female</td>\n",
              "      <td>52</td>\n",
              "      <td>Frontal</td>\n",
              "      <td>AP</td>\n",
              "      <td>1.0</td>\n",
              "      <td>NaN</td>\n",
              "      <td>NaN</td>\n",
              "      <td>NaN</td>\n",
              "      <td>NaN</td>\n",
              "      <td>0.0</td>\n",
              "      <td>0.0</td>\n",
              "      <td>NaN</td>\n",
              "      <td>NaN</td>\n",
              "      <td>NaN</td>\n",
              "      <td>0.0</td>\n",
              "      <td>NaN</td>\n",
              "      <td>NaN</td>\n",
              "      <td>1.0</td>\n",
              "    </tr>\n",
              "  </tbody>\n",
              "</table>\n",
              "<p>22379 rows × 19 columns</p>\n",
              "</div>"
            ],
            "text/plain": [
              "                                                     Path  ... Support Devices\n",
              "0       CheXpert-v1.0-small/train/patient00001/study1/...  ...             1.0\n",
              "5       CheXpert-v1.0-small/train/patient00004/study1/...  ...             NaN\n",
              "6       CheXpert-v1.0-small/train/patient00004/study1/...  ...             NaN\n",
              "7       CheXpert-v1.0-small/train/patient00005/study1/...  ...             1.0\n",
              "8       CheXpert-v1.0-small/train/patient00005/study1/...  ...             1.0\n",
              "...                                                   ...  ...             ...\n",
              "223386  CheXpert-v1.0-small/train/patient64517/study1/...  ...             1.0\n",
              "223388  CheXpert-v1.0-small/train/patient64519/study1/...  ...             1.0\n",
              "223389  CheXpert-v1.0-small/train/patient64520/study1/...  ...             NaN\n",
              "223391  CheXpert-v1.0-small/train/patient64522/study1/...  ...             0.0\n",
              "223402  CheXpert-v1.0-small/train/patient64532/study1/...  ...             1.0\n",
              "\n",
              "[22379 rows x 19 columns]"
            ]
          },
          "metadata": {
            "tags": []
          },
          "execution_count": 40
        }
      ]
    },
    {
      "cell_type": "code",
      "metadata": {
        "colab": {
          "base_uri": "https://localhost:8080/",
          "height": 331
        },
        "id": "rO0A6fhRkbxT",
        "outputId": "cdcdabe3-c643-48a8-af9a-d7916f8d68cd"
      },
      "source": [
        "sns.distplot(main_train_nofinding.Age,bins=10,label=\"no finding\",color='Green')\n",
        "plt.legend(loc=\"upper left\")\n",
        "plt.ylabel(\"Age Distribution\")\n",
        "plt.show()"
      ],
      "execution_count": null,
      "outputs": [
        {
          "output_type": "stream",
          "text": [
            "/usr/local/lib/python3.7/dist-packages/seaborn/distributions.py:2557: FutureWarning: `distplot` is a deprecated function and will be removed in a future version. Please adapt your code to use either `displot` (a figure-level function with similar flexibility) or `histplot` (an axes-level function for histograms).\n",
            "  warnings.warn(msg, FutureWarning)\n"
          ],
          "name": "stderr"
        },
        {
          "output_type": "display_data",
          "data": {
            "image/png": "[encoded data removed]",
            "text/plain": [
              "<Figure size 432x288 with 1 Axes>"
            ]
          },
          "metadata": {
            "tags": [],
            "needs_background": "light"
          }
        }
      ]
    },
    {
      "cell_type": "code",
      "metadata": {
        "colab": {
          "base_uri": "https://localhost:8080/",
          "height": 331
        },
        "id": "JFBvsDJikbxU",
        "outputId": "ab7f8f6f-f69a-48fd-9f16-42f8d4782608"
      },
      "source": [
        "sns.distplot(main_train_csv.Age,bins=10,label=\"Full DataSet\",color='blue')\n",
        "plt.legend(loc=\"upper left\")\n",
        "plt.ylabel(\"Age Distribution\")\n",
        "plt.show()"
      ],
      "execution_count": null,
      "outputs": [
        {
          "output_type": "stream",
          "text": [
            "/usr/local/lib/python3.7/dist-packages/seaborn/distributions.py:2557: FutureWarning: `distplot` is a deprecated function and will be removed in a future version. Please adapt your code to use either `displot` (a figure-level function with similar flexibility) or `histplot` (an axes-level function for histograms).\n",
            "  warnings.warn(msg, FutureWarning)\n"
          ],
          "name": "stderr"
        },
        {
          "output_type": "display_data",
          "data": {
            "image/png": "[encoded data removed]",
            "text/plain": [
              "<Figure size 432x288 with 1 Axes>"
            ]
          },
          "metadata": {
            "tags": [],
            "needs_background": "light"
          }
        }
      ]
    },
    {
      "cell_type": "markdown",
      "metadata": {
        "id": "uPOEtb00kbxV"
      },
      "source": [
        "# U_Zeros (Binary Transformation)"
      ]
    },
    {
      "cell_type": "code",
      "metadata": {
        "id": "SOoaw-vtkbxV"
      },
      "source": [
        "main_train_csv_u_zeros=main_train_csv.copy()"
      ],
      "execution_count": null,
      "outputs": []
    },
    {
      "cell_type": "code",
      "metadata": {
        "colab": {
          "base_uri": "https://localhost:8080/",
          "height": 607
        },
        "id": "8SR79ACHkbxW",
        "outputId": "4f217cfc-5fea-4313-95c9-0d73f356db3a"
      },
      "source": [
        "main_train_csv_u_zeros"
      ],
      "execution_count": null,
      "outputs": [
        {
          "output_type": "execute_result",
          "data": {
            "text/html": [
              "<div>\n",
              "<style scoped>\n",
              "    .dataframe tbody tr th:only-of-type {\n",
              "        vertical-align: middle;\n",
              "    }\n",
              "\n",
              "    .dataframe tbody tr th {\n",
              "        vertical-align: top;\n",
              "    }\n",
              "\n",
              "    .dataframe thead th {\n",
              "        text-align: right;\n",
              "    }\n",
              "</style>\n",
              "<table border=\"1\" class=\"dataframe\">\n",
              "  <thead>\n",
              "    <tr style=\"text-align: right;\">\n",
              "      <th></th>\n",
              "      <th>Path</th>\n",
              "      <th>Sex</th>\n",
              "      <th>Age</th>\n",
              "      <th>Frontal/Lateral</th>\n",
              "      <th>AP/PA</th>\n",
              "      <th>No Finding</th>\n",
              "      <th>Enlarged Cardiomediastinum</th>\n",
              "      <th>Cardiomegaly</th>\n",
              "      <th>Lung Opacity</th>\n",
              "      <th>Lung Lesion</th>\n",
              "      <th>Edema</th>\n",
              "      <th>Consolidation</th>\n",
              "      <th>Pneumonia</th>\n",
              "      <th>Atelectasis</th>\n",
              "      <th>Pneumothorax</th>\n",
              "      <th>Pleural Effusion</th>\n",
              "      <th>Pleural Other</th>\n",
              "      <th>Fracture</th>\n",
              "      <th>Support Devices</th>\n",
              "    </tr>\n",
              "  </thead>\n",
              "  <tbody>\n",
              "    <tr>\n",
              "      <th>0</th>\n",
              "      <td>CheXpert-v1.0-small/train/patient00001/study1/...</td>\n",
              "      <td>Female</td>\n",
              "      <td>68</td>\n",
              "      <td>Frontal</td>\n",
              "      <td>AP</td>\n",
              "      <td>1.0</td>\n",
              "      <td>NaN</td>\n",
              "      <td>NaN</td>\n",
              "      <td>NaN</td>\n",
              "      <td>NaN</td>\n",
              "      <td>NaN</td>\n",
              "      <td>NaN</td>\n",
              "      <td>NaN</td>\n",
              "      <td>NaN</td>\n",
              "      <td>0.0</td>\n",
              "      <td>NaN</td>\n",
              "      <td>NaN</td>\n",
              "      <td>NaN</td>\n",
              "      <td>1.0</td>\n",
              "    </tr>\n",
              "    <tr>\n",
              "      <th>1</th>\n",
              "      <td>CheXpert-v1.0-small/train/patient00002/study2/...</td>\n",
              "      <td>Female</td>\n",
              "      <td>87</td>\n",
              "      <td>Frontal</td>\n",
              "      <td>AP</td>\n",
              "      <td>NaN</td>\n",
              "      <td>NaN</td>\n",
              "      <td>-1.0</td>\n",
              "      <td>1.0</td>\n",
              "      <td>NaN</td>\n",
              "      <td>-1.0</td>\n",
              "      <td>-1.0</td>\n",
              "      <td>NaN</td>\n",
              "      <td>-1.0</td>\n",
              "      <td>NaN</td>\n",
              "      <td>-1.0</td>\n",
              "      <td>NaN</td>\n",
              "      <td>1.0</td>\n",
              "      <td>NaN</td>\n",
              "    </tr>\n",
              "    <tr>\n",
              "      <th>2</th>\n",
              "      <td>CheXpert-v1.0-small/train/patient00002/study1/...</td>\n",
              "      <td>Female</td>\n",
              "      <td>83</td>\n",
              "      <td>Frontal</td>\n",
              "      <td>AP</td>\n",
              "      <td>NaN</td>\n",
              "      <td>NaN</td>\n",
              "      <td>NaN</td>\n",
              "      <td>1.0</td>\n",
              "      <td>NaN</td>\n",
              "      <td>NaN</td>\n",
              "      <td>-1.0</td>\n",
              "      <td>NaN</td>\n",
              "      <td>NaN</td>\n",
              "      <td>NaN</td>\n",
              "      <td>NaN</td>\n",
              "      <td>NaN</td>\n",
              "      <td>1.0</td>\n",
              "      <td>NaN</td>\n",
              "    </tr>\n",
              "    <tr>\n",
              "      <th>3</th>\n",
              "      <td>CheXpert-v1.0-small/train/patient00002/study1/...</td>\n",
              "      <td>Female</td>\n",
              "      <td>83</td>\n",
              "      <td>Lateral</td>\n",
              "      <td>NaN</td>\n",
              "      <td>NaN</td>\n",
              "      <td>NaN</td>\n",
              "      <td>NaN</td>\n",
              "      <td>1.0</td>\n",
              "      <td>NaN</td>\n",
              "      <td>NaN</td>\n",
              "      <td>-1.0</td>\n",
              "      <td>NaN</td>\n",
              "      <td>NaN</td>\n",
              "      <td>NaN</td>\n",
              "      <td>NaN</td>\n",
              "      <td>NaN</td>\n",
              "      <td>1.0</td>\n",
              "      <td>NaN</td>\n",
              "    </tr>\n",
              "    <tr>\n",
              "      <th>4</th>\n",
              "      <td>CheXpert-v1.0-small/train/patient00003/study1/...</td>\n",
              "      <td>Male</td>\n",
              "      <td>41</td>\n",
              "      <td>Frontal</td>\n",
              "      <td>AP</td>\n",
              "      <td>NaN</td>\n",
              "      <td>NaN</td>\n",
              "      <td>NaN</td>\n",
              "      <td>NaN</td>\n",
              "      <td>NaN</td>\n",
              "      <td>1.0</td>\n",
              "      <td>NaN</td>\n",
              "      <td>NaN</td>\n",
              "      <td>NaN</td>\n",
              "      <td>0.0</td>\n",
              "      <td>NaN</td>\n",
              "      <td>NaN</td>\n",
              "      <td>NaN</td>\n",
              "      <td>NaN</td>\n",
              "    </tr>\n",
              "    <tr>\n",
              "      <th>...</th>\n",
              "      <td>...</td>\n",
              "      <td>...</td>\n",
              "      <td>...</td>\n",
              "      <td>...</td>\n",
              "      <td>...</td>\n",
              "      <td>...</td>\n",
              "      <td>...</td>\n",
              "      <td>...</td>\n",
              "      <td>...</td>\n",
              "      <td>...</td>\n",
              "      <td>...</td>\n",
              "      <td>...</td>\n",
              "      <td>...</td>\n",
              "      <td>...</td>\n",
              "      <td>...</td>\n",
              "      <td>...</td>\n",
              "      <td>...</td>\n",
              "      <td>...</td>\n",
              "      <td>...</td>\n",
              "    </tr>\n",
              "    <tr>\n",
              "      <th>223406</th>\n",
              "      <td>CheXpert-v1.0-small/train/patient64535/study1/...</td>\n",
              "      <td>Male</td>\n",
              "      <td>60</td>\n",
              "      <td>Frontal</td>\n",
              "      <td>AP</td>\n",
              "      <td>NaN</td>\n",
              "      <td>NaN</td>\n",
              "      <td>NaN</td>\n",
              "      <td>1.0</td>\n",
              "      <td>NaN</td>\n",
              "      <td>NaN</td>\n",
              "      <td>-1.0</td>\n",
              "      <td>NaN</td>\n",
              "      <td>-1.0</td>\n",
              "      <td>NaN</td>\n",
              "      <td>NaN</td>\n",
              "      <td>NaN</td>\n",
              "      <td>NaN</td>\n",
              "      <td>NaN</td>\n",
              "    </tr>\n",
              "    <tr>\n",
              "      <th>223407</th>\n",
              "      <td>CheXpert-v1.0-small/train/patient64536/study2/...</td>\n",
              "      <td>Female</td>\n",
              "      <td>61</td>\n",
              "      <td>Frontal</td>\n",
              "      <td>AP</td>\n",
              "      <td>NaN</td>\n",
              "      <td>NaN</td>\n",
              "      <td>NaN</td>\n",
              "      <td>NaN</td>\n",
              "      <td>NaN</td>\n",
              "      <td>1.0</td>\n",
              "      <td>NaN</td>\n",
              "      <td>NaN</td>\n",
              "      <td>NaN</td>\n",
              "      <td>NaN</td>\n",
              "      <td>1.0</td>\n",
              "      <td>NaN</td>\n",
              "      <td>NaN</td>\n",
              "      <td>NaN</td>\n",
              "    </tr>\n",
              "    <tr>\n",
              "      <th>223408</th>\n",
              "      <td>CheXpert-v1.0-small/train/patient64536/study1/...</td>\n",
              "      <td>Female</td>\n",
              "      <td>61</td>\n",
              "      <td>Frontal</td>\n",
              "      <td>AP</td>\n",
              "      <td>NaN</td>\n",
              "      <td>NaN</td>\n",
              "      <td>NaN</td>\n",
              "      <td>NaN</td>\n",
              "      <td>NaN</td>\n",
              "      <td>1.0</td>\n",
              "      <td>NaN</td>\n",
              "      <td>NaN</td>\n",
              "      <td>1.0</td>\n",
              "      <td>NaN</td>\n",
              "      <td>NaN</td>\n",
              "      <td>NaN</td>\n",
              "      <td>NaN</td>\n",
              "      <td>1.0</td>\n",
              "    </tr>\n",
              "    <tr>\n",
              "      <th>223409</th>\n",
              "      <td>CheXpert-v1.0-small/train/patient64537/study2/...</td>\n",
              "      <td>Male</td>\n",
              "      <td>59</td>\n",
              "      <td>Frontal</td>\n",
              "      <td>AP</td>\n",
              "      <td>NaN</td>\n",
              "      <td>NaN</td>\n",
              "      <td>NaN</td>\n",
              "      <td>-1.0</td>\n",
              "      <td>NaN</td>\n",
              "      <td>NaN</td>\n",
              "      <td>NaN</td>\n",
              "      <td>NaN</td>\n",
              "      <td>-1.0</td>\n",
              "      <td>0.0</td>\n",
              "      <td>1.0</td>\n",
              "      <td>NaN</td>\n",
              "      <td>NaN</td>\n",
              "      <td>NaN</td>\n",
              "    </tr>\n",
              "    <tr>\n",
              "      <th>223410</th>\n",
              "      <td>CheXpert-v1.0-small/train/patient64537/study1/...</td>\n",
              "      <td>Male</td>\n",
              "      <td>59</td>\n",
              "      <td>Frontal</td>\n",
              "      <td>AP</td>\n",
              "      <td>NaN</td>\n",
              "      <td>NaN</td>\n",
              "      <td>NaN</td>\n",
              "      <td>-1.0</td>\n",
              "      <td>NaN</td>\n",
              "      <td>NaN</td>\n",
              "      <td>NaN</td>\n",
              "      <td>0.0</td>\n",
              "      <td>-1.0</td>\n",
              "      <td>NaN</td>\n",
              "      <td>-1.0</td>\n",
              "      <td>NaN</td>\n",
              "      <td>NaN</td>\n",
              "      <td>NaN</td>\n",
              "    </tr>\n",
              "  </tbody>\n",
              "</table>\n",
              "<p>223410 rows × 19 columns</p>\n",
              "</div>"
            ],
            "text/plain": [
              "                                                     Path  ... Support Devices\n",
              "0       CheXpert-v1.0-small/train/patient00001/study1/...  ...             1.0\n",
              "1       CheXpert-v1.0-small/train/patient00002/study2/...  ...             NaN\n",
              "2       CheXpert-v1.0-small/train/patient00002/study1/...  ...             NaN\n",
              "3       CheXpert-v1.0-small/train/patient00002/study1/...  ...             NaN\n",
              "4       CheXpert-v1.0-small/train/patient00003/study1/...  ...             NaN\n",
              "...                                                   ...  ...             ...\n",
              "223406  CheXpert-v1.0-small/train/patient64535/study1/...  ...             NaN\n",
              "223407  CheXpert-v1.0-small/train/patient64536/study2/...  ...             NaN\n",
              "223408  CheXpert-v1.0-small/train/patient64536/study1/...  ...             1.0\n",
              "223409  CheXpert-v1.0-small/train/patient64537/study2/...  ...             NaN\n",
              "223410  CheXpert-v1.0-small/train/patient64537/study1/...  ...             NaN\n",
              "\n",
              "[223410 rows x 19 columns]"
            ]
          },
          "metadata": {
            "tags": []
          },
          "execution_count": 45
        }
      ]
    },
    {
      "cell_type": "code",
      "metadata": {
        "colab": {
          "base_uri": "https://localhost:8080/"
        },
        "id": "OFufOVIKkbxX",
        "outputId": "793cba93-dabb-4f59-f9d5-e1aea5fe34a6"
      },
      "source": [
        "for col in cols:\n",
        "    print(col)"
      ],
      "execution_count": null,
      "outputs": [
        {
          "output_type": "stream",
          "text": [
            "No Finding\n",
            "Enlarged Cardiomediastinum\n",
            "Cardiomegaly\n",
            "Lung Opacity\n",
            "Lung Lesion\n",
            "Edema\n",
            "Consolidation\n",
            "Pneumonia\n",
            "Atelectasis\n",
            "Pneumothorax\n",
            "Pleural Effusion\n",
            "Pleural Other\n",
            "Fracture\n",
            "Support Devices\n"
          ],
          "name": "stdout"
        }
      ]
    },
    {
      "cell_type": "markdown",
      "metadata": {
        "id": "JItCI2L-kbxY"
      },
      "source": [
        "## convert to u_zeros data frame"
      ]
    },
    {
      "cell_type": "code",
      "metadata": {
        "id": "EeQqN09KkbxY"
      },
      "source": [
        "def map_uncertain_to_positive(x):\n",
        "    if x==-1.0:\n",
        "        return 1.0\n",
        "    else:\n",
        "        return x"
      ],
      "execution_count": null,
      "outputs": []
    },
    {
      "cell_type": "code",
      "metadata": {
        "id": "o-3AIFO7kbxZ"
      },
      "source": [
        "for col in cols:\n",
        "   main_train_csv_u_zeros[col]=main_train_csv_u_zeros[col].apply(lambda x:map_uncertain_to_positive(x))\n",
        "\n",
        "main_train_csv_u_zeros=main_train_csv_u_zeros.fillna(0)\n",
        "\n",
        "main_train_csv_u_zeros['Abnormal']=0"
      ],
      "execution_count": null,
      "outputs": []
    },
    {
      "cell_type": "code",
      "metadata": {
        "id": "416hfe0U2YZo"
      },
      "source": [
        ""
      ],
      "execution_count": null,
      "outputs": []
    },
    {
      "cell_type": "markdown",
      "metadata": {
        "id": "g13Wm9YFkbxa"
      },
      "source": [
        "# Read u_zeros dataframe and process it"
      ]
    },
    {
      "cell_type": "code",
      "metadata": {
        "id": "AT2ETzC8kbxa"
      },
      "source": [
        "main_train_csv_u_zeros['Abnormal']=0"
      ],
      "execution_count": null,
      "outputs": []
    },
    {
      "cell_type": "code",
      "metadata": {
        "colab": {
          "base_uri": "https://localhost:8080/"
        },
        "id": "RFMEX4Elkbxb",
        "outputId": "233a4998-87eb-4b56-fc5c-767d8e2ef23b"
      },
      "source": [
        "main_cols=main_train_csv_u_zeros.columns\n",
        "tst=list(main_cols[:5])\n",
        "tst.append(main_cols[-1])\n",
        "\n",
        "main_cols=tst\n",
        "\n",
        "main_cols"
      ],
      "execution_count": null,
      "outputs": [
        {
          "output_type": "execute_result",
          "data": {
            "text/plain": [
              "['Path', 'Sex', 'Age', 'Frontal/Lateral', 'AP/PA', 'Abnormal']"
            ]
          },
          "metadata": {
            "tags": []
          },
          "execution_count": 50
        }
      ]
    },
    {
      "cell_type": "code",
      "metadata": {
        "id": "PaJC7mtK8nL4"
      },
      "source": [
        "def map_uncertain_to_normal(x):\n",
        "    if x==-1.0:\n",
        "        return 0\n",
        "    else:\n",
        "        return x\n"
      ],
      "execution_count": null,
      "outputs": []
    },
    {
      "cell_type": "code",
      "metadata": {
        "id": "qXN4k9K8kbxc"
      },
      "source": [
        "def map_uncertain_to_positive(x):\n",
        "    if x==-1.0:\n",
        "        return 1.0\n",
        "    else:\n",
        "        return x\n"
      ],
      "execution_count": null,
      "outputs": []
    },
    {
      "cell_type": "code",
      "metadata": {
        "id": "c-xUoT-QDoF3"
      },
      "source": [
        ""
      ],
      "execution_count": null,
      "outputs": []
    },
    {
      "cell_type": "markdown",
      "metadata": {
        "id": "RU5LDyrvDokD"
      },
      "source": [
        "For ease of development, Load the processed dataframe, which contains Abnormal column mapped based on  pathology information."
      ]
    },
    {
      "cell_type": "code",
      "metadata": {
        "id": "nTxy_HHJkbxc",
        "scrolled": true
      },
      "source": [
        "u_zeros_df=pd.read_csv(\"/content/gdrive/MyDrive/upgrad/LJMU/ProcessedDataFrame.csv\")[main_cols]"
      ],
      "execution_count": null,
      "outputs": []
    },
    {
      "cell_type": "code",
      "metadata": {
        "id": "z6Bx6oSbmaik"
      },
      "source": [
        "u_zeros_df['Abnormal']=u_zeros_df['Abnormal'].apply(lambda x: map_uncertain_to_normal(x))\n",
        "# u_zeros_df=u_zeros_df[u_zeros_df['Abnormal']!=-1]"
      ],
      "execution_count": null,
      "outputs": []
    },
    {
      "cell_type": "code",
      "metadata": {
        "colab": {
          "base_uri": "https://localhost:8080/",
          "height": 138
        },
        "id": "cCaKJzorD0Iw",
        "outputId": "6683c6c6-5ade-4af8-efca-aaab5f04e1f8"
      },
      "source": [
        "u_zeros_df.groupby('Abnormal').count()"
      ],
      "execution_count": null,
      "outputs": [
        {
          "output_type": "execute_result",
          "data": {
            "text/html": [
              "<div>\n",
              "<style scoped>\n",
              "    .dataframe tbody tr th:only-of-type {\n",
              "        vertical-align: middle;\n",
              "    }\n",
              "\n",
              "    .dataframe tbody tr th {\n",
              "        vertical-align: top;\n",
              "    }\n",
              "\n",
              "    .dataframe thead th {\n",
              "        text-align: right;\n",
              "    }\n",
              "</style>\n",
              "<table border=\"1\" class=\"dataframe\">\n",
              "  <thead>\n",
              "    <tr style=\"text-align: right;\">\n",
              "      <th></th>\n",
              "      <th>Path</th>\n",
              "      <th>Sex</th>\n",
              "      <th>Age</th>\n",
              "      <th>Frontal/Lateral</th>\n",
              "      <th>AP/PA</th>\n",
              "    </tr>\n",
              "    <tr>\n",
              "      <th>Abnormal</th>\n",
              "      <th></th>\n",
              "      <th></th>\n",
              "      <th></th>\n",
              "      <th></th>\n",
              "      <th></th>\n",
              "    </tr>\n",
              "  </thead>\n",
              "  <tbody>\n",
              "    <tr>\n",
              "      <th>0</th>\n",
              "      <td>33796</td>\n",
              "      <td>33796</td>\n",
              "      <td>33796</td>\n",
              "      <td>33796</td>\n",
              "      <td>25834</td>\n",
              "    </tr>\n",
              "    <tr>\n",
              "      <th>1</th>\n",
              "      <td>183519</td>\n",
              "      <td>183519</td>\n",
              "      <td>183519</td>\n",
              "      <td>183519</td>\n",
              "      <td>161009</td>\n",
              "    </tr>\n",
              "  </tbody>\n",
              "</table>\n",
              "</div>"
            ],
            "text/plain": [
              "            Path     Sex     Age  Frontal/Lateral   AP/PA\n",
              "Abnormal                                                 \n",
              "0          33796   33796   33796            33796   25834\n",
              "1         183519  183519  183519           183519  161009"
            ]
          },
          "metadata": {
            "tags": []
          },
          "execution_count": 55
        }
      ]
    },
    {
      "cell_type": "markdown",
      "metadata": {
        "id": "79TR2FeJD5X3"
      },
      "source": [
        "Filter for Frontal X-ray images"
      ]
    },
    {
      "cell_type": "code",
      "metadata": {
        "id": "2UG4deTPh9pG"
      },
      "source": [
        "u_zeros_df=u_zeros_df[u_zeros_df['Frontal/Lateral']==\"Frontal\"].reset_index(drop=True)"
      ],
      "execution_count": null,
      "outputs": []
    },
    {
      "cell_type": "code",
      "metadata": {
        "colab": {
          "base_uri": "https://localhost:8080/",
          "height": 138
        },
        "id": "I8lpVGBFppvJ",
        "outputId": "77a5de5b-63c3-4115-d5b3-3907c6bddbf4"
      },
      "source": [
        "u_zeros_df.groupby('Abnormal').count()"
      ],
      "execution_count": null,
      "outputs": [
        {
          "output_type": "execute_result",
          "data": {
            "text/html": [
              "<div>\n",
              "<style scoped>\n",
              "    .dataframe tbody tr th:only-of-type {\n",
              "        vertical-align: middle;\n",
              "    }\n",
              "\n",
              "    .dataframe tbody tr th {\n",
              "        vertical-align: top;\n",
              "    }\n",
              "\n",
              "    .dataframe thead th {\n",
              "        text-align: right;\n",
              "    }\n",
              "</style>\n",
              "<table border=\"1\" class=\"dataframe\">\n",
              "  <thead>\n",
              "    <tr style=\"text-align: right;\">\n",
              "      <th></th>\n",
              "      <th>Path</th>\n",
              "      <th>Sex</th>\n",
              "      <th>Age</th>\n",
              "      <th>Frontal/Lateral</th>\n",
              "      <th>AP/PA</th>\n",
              "    </tr>\n",
              "    <tr>\n",
              "      <th>Abnormal</th>\n",
              "      <th></th>\n",
              "      <th></th>\n",
              "      <th></th>\n",
              "      <th></th>\n",
              "      <th></th>\n",
              "    </tr>\n",
              "  </thead>\n",
              "  <tbody>\n",
              "    <tr>\n",
              "      <th>0</th>\n",
              "      <td>25834</td>\n",
              "      <td>25834</td>\n",
              "      <td>25834</td>\n",
              "      <td>25834</td>\n",
              "      <td>25834</td>\n",
              "    </tr>\n",
              "    <tr>\n",
              "      <th>1</th>\n",
              "      <td>161009</td>\n",
              "      <td>161009</td>\n",
              "      <td>161009</td>\n",
              "      <td>161009</td>\n",
              "      <td>161009</td>\n",
              "    </tr>\n",
              "  </tbody>\n",
              "</table>\n",
              "</div>"
            ],
            "text/plain": [
              "            Path     Sex     Age  Frontal/Lateral   AP/PA\n",
              "Abnormal                                                 \n",
              "0          25834   25834   25834            25834   25834\n",
              "1         161009  161009  161009           161009  161009"
            ]
          },
          "metadata": {
            "tags": []
          },
          "execution_count": 58
        }
      ]
    },
    {
      "cell_type": "markdown",
      "metadata": {
        "id": "NnQZlDG6ELlW"
      },
      "source": [
        "Encode Sex and Frontal/Lateral column using label encoding"
      ]
    },
    {
      "cell_type": "code",
      "metadata": {
        "id": "ypEeD2MXTf9p"
      },
      "source": [
        "label=LabelEncoder()\n",
        "\n",
        "u_zeros_df.Sex=label.fit_transform(u_zeros_df.Sex)\n"
      ],
      "execution_count": null,
      "outputs": []
    },
    {
      "cell_type": "code",
      "metadata": {
        "id": "b_hj1z-MTOEe"
      },
      "source": [
        "u_zeros_df['Frontal/Lateral']=label.fit_transform(u_zeros_df['Frontal/Lateral'])"
      ],
      "execution_count": null,
      "outputs": []
    },
    {
      "cell_type": "code",
      "metadata": {
        "id": "vka52YPMkbxe"
      },
      "source": [
        "u_zeros_df_normal=u_zeros_df[u_zeros_df['Abnormal']==0.0].reset_index(drop=True)"
      ],
      "execution_count": null,
      "outputs": []
    },
    {
      "cell_type": "markdown",
      "metadata": {
        "id": "LOeL3QaNIjf_"
      },
      "source": [
        "## Visualize X-ray images"
      ]
    },
    {
      "cell_type": "code",
      "metadata": {
        "colab": {
          "base_uri": "https://localhost:8080/",
          "height": 193
        },
        "id": "tFqP2jf8nx4b",
        "outputId": "9814b338-7f59-46b1-e2a7-70cff5af126e"
      },
      "source": [
        "image=cv2.imread(u_zeros_df['Path'][10001])\n",
        "\n",
        "def hisEqulColor(img):\n",
        "    ycrcb=cv2.cvtColor(img,cv2.COLOR_BGR2YCR_CB)\n",
        "    channels=cv2.split(ycrcb)\n",
        "    #print len(channels)\n",
        "    cv2.equalizeHist(channels[0],channels[0])\n",
        "    cv2.equalizeHist(channels[1],channels[1])\n",
        "    cv2.equalizeHist(channels[2],channels[2])\n",
        "\n",
        "    cv2.merge(channels,ycrcb)\n",
        "    cv2.cvtColor(ycrcb,cv2.COLOR_YCR_CB2BGR,img)\n",
        "    return img\n",
        "\n",
        "hist_equalized_image=hisEqulColor(image)\n",
        "\n",
        "fig = plt.figure()\n",
        "\n",
        "ax = fig.add_subplot(121)\n",
        "\n",
        "ax.imshow(hist_equalized_image)\n",
        "\n",
        "ax = fig.add_subplot(122)\n",
        "src=cv2.imread(u_zeros_df['Path'][10001])\n",
        "ax.imshow(src)"
      ],
      "execution_count": null,
      "outputs": [
        {
          "output_type": "execute_result",
          "data": {
            "text/plain": [
              "<matplotlib.image.AxesImage at 0x7efe31ab6f50>"
            ]
          },
          "metadata": {
            "tags": []
          },
          "execution_count": 70
        },
        {
          "output_type": "display_data",
          "data": {
            "image/png": "[encoded data removed]",
            "text/plain": [
              "<Figure size 432x288 with 2 Axes>"
            ]
          },
          "metadata": {
            "tags": [],
            "needs_background": "light"
          }
        }
      ]
    },
    {
      "cell_type": "code",
      "metadata": {
        "colab": {
          "base_uri": "https://localhost:8080/",
          "height": 265
        },
        "id": "pTuRotyYtRpr",
        "outputId": "eb347adb-6414-4eb7-9243-db1d138551f9"
      },
      "source": [
        "hist,bins = np.histogram(hist_equalized_image.flatten(),256,[0,256])\n",
        "cdf = hist.cumsum()\n",
        "cdf_normalized = cdf * float(hist.max()) / cdf.max()\n",
        "plt.plot(cdf_normalized, color = 'b')\n",
        "plt.hist(hist_equalized_image.flatten(),256,[0,256], color = 'r')\n",
        "plt.xlim([0,256])\n",
        "plt.legend(('cdf','histogram'), loc = 'upper left')\n",
        "plt.show()"
      ],
      "execution_count": null,
      "outputs": [
        {
          "output_type": "display_data",
          "data": {
            "image/png": "[encoded data removed]",
            "text/plain": [
              "<Figure size 432x288 with 1 Axes>"
            ]
          },
          "metadata": {
            "tags": [],
            "needs_background": "light"
          }
        }
      ]
    },
    {
      "cell_type": "code",
      "metadata": {
        "colab": {
          "base_uri": "https://localhost:8080/",
          "height": 285
        },
        "id": "oLxP8XbxnWmy",
        "outputId": "cac77f47-4ad1-4411-d1ee-b3bf1efcd647"
      },
      "source": [
        "src=cv2.imread(u_zeros_df['Path'][100])\n",
        "plt.imshow(src)"
      ],
      "execution_count": null,
      "outputs": [
        {
          "output_type": "execute_result",
          "data": {
            "text/plain": [
              "<matplotlib.image.AxesImage at 0x7efe2e8eff50>"
            ]
          },
          "metadata": {
            "tags": []
          },
          "execution_count": 72
        },
        {
          "output_type": "display_data",
          "data": {
            "image/png": "[encoded data removed]",
            "text/plain": [
              "<Figure size 432x288 with 1 Axes>"
            ]
          },
          "metadata": {
            "tags": [],
            "needs_background": "light"
          }
        }
      ]
    },
    {
      "cell_type": "markdown",
      "metadata": {
        "id": "qbfVmkuwEoYi"
      },
      "source": [
        "Take entire dataset"
      ]
    },
    {
      "cell_type": "code",
      "metadata": {
        "id": "MK47RbGckbxh"
      },
      "source": [
        "u_zeros_df=u_zeros_df.loc[:223410]"
      ],
      "execution_count": null,
      "outputs": []
    },
    {
      "cell_type": "code",
      "metadata": {
        "id": "-OZOWCopEm3t"
      },
      "source": [
        ""
      ],
      "execution_count": null,
      "outputs": []
    },
    {
      "cell_type": "markdown",
      "metadata": {
        "id": "XG2TGZNqkbxj"
      },
      "source": [
        "## Test Train Split\n",
        "\n",
        "Split in to train and validation sets based on patient ID information"
      ]
    },
    {
      "cell_type": "code",
      "metadata": {
        "id": "47LPQelIkbxj"
      },
      "source": [
        "from sklearn.model_selection import train_test_split"
      ],
      "execution_count": null,
      "outputs": []
    },
    {
      "cell_type": "code",
      "metadata": {
        "id": "9-OT8FihAmcN"
      },
      "source": [
        "u_zeros_df=u_zeros_df[u_zeros_df['Age']<=90]\n",
        "u_zeros_df=u_zeros_df[u_zeros_df['Age']!=0]\n",
        "u_zeros_df=u_zeros_df.reset_index(drop=True)\n"
      ],
      "execution_count": null,
      "outputs": []
    },
    {
      "cell_type": "code",
      "metadata": {
        "id": "yzN5cAf7kbxl"
      },
      "source": [
        "u_zeros_df['PatientID']=u_zeros_df['Path'].apply(lambda x:x[33:38])"
      ],
      "execution_count": null,
      "outputs": []
    },
    {
      "cell_type": "markdown",
      "metadata": {
        "id": "TM1Bi6EeFJRm"
      },
      "source": [
        "Group dataset based on patient ID"
      ]
    },
    {
      "cell_type": "code",
      "metadata": {
        "id": "0UOz9CbFkbxl"
      },
      "source": [
        "u_zeros_df_group_by_patientID=u_zeros_df.groupby('PatientID').count()"
      ],
      "execution_count": null,
      "outputs": []
    },
    {
      "cell_type": "markdown",
      "metadata": {
        "id": "1w0zqm38FBB1"
      },
      "source": [
        "split grouped data based on patient ID"
      ]
    },
    {
      "cell_type": "code",
      "metadata": {
        "id": "dhHDyTL8kbxn"
      },
      "source": [
        "train_data,val_data=train_test_split(u_zeros_df_group_by_patientID,test_size=0.1,random_state=10)"
      ],
      "execution_count": null,
      "outputs": []
    },
    {
      "cell_type": "code",
      "metadata": {
        "id": "lyzHrvHqkbxp"
      },
      "source": [
        "u_zeros_df_train=pd.DataFrame(columns=u_zeros_df.columns)\n",
        "u_zeros_df_val=pd.DataFrame(columns=u_zeros_df.columns)"
      ],
      "execution_count": null,
      "outputs": []
    },
    {
      "cell_type": "markdown",
      "metadata": {
        "id": "EkPyvt-qFPYn"
      },
      "source": [
        "Create train dataset for patient id's mapped to train_data"
      ]
    },
    {
      "cell_type": "code",
      "metadata": {
        "colab": {
          "base_uri": "https://localhost:8080/",
          "height": 408
        },
        "id": "ETvAZIk0kbxr",
        "outputId": "e1cafda6-2916-44c5-d466-4a41895b5c34"
      },
      "source": [
        "train_data_true_false=[True if pid in train_data.index else False for pid in u_zeros_df.PatientID ]\n",
        "\n",
        "u_zeros_df_train=u_zeros_df[train_data_true_false].reset_index(drop=True)\n",
        "u_zeros_df_train"
      ],
      "execution_count": null,
      "outputs": [
        {
          "output_type": "execute_result",
          "data": {
            "text/html": [
              "<div>\n",
              "<style scoped>\n",
              "    .dataframe tbody tr th:only-of-type {\n",
              "        vertical-align: middle;\n",
              "    }\n",
              "\n",
              "    .dataframe tbody tr th {\n",
              "        vertical-align: top;\n",
              "    }\n",
              "\n",
              "    .dataframe thead th {\n",
              "        text-align: right;\n",
              "    }\n",
              "</style>\n",
              "<table border=\"1\" class=\"dataframe\">\n",
              "  <thead>\n",
              "    <tr style=\"text-align: right;\">\n",
              "      <th></th>\n",
              "      <th>Path</th>\n",
              "      <th>Sex</th>\n",
              "      <th>Age</th>\n",
              "      <th>Frontal/Lateral</th>\n",
              "      <th>AP/PA</th>\n",
              "      <th>Abnormal</th>\n",
              "      <th>PatientID</th>\n",
              "    </tr>\n",
              "  </thead>\n",
              "  <tbody>\n",
              "    <tr>\n",
              "      <th>0</th>\n",
              "      <td>CheXpert-v1.0-small/train/patient00001/study1/...</td>\n",
              "      <td>0</td>\n",
              "      <td>68</td>\n",
              "      <td>0</td>\n",
              "      <td>AP</td>\n",
              "      <td>0</td>\n",
              "      <td>00001</td>\n",
              "    </tr>\n",
              "    <tr>\n",
              "      <th>1</th>\n",
              "      <td>CheXpert-v1.0-small/train/patient00002/study2/...</td>\n",
              "      <td>0</td>\n",
              "      <td>87</td>\n",
              "      <td>0</td>\n",
              "      <td>AP</td>\n",
              "      <td>1</td>\n",
              "      <td>00002</td>\n",
              "    </tr>\n",
              "    <tr>\n",
              "      <th>2</th>\n",
              "      <td>CheXpert-v1.0-small/train/patient00002/study1/...</td>\n",
              "      <td>0</td>\n",
              "      <td>83</td>\n",
              "      <td>0</td>\n",
              "      <td>AP</td>\n",
              "      <td>1</td>\n",
              "      <td>00002</td>\n",
              "    </tr>\n",
              "    <tr>\n",
              "      <th>3</th>\n",
              "      <td>CheXpert-v1.0-small/train/patient00003/study1/...</td>\n",
              "      <td>1</td>\n",
              "      <td>41</td>\n",
              "      <td>0</td>\n",
              "      <td>AP</td>\n",
              "      <td>1</td>\n",
              "      <td>00003</td>\n",
              "    </tr>\n",
              "    <tr>\n",
              "      <th>4</th>\n",
              "      <td>CheXpert-v1.0-small/train/patient00004/study1/...</td>\n",
              "      <td>0</td>\n",
              "      <td>20</td>\n",
              "      <td>0</td>\n",
              "      <td>PA</td>\n",
              "      <td>0</td>\n",
              "      <td>00004</td>\n",
              "    </tr>\n",
              "    <tr>\n",
              "      <th>...</th>\n",
              "      <td>...</td>\n",
              "      <td>...</td>\n",
              "      <td>...</td>\n",
              "      <td>...</td>\n",
              "      <td>...</td>\n",
              "      <td>...</td>\n",
              "      <td>...</td>\n",
              "    </tr>\n",
              "    <tr>\n",
              "      <th>168174</th>\n",
              "      <td>CheXpert-v1.0-small/train/patient64535/study1/...</td>\n",
              "      <td>1</td>\n",
              "      <td>60</td>\n",
              "      <td>0</td>\n",
              "      <td>AP</td>\n",
              "      <td>1</td>\n",
              "      <td>64535</td>\n",
              "    </tr>\n",
              "    <tr>\n",
              "      <th>168175</th>\n",
              "      <td>CheXpert-v1.0-small/train/patient64536/study2/...</td>\n",
              "      <td>0</td>\n",
              "      <td>61</td>\n",
              "      <td>0</td>\n",
              "      <td>AP</td>\n",
              "      <td>1</td>\n",
              "      <td>64536</td>\n",
              "    </tr>\n",
              "    <tr>\n",
              "      <th>168176</th>\n",
              "      <td>CheXpert-v1.0-small/train/patient64536/study1/...</td>\n",
              "      <td>0</td>\n",
              "      <td>61</td>\n",
              "      <td>0</td>\n",
              "      <td>AP</td>\n",
              "      <td>1</td>\n",
              "      <td>64536</td>\n",
              "    </tr>\n",
              "    <tr>\n",
              "      <th>168177</th>\n",
              "      <td>CheXpert-v1.0-small/train/patient64537/study2/...</td>\n",
              "      <td>1</td>\n",
              "      <td>59</td>\n",
              "      <td>0</td>\n",
              "      <td>AP</td>\n",
              "      <td>1</td>\n",
              "      <td>64537</td>\n",
              "    </tr>\n",
              "    <tr>\n",
              "      <th>168178</th>\n",
              "      <td>CheXpert-v1.0-small/train/patient64537/study1/...</td>\n",
              "      <td>1</td>\n",
              "      <td>59</td>\n",
              "      <td>0</td>\n",
              "      <td>AP</td>\n",
              "      <td>0</td>\n",
              "      <td>64537</td>\n",
              "    </tr>\n",
              "  </tbody>\n",
              "</table>\n",
              "<p>168179 rows × 7 columns</p>\n",
              "</div>"
            ],
            "text/plain": [
              "                                                     Path  ...  PatientID\n",
              "0       CheXpert-v1.0-small/train/patient00001/study1/...  ...      00001\n",
              "1       CheXpert-v1.0-small/train/patient00002/study2/...  ...      00002\n",
              "2       CheXpert-v1.0-small/train/patient00002/study1/...  ...      00002\n",
              "3       CheXpert-v1.0-small/train/patient00003/study1/...  ...      00003\n",
              "4       CheXpert-v1.0-small/train/patient00004/study1/...  ...      00004\n",
              "...                                                   ...  ...        ...\n",
              "168174  CheXpert-v1.0-small/train/patient64535/study1/...  ...      64535\n",
              "168175  CheXpert-v1.0-small/train/patient64536/study2/...  ...      64536\n",
              "168176  CheXpert-v1.0-small/train/patient64536/study1/...  ...      64536\n",
              "168177  CheXpert-v1.0-small/train/patient64537/study2/...  ...      64537\n",
              "168178  CheXpert-v1.0-small/train/patient64537/study1/...  ...      64537\n",
              "\n",
              "[168179 rows x 7 columns]"
            ]
          },
          "metadata": {
            "tags": []
          },
          "execution_count": 85
        }
      ]
    },
    {
      "cell_type": "markdown",
      "metadata": {
        "id": "5P95Va0yFfJe"
      },
      "source": [
        "Create validation dataset for patient id's mapped to val_data\n"
      ]
    },
    {
      "cell_type": "code",
      "metadata": {
        "colab": {
          "base_uri": "https://localhost:8080/",
          "height": 408
        },
        "id": "v31DNkFUkbxv",
        "outputId": "4dec83c1-1002-4dae-a333-ec92820d5d93"
      },
      "source": [
        "val_data_true_false=[True if pid in val_data.index else False for pid in u_zeros_df.PatientID ]\n",
        "\n",
        "u_zeros_df_val=u_zeros_df[val_data_true_false].reset_index(drop=True)\n",
        "u_zeros_df_val"
      ],
      "execution_count": null,
      "outputs": [
        {
          "output_type": "execute_result",
          "data": {
            "text/html": [
              "<div>\n",
              "<style scoped>\n",
              "    .dataframe tbody tr th:only-of-type {\n",
              "        vertical-align: middle;\n",
              "    }\n",
              "\n",
              "    .dataframe tbody tr th {\n",
              "        vertical-align: top;\n",
              "    }\n",
              "\n",
              "    .dataframe thead th {\n",
              "        text-align: right;\n",
              "    }\n",
              "</style>\n",
              "<table border=\"1\" class=\"dataframe\">\n",
              "  <thead>\n",
              "    <tr style=\"text-align: right;\">\n",
              "      <th></th>\n",
              "      <th>Path</th>\n",
              "      <th>Sex</th>\n",
              "      <th>Age</th>\n",
              "      <th>Frontal/Lateral</th>\n",
              "      <th>AP/PA</th>\n",
              "      <th>Abnormal</th>\n",
              "      <th>PatientID</th>\n",
              "    </tr>\n",
              "  </thead>\n",
              "  <tbody>\n",
              "    <tr>\n",
              "      <th>0</th>\n",
              "      <td>CheXpert-v1.0-small/train/patient00006/study1/...</td>\n",
              "      <td>0</td>\n",
              "      <td>42</td>\n",
              "      <td>0</td>\n",
              "      <td>AP</td>\n",
              "      <td>0</td>\n",
              "      <td>00006</td>\n",
              "    </tr>\n",
              "    <tr>\n",
              "      <th>1</th>\n",
              "      <td>CheXpert-v1.0-small/train/patient00008/study1/...</td>\n",
              "      <td>1</td>\n",
              "      <td>81</td>\n",
              "      <td>0</td>\n",
              "      <td>AP</td>\n",
              "      <td>1</td>\n",
              "      <td>00008</td>\n",
              "    </tr>\n",
              "    <tr>\n",
              "      <th>2</th>\n",
              "      <td>CheXpert-v1.0-small/train/patient00008/study2/...</td>\n",
              "      <td>1</td>\n",
              "      <td>81</td>\n",
              "      <td>0</td>\n",
              "      <td>AP</td>\n",
              "      <td>1</td>\n",
              "      <td>00008</td>\n",
              "    </tr>\n",
              "    <tr>\n",
              "      <th>3</th>\n",
              "      <td>CheXpert-v1.0-small/train/patient00014/study1/...</td>\n",
              "      <td>0</td>\n",
              "      <td>43</td>\n",
              "      <td>0</td>\n",
              "      <td>PA</td>\n",
              "      <td>0</td>\n",
              "      <td>00014</td>\n",
              "    </tr>\n",
              "    <tr>\n",
              "      <th>4</th>\n",
              "      <td>CheXpert-v1.0-small/train/patient00021/study1/...</td>\n",
              "      <td>0</td>\n",
              "      <td>36</td>\n",
              "      <td>0</td>\n",
              "      <td>PA</td>\n",
              "      <td>0</td>\n",
              "      <td>00021</td>\n",
              "    </tr>\n",
              "    <tr>\n",
              "      <th>...</th>\n",
              "      <td>...</td>\n",
              "      <td>...</td>\n",
              "      <td>...</td>\n",
              "      <td>...</td>\n",
              "      <td>...</td>\n",
              "      <td>...</td>\n",
              "      <td>...</td>\n",
              "    </tr>\n",
              "    <tr>\n",
              "      <th>18656</th>\n",
              "      <td>CheXpert-v1.0-small/train/patient64504/study1/...</td>\n",
              "      <td>0</td>\n",
              "      <td>87</td>\n",
              "      <td>0</td>\n",
              "      <td>AP</td>\n",
              "      <td>1</td>\n",
              "      <td>64504</td>\n",
              "    </tr>\n",
              "    <tr>\n",
              "      <th>18657</th>\n",
              "      <td>CheXpert-v1.0-small/train/patient64510/study1/...</td>\n",
              "      <td>0</td>\n",
              "      <td>73</td>\n",
              "      <td>0</td>\n",
              "      <td>AP</td>\n",
              "      <td>1</td>\n",
              "      <td>64510</td>\n",
              "    </tr>\n",
              "    <tr>\n",
              "      <th>18658</th>\n",
              "      <td>CheXpert-v1.0-small/train/patient64518/study1/...</td>\n",
              "      <td>1</td>\n",
              "      <td>68</td>\n",
              "      <td>0</td>\n",
              "      <td>AP</td>\n",
              "      <td>1</td>\n",
              "      <td>64518</td>\n",
              "    </tr>\n",
              "    <tr>\n",
              "      <th>18659</th>\n",
              "      <td>CheXpert-v1.0-small/train/patient64525/study1/...</td>\n",
              "      <td>1</td>\n",
              "      <td>87</td>\n",
              "      <td>0</td>\n",
              "      <td>AP</td>\n",
              "      <td>1</td>\n",
              "      <td>64525</td>\n",
              "    </tr>\n",
              "    <tr>\n",
              "      <th>18660</th>\n",
              "      <td>CheXpert-v1.0-small/train/patient64534/study1/...</td>\n",
              "      <td>1</td>\n",
              "      <td>63</td>\n",
              "      <td>0</td>\n",
              "      <td>AP</td>\n",
              "      <td>1</td>\n",
              "      <td>64534</td>\n",
              "    </tr>\n",
              "  </tbody>\n",
              "</table>\n",
              "<p>18661 rows × 7 columns</p>\n",
              "</div>"
            ],
            "text/plain": [
              "                                                    Path  ...  PatientID\n",
              "0      CheXpert-v1.0-small/train/patient00006/study1/...  ...      00006\n",
              "1      CheXpert-v1.0-small/train/patient00008/study1/...  ...      00008\n",
              "2      CheXpert-v1.0-small/train/patient00008/study2/...  ...      00008\n",
              "3      CheXpert-v1.0-small/train/patient00014/study1/...  ...      00014\n",
              "4      CheXpert-v1.0-small/train/patient00021/study1/...  ...      00021\n",
              "...                                                  ...  ...        ...\n",
              "18656  CheXpert-v1.0-small/train/patient64504/study1/...  ...      64504\n",
              "18657  CheXpert-v1.0-small/train/patient64510/study1/...  ...      64510\n",
              "18658  CheXpert-v1.0-small/train/patient64518/study1/...  ...      64518\n",
              "18659  CheXpert-v1.0-small/train/patient64525/study1/...  ...      64525\n",
              "18660  CheXpert-v1.0-small/train/patient64534/study1/...  ...      64534\n",
              "\n",
              "[18661 rows x 7 columns]"
            ]
          },
          "metadata": {
            "tags": []
          },
          "execution_count": 88
        }
      ]
    },
    {
      "cell_type": "markdown",
      "metadata": {
        "id": "1uDrENXakbxz"
      },
      "source": [
        "# Data Loader"
      ]
    },
    {
      "cell_type": "code",
      "metadata": {
        "colab": {
          "base_uri": "https://localhost:8080/",
          "height": 408
        },
        "id": "K92oDV-ykbx6",
        "outputId": "2c98dc05-6507-48f3-fa64-e0bee2667f65"
      },
      "source": [
        "u_zeros_df_train"
      ],
      "execution_count": null,
      "outputs": [
        {
          "output_type": "execute_result",
          "data": {
            "text/html": [
              "<div>\n",
              "<style scoped>\n",
              "    .dataframe tbody tr th:only-of-type {\n",
              "        vertical-align: middle;\n",
              "    }\n",
              "\n",
              "    .dataframe tbody tr th {\n",
              "        vertical-align: top;\n",
              "    }\n",
              "\n",
              "    .dataframe thead th {\n",
              "        text-align: right;\n",
              "    }\n",
              "</style>\n",
              "<table border=\"1\" class=\"dataframe\">\n",
              "  <thead>\n",
              "    <tr style=\"text-align: right;\">\n",
              "      <th></th>\n",
              "      <th>Path</th>\n",
              "      <th>Sex</th>\n",
              "      <th>Age</th>\n",
              "      <th>Frontal/Lateral</th>\n",
              "      <th>AP/PA</th>\n",
              "      <th>Abnormal</th>\n",
              "      <th>PatientID</th>\n",
              "    </tr>\n",
              "  </thead>\n",
              "  <tbody>\n",
              "    <tr>\n",
              "      <th>0</th>\n",
              "      <td>CheXpert-v1.0-small/train/patient00001/study1/...</td>\n",
              "      <td>0</td>\n",
              "      <td>68</td>\n",
              "      <td>0</td>\n",
              "      <td>AP</td>\n",
              "      <td>0</td>\n",
              "      <td>00001</td>\n",
              "    </tr>\n",
              "    <tr>\n",
              "      <th>1</th>\n",
              "      <td>CheXpert-v1.0-small/train/patient00002/study2/...</td>\n",
              "      <td>0</td>\n",
              "      <td>87</td>\n",
              "      <td>0</td>\n",
              "      <td>AP</td>\n",
              "      <td>1</td>\n",
              "      <td>00002</td>\n",
              "    </tr>\n",
              "    <tr>\n",
              "      <th>2</th>\n",
              "      <td>CheXpert-v1.0-small/train/patient00002/study1/...</td>\n",
              "      <td>0</td>\n",
              "      <td>83</td>\n",
              "      <td>0</td>\n",
              "      <td>AP</td>\n",
              "      <td>1</td>\n",
              "      <td>00002</td>\n",
              "    </tr>\n",
              "    <tr>\n",
              "      <th>3</th>\n",
              "      <td>CheXpert-v1.0-small/train/patient00003/study1/...</td>\n",
              "      <td>1</td>\n",
              "      <td>41</td>\n",
              "      <td>0</td>\n",
              "      <td>AP</td>\n",
              "      <td>1</td>\n",
              "      <td>00003</td>\n",
              "    </tr>\n",
              "    <tr>\n",
              "      <th>4</th>\n",
              "      <td>CheXpert-v1.0-small/train/patient00004/study1/...</td>\n",
              "      <td>0</td>\n",
              "      <td>20</td>\n",
              "      <td>0</td>\n",
              "      <td>PA</td>\n",
              "      <td>0</td>\n",
              "      <td>00004</td>\n",
              "    </tr>\n",
              "    <tr>\n",
              "      <th>...</th>\n",
              "      <td>...</td>\n",
              "      <td>...</td>\n",
              "      <td>...</td>\n",
              "      <td>...</td>\n",
              "      <td>...</td>\n",
              "      <td>...</td>\n",
              "      <td>...</td>\n",
              "    </tr>\n",
              "    <tr>\n",
              "      <th>168174</th>\n",
              "      <td>CheXpert-v1.0-small/train/patient64535/study1/...</td>\n",
              "      <td>1</td>\n",
              "      <td>60</td>\n",
              "      <td>0</td>\n",
              "      <td>AP</td>\n",
              "      <td>1</td>\n",
              "      <td>64535</td>\n",
              "    </tr>\n",
              "    <tr>\n",
              "      <th>168175</th>\n",
              "      <td>CheXpert-v1.0-small/train/patient64536/study2/...</td>\n",
              "      <td>0</td>\n",
              "      <td>61</td>\n",
              "      <td>0</td>\n",
              "      <td>AP</td>\n",
              "      <td>1</td>\n",
              "      <td>64536</td>\n",
              "    </tr>\n",
              "    <tr>\n",
              "      <th>168176</th>\n",
              "      <td>CheXpert-v1.0-small/train/patient64536/study1/...</td>\n",
              "      <td>0</td>\n",
              "      <td>61</td>\n",
              "      <td>0</td>\n",
              "      <td>AP</td>\n",
              "      <td>1</td>\n",
              "      <td>64536</td>\n",
              "    </tr>\n",
              "    <tr>\n",
              "      <th>168177</th>\n",
              "      <td>CheXpert-v1.0-small/train/patient64537/study2/...</td>\n",
              "      <td>1</td>\n",
              "      <td>59</td>\n",
              "      <td>0</td>\n",
              "      <td>AP</td>\n",
              "      <td>1</td>\n",
              "      <td>64537</td>\n",
              "    </tr>\n",
              "    <tr>\n",
              "      <th>168178</th>\n",
              "      <td>CheXpert-v1.0-small/train/patient64537/study1/...</td>\n",
              "      <td>1</td>\n",
              "      <td>59</td>\n",
              "      <td>0</td>\n",
              "      <td>AP</td>\n",
              "      <td>0</td>\n",
              "      <td>64537</td>\n",
              "    </tr>\n",
              "  </tbody>\n",
              "</table>\n",
              "<p>168179 rows × 7 columns</p>\n",
              "</div>"
            ],
            "text/plain": [
              "                                                     Path  ...  PatientID\n",
              "0       CheXpert-v1.0-small/train/patient00001/study1/...  ...      00001\n",
              "1       CheXpert-v1.0-small/train/patient00002/study2/...  ...      00002\n",
              "2       CheXpert-v1.0-small/train/patient00002/study1/...  ...      00002\n",
              "3       CheXpert-v1.0-small/train/patient00003/study1/...  ...      00003\n",
              "4       CheXpert-v1.0-small/train/patient00004/study1/...  ...      00004\n",
              "...                                                   ...  ...        ...\n",
              "168174  CheXpert-v1.0-small/train/patient64535/study1/...  ...      64535\n",
              "168175  CheXpert-v1.0-small/train/patient64536/study2/...  ...      64536\n",
              "168176  CheXpert-v1.0-small/train/patient64536/study1/...  ...      64536\n",
              "168177  CheXpert-v1.0-small/train/patient64537/study2/...  ...      64537\n",
              "168178  CheXpert-v1.0-small/train/patient64537/study1/...  ...      64537\n",
              "\n",
              "[168179 rows x 7 columns]"
            ]
          },
          "metadata": {
            "tags": []
          },
          "execution_count": 103
        }
      ]
    },
    {
      "cell_type": "code",
      "metadata": {
        "id": "GV7HlqJgkbx9"
      },
      "source": [
        "from scipy import ndimage"
      ],
      "execution_count": null,
      "outputs": []
    },
    {
      "cell_type": "code",
      "metadata": {
        "colab": {
          "base_uri": "https://localhost:8080/"
        },
        "id": "H45qM4VmM97Q",
        "outputId": "4fa47997-59eb-413d-eed3-d49708415754"
      },
      "source": [
        "max_train_age=u_zeros_df_train['Age'].max()\n",
        "max_train_age"
      ],
      "execution_count": null,
      "outputs": [
        {
          "output_type": "execute_result",
          "data": {
            "text/plain": [
              "90"
            ]
          },
          "metadata": {
            "tags": []
          },
          "execution_count": 117
        }
      ]
    },
    {
      "cell_type": "markdown",
      "metadata": {
        "id": "czdPFF-FkbyF"
      },
      "source": [
        "## Data Generator Method"
      ]
    },
    {
      "cell_type": "markdown",
      "metadata": {
        "id": "AOL7wvgWIFNj"
      },
      "source": [
        "Hyperparameters for training of multiask methods"
      ]
    },
    {
      "cell_type": "code",
      "metadata": {
        "id": "lPVXlh9xkbyF"
      },
      "source": [
        "img_size=300\n",
        "img_size_mobile=224\n",
        "img_size_resnet=334\n",
        "\n",
        "batch_size=60\n",
        "num_epochs=15"
      ],
      "execution_count": null,
      "outputs": []
    },
    {
      "cell_type": "code",
      "metadata": {
        "id": "5toZKlvKIjK7"
      },
      "source": [
        "AUTOTUNE=tf.data.experimental.AUTOTUNE"
      ],
      "execution_count": null,
      "outputs": []
    },
    {
      "cell_type": "markdown",
      "metadata": {
        "id": "qhteVbUtF_-6"
      },
      "source": [
        "Create Tensorflow Dataset for loading information to model during training"
      ]
    },
    {
      "cell_type": "code",
      "metadata": {
        "id": "9n2XFrvVIQup"
      },
      "source": [
        "paths=list(u_zeros_df_train['Path'])\n",
        "labels_abnormal=list(u_zeros_df_train['Abnormal'])\n",
        "labels_age=list(u_zeros_df_train['Age'])"
      ],
      "execution_count": null,
      "outputs": []
    },
    {
      "cell_type": "code",
      "metadata": {
        "id": "WZAX11fdIR5J"
      },
      "source": [
        "def _load_and_preprocess_image(image):\n",
        "    print('image->',image)\n",
        "    img = tf.io.read_file(image)\n",
        "    img = tf.image.decode_jpeg(img, channels=3)\n",
        "    img = tf.cast(img, tf.float32)\n",
        "    newSize = (img_size, img_size)\n",
        "\n",
        "    img=tf.cast(img/255. ,tf.float32)\n",
        "\n",
        "    new_img = tf.image.resize(img,newSize)\n",
        "\n",
        "    newSize_mobilenet = (img_size_mobile, img_size_mobile)\n",
        "    new_img_mobilenet = tf.image.resize(img,newSize_mobilenet)\n",
        "\n",
        "    newSize_resnet = (img_size_resnet, img_size_resnet)\n",
        "    new_img_resnet = tf.image.resize(img,newSize_resnet)\n",
        "\n",
        "    return (new_img,new_img_mobilenet,new_img_resnet)"
      ],
      "execution_count": null,
      "outputs": []
    },
    {
      "cell_type": "code",
      "metadata": {
        "id": "FaWI95r6IXQn"
      },
      "source": [
        "def _load_and_preprocess_from_path_label(path,labels):\n",
        "  abnormal=tf.cast(labels[0], tf.float32)\n",
        "  age=tf.cast(labels[1], tf.float32)\n",
        "  return _load_and_preprocess_image(path),(abnormal,age)"
      ],
      "execution_count": null,
      "outputs": []
    },
    {
      "cell_type": "code",
      "metadata": {
        "colab": {
          "base_uri": "https://localhost:8080/"
        },
        "id": "KNVP0bO5IZLV",
        "outputId": "f79a2c45-7c50-4ead-fbd0-dddd91f99a12"
      },
      "source": [
        "train_generator = tf.data.Dataset.from_tensor_slices((paths,(labels_abnormal,labels_age)))\n",
        "train_generator=train_generator.map(_load_and_preprocess_from_path_label, num_parallel_calls=tf.data.experimental.AUTOTUNE).shuffle(buffer_size=1000).batch(batch_size).repeat(num_epochs).prefetch(tf.data.experimental.AUTOTUNE)\n"
      ],
      "execution_count": null,
      "outputs": [
        {
          "output_type": "stream",
          "text": [
            "image-> Tensor(\"args_0:0\", shape=(), dtype=string)\n"
          ],
          "name": "stdout"
        }
      ]
    },
    {
      "cell_type": "code",
      "metadata": {
        "id": "j5R0ccpyIejK"
      },
      "source": [
        "paths_val=list(u_zeros_df_val['Path'])\n",
        "labels_abnormal_val=list(u_zeros_df_val['Abnormal'])\n",
        "labels_age_val=list(u_zeros_df_val['Age'])"
      ],
      "execution_count": null,
      "outputs": []
    },
    {
      "cell_type": "code",
      "metadata": {
        "colab": {
          "base_uri": "https://localhost:8080/"
        },
        "id": "SoqFw9tPIm9x",
        "outputId": "27179b6d-3ddc-4d3a-99ce-bdde5fc0ec09"
      },
      "source": [
        "val_generator = tf.data.Dataset.from_tensor_slices((paths_val,(labels_abnormal_val,labels_age_val)))\n",
        "val_generator=val_generator.map(_load_and_preprocess_from_path_label, num_parallel_calls=tf.data.experimental.AUTOTUNE).batch(batch_size).repeat(num_epochs).prefetch(tf.data.experimental.AUTOTUNE)\n"
      ],
      "execution_count": null,
      "outputs": [
        {
          "output_type": "stream",
          "text": [
            "image-> Tensor(\"args_0:0\", shape=(), dtype=string)\n"
          ],
          "name": "stdout"
        }
      ]
    },
    {
      "cell_type": "code",
      "metadata": {
        "id": "TvCRCboB0yve"
      },
      "source": [
        ""
      ],
      "execution_count": null,
      "outputs": []
    },
    {
      "cell_type": "markdown",
      "metadata": {
        "id": "tkuac65AkbyT"
      },
      "source": [
        "# Model building"
      ]
    },
    {
      "cell_type": "code",
      "metadata": {
        "id": "MwtXBal4kbyT"
      },
      "source": [
        "from keras import backend\n",
        "backend.set_image_data_format('channels_last')"
      ],
      "execution_count": null,
      "outputs": []
    },
    {
      "cell_type": "code",
      "metadata": {
        "id": "FhQcGp4jkbyU"
      },
      "source": [
        "import tensorflow as tf\n",
        "from tensorflow.keras.models import Sequential, Model\n",
        "from tensorflow.keras.layers import Dense, GRU, Flatten, TimeDistributed, Flatten, BatchNormalization, Activation, Dropout,Concatenate,Input\n",
        "from tensorflow.keras.layers import Conv3D, MaxPooling2D,Conv2D\n",
        "from tensorflow.keras.callbacks import ModelCheckpoint, ReduceLROnPlateau\n",
        "from tensorflow.keras import optimizers\n",
        "from tensorflow.keras.layers import Dense, GRU, Flatten, TimeDistributed, Flatten, BatchNormalization, Activation, Dropout,LSTM,GlobalAveragePooling2D,GlobalAveragePooling3D\n",
        "from tensorflow.keras.applications import EfficientNetB5\n",
        "from tensorflow.keras.constraints import unit_norm\n"
      ],
      "execution_count": null,
      "outputs": []
    },
    {
      "cell_type": "code",
      "metadata": {
        "id": "6HGb9Xi-kbyY"
      },
      "source": [
        "from tensorflow.keras.applications import DenseNet121,DenseNet169,DenseNet201\n",
        "from tensorflow.keras.applications import MobileNetV2,ResNet50V2\n",
        "\n",
        "from tensorflow.keras.models import Model\n",
        "import keras\n",
        "\n",
        "import sklearn\n",
        "import sklearn.metrics"
      ],
      "execution_count": null,
      "outputs": []
    },
    {
      "cell_type": "code",
      "metadata": {
        "id": "68PaJgqhkbyc"
      },
      "source": [
        ""
      ],
      "execution_count": null,
      "outputs": []
    },
    {
      "cell_type": "code",
      "metadata": {
        "id": "kQIsqrvYkbyd"
      },
      "source": [
        "train_sample_count=u_zeros_df_train.groupby('Abnormal').count()['Path']\n",
        "normal_count=train_sample_count.loc[0]\n",
        "abnormal_count=train_sample_count.loc[1]"
      ],
      "execution_count": null,
      "outputs": []
    },
    {
      "cell_type": "code",
      "metadata": {
        "id": "wxmGnJE-kbye"
      },
      "source": [
        ""
      ],
      "execution_count": null,
      "outputs": []
    },
    {
      "cell_type": "markdown",
      "metadata": {
        "id": "ms-QEFdAGM74"
      },
      "source": [
        "Use Weighted Binary Cross Entropy function"
      ]
    },
    {
      "cell_type": "code",
      "metadata": {
        "colab": {
          "base_uri": "https://localhost:8080/"
        },
        "id": "6dX41q32kbyf",
        "outputId": "1dc78f10-a247-4a7a-c96e-5c58c7c06ef7"
      },
      "source": [
        "one_weight = 1-((abnormal_count)/(abnormal_count + normal_count))\n",
        "zero_weight = 1-((normal_count)/(abnormal_count + normal_count))\n",
        "(one_weight,zero_weight)"
      ],
      "execution_count": null,
      "outputs": [
        {
          "output_type": "execute_result",
          "data": {
            "text/plain": [
              "(0.13830502024628522, 0.8616949797537148)"
            ]
          },
          "metadata": {
            "tags": []
          },
          "execution_count": 139
        }
      ]
    },
    {
      "cell_type": "code",
      "metadata": {
        "id": "ij5NpjxWkbyg"
      },
      "source": [
        "def weighted_binary_crossentropy(y_true, y_pred):\n",
        "\n",
        "        b_ce = K.binary_crossentropy(y_true, y_pred)\n",
        "\n",
        "        # weighted calc\n",
        "        weight_vector = y_true * one_weight + (1 - y_true) * zero_weight\n",
        "        weighted_b_ce = weight_vector * b_ce\n",
        "\n",
        "        return K.mean(weighted_b_ce)"
      ],
      "execution_count": null,
      "outputs": []
    },
    {
      "cell_type": "code",
      "metadata": {
        "id": "veRI4o4hH5GQ"
      },
      "source": [
        ""
      ],
      "execution_count": null,
      "outputs": []
    },
    {
      "cell_type": "markdown",
      "metadata": {
        "id": "WQKq16kiH6ff"
      },
      "source": [
        "Metrics to track"
      ]
    },
    {
      "cell_type": "code",
      "metadata": {
        "id": "nCeRLIp5kbyh"
      },
      "source": [
        "from keras import backend as K\n",
        "\n",
        "def recall_m(y_true, y_pred):\n",
        "    true_positives = K.sum(K.round(K.clip(y_true * y_pred, 0, 1)))\n",
        "    possible_positives = K.sum(K.round(K.clip(y_true, 0, 1)))\n",
        "    recall = true_positives / (possible_positives + K.epsilon())\n",
        "    return recall\n",
        "\n",
        "def precision_m(y_true, y_pred):\n",
        "    true_positives = K.sum(K.round(K.clip(y_true * y_pred, 0, 1)))\n",
        "    predicted_positives = K.sum(K.round(K.clip(y_pred, 0, 1)))\n",
        "    precision = true_positives / (predicted_positives + K.epsilon())\n",
        "    return precision\n",
        "\n",
        "def f1_m(y_true, y_pred):\n",
        "    precision = precision_m(y_true, y_pred)\n",
        "    recall = recall_m(y_true, y_pred)\n",
        "    return 2*((precision*recall)/(precision+recall+K.epsilon()))"
      ],
      "execution_count": null,
      "outputs": []
    },
    {
      "cell_type": "markdown",
      "metadata": {
        "id": "DKEtSdcHH87m"
      },
      "source": [
        "Create multiask model using combinatin of different pretrained models"
      ]
    },
    {
      "cell_type": "code",
      "metadata": {
        "id": "sm2odITPkbyi"
      },
      "source": [
        "def getModel():\n",
        "    \n",
        "    # Use DenseNet model\n",
        "    denseNet = DenseNet169(include_top=False, weights='imagenet', input_shape=(img_size,img_size,3))\n",
        "    split_at = 350\n",
        "    for layer in denseNet.layers[:split_at]: layer.trainable = False\n",
        "    for layer in denseNet.layers[split_at:]: layer.trainable = True\n",
        "    base_model=denseNet(denseNet.input)\n",
        "    base_model=GlobalAveragePooling2D()(base_model)\n",
        "    base_model=Flatten()(base_model)\n",
        "\n",
        "    # Use MobileNet model\n",
        "    mobileNet_model = MobileNetV2(include_top=False, weights='imagenet', input_shape=(img_size_mobile,img_size_mobile,3))\n",
        "    split_at = 80\n",
        "    for layer in mobileNet_model.layers[:split_at]: layer.trainable = False\n",
        "    for layer in mobileNet_model.layers[split_at:]: layer.trainable = True\n",
        "    base_model_mobilenet=mobileNet_model(mobileNet_model.input)\n",
        "    base_model_mobilenet=GlobalAveragePooling2D()(base_model_mobilenet)\n",
        "    base_model_mobilenet=Flatten()(base_model_mobilenet)\n",
        "\n",
        "    # Use ResNet model\n",
        "    resNet_model = ResNet50V2(include_top=False, weights='imagenet', input_shape=(img_size_resnet,img_size_resnet,3))\n",
        "\n",
        "    for w in resNet_model.weights:\n",
        "        w._handle_name = 'EP_'  +  w.name\n",
        "\n",
        "    split_at = 130\n",
        "    for layer in resNet_model.layers[:split_at]: layer.trainable = False\n",
        "    for layer in resNet_model.layers[split_at:]: layer.trainable = True\n",
        "    base_model_resNet_model=resNet_model(resNet_model.input)\n",
        "    base_model_resNet_model=GlobalAveragePooling2D()(base_model_resNet_model)\n",
        "    base_model_resNet_model=Flatten()(base_model_resNet_model)\n",
        "\n",
        "    # Join all model togeather\n",
        "    base_model=Concatenate()([base_model,base_model_mobilenet,base_model_resNet_model])\n",
        "\n",
        "    # Abnormality detection task\n",
        "    model_pathology=Dense(1,activation='sigmoid',name='Pathology')(base_model)\n",
        "\n",
        "    # Age prediciton task\n",
        "    model_age=Dense(1,activation='relu',name='Age')(base_model)\n",
        "   \n",
        "   \n",
        "    # Create multitask model\n",
        "    model=tf.keras.models.Model([denseNet.input,mobileNet_model.input,resNet_model.input],[model_pathology,model_age])\n",
        "    return model "
      ],
      "execution_count": null,
      "outputs": []
    },
    {
      "cell_type": "code",
      "metadata": {
        "id": "1ZvmxdNsqlNS"
      },
      "source": [
        "from keras import backend as K\n"
      ],
      "execution_count": null,
      "outputs": []
    },
    {
      "cell_type": "markdown",
      "metadata": {
        "id": "jKH70Ri3IrPG"
      },
      "source": [
        "Create multitask model and compile it"
      ]
    },
    {
      "cell_type": "code",
      "metadata": {
        "colab": {
          "base_uri": "https://localhost:8080/"
        },
        "id": "lqGkkWF9NNou",
        "outputId": "44df0387-0fc6-4012-aea4-16b522613eca"
      },
      "source": [
        "model=getModel() \n",
        "optimiser = optimizers.Adam()\n",
        "\n",
        "model.compile(optimizer=optimiser, loss={'Pathology':weighted_binary_crossentropy,'Age':'mean_squared_logarithmic_error'},\n",
        "              metrics={'Pathology':['accuracy',f1_m,precision_m, recall_m],'Age':['mean_absolute_error'] })\n",
        "\n",
        "\n",
        "print (model.summary())"
      ],
      "execution_count": null,
      "outputs": [
        {
          "output_type": "stream",
          "text": [
            "Downloading data from https://storage.googleapis.com/tensorflow/keras-applications/densenet/densenet169_weights_tf_dim_ordering_tf_kernels_notop.h5\n",
            "51879936/51877672 [==============================] - 2s 0us/step\n",
            "Downloading data from https://storage.googleapis.com/tensorflow/keras-applications/mobilenet_v2/mobilenet_v2_weights_tf_dim_ordering_tf_kernels_1.0_224_no_top.h5\n",
            "9412608/9406464 [==============================] - 0s 0us/step\n",
            "Downloading data from https://storage.googleapis.com/tensorflow/keras-applications/resnet/resnet50v2_weights_tf_dim_ordering_tf_kernels_notop.h5\n",
            "94674944/94668760 [==============================] - 3s 0us/step\n",
            "Model: \"model\"\n",
            "__________________________________________________________________________________________________\n",
            "Layer (type)                    Output Shape         Param #     Connected to                     \n",
            "==================================================================================================\n",
            "input_1 (InputLayer)            [(None, 300, 300, 3) 0                                            \n",
            "__________________________________________________________________________________________________\n",
            "input_2 (InputLayer)            [(None, 224, 224, 3) 0                                            \n",
            "__________________________________________________________________________________________________\n",
            "input_3 (InputLayer)            [(None, 334, 334, 3) 0                                            \n",
            "__________________________________________________________________________________________________\n",
            "densenet169 (Functional)        (None, 9, 9, 1664)   12642880    input_1[0][0]                    \n",
            "__________________________________________________________________________________________________\n",
            "mobilenetv2_1.00_224 (Functiona (None, 7, 7, 1280)   2257984     input_2[0][0]                    \n",
            "__________________________________________________________________________________________________\n",
            "resnet50v2 (Functional)         (None, 11, 11, 2048) 23564800    input_3[0][0]                    \n",
            "__________________________________________________________________________________________________\n",
            "global_average_pooling2d (Globa (None, 1664)         0           densenet169[0][0]                \n",
            "__________________________________________________________________________________________________\n",
            "global_average_pooling2d_1 (Glo (None, 1280)         0           mobilenetv2_1.00_224[0][0]       \n",
            "__________________________________________________________________________________________________\n",
            "global_average_pooling2d_2 (Glo (None, 2048)         0           resnet50v2[0][0]                 \n",
            "__________________________________________________________________________________________________\n",
            "flatten (Flatten)               (None, 1664)         0           global_average_pooling2d[0][0]   \n",
            "__________________________________________________________________________________________________\n",
            "flatten_1 (Flatten)             (None, 1280)         0           global_average_pooling2d_1[0][0] \n",
            "__________________________________________________________________________________________________\n",
            "flatten_2 (Flatten)             (None, 2048)         0           global_average_pooling2d_2[0][0] \n",
            "__________________________________________________________________________________________________\n",
            "concatenate (Concatenate)       (None, 4992)         0           flatten[0][0]                    \n",
            "                                                                 flatten_1[0][0]                  \n",
            "                                                                 flatten_2[0][0]                  \n",
            "__________________________________________________________________________________________________\n",
            "Pathology (Dense)               (None, 1)            4993        concatenate[0][0]                \n",
            "__________________________________________________________________________________________________\n",
            "Age (Dense)                     (None, 1)            4993        concatenate[0][0]                \n",
            "==================================================================================================\n",
            "Total params: 38,475,650\n",
            "Trainable params: 26,389,314\n",
            "Non-trainable params: 12,086,336\n",
            "__________________________________________________________________________________________________\n",
            "None\n"
          ],
          "name": "stdout"
        }
      ]
    },
    {
      "cell_type": "markdown",
      "metadata": {
        "id": "gW2tx48iFmfS"
      },
      "source": [
        "# CALL BACK LIST"
      ]
    },
    {
      "cell_type": "code",
      "metadata": {
        "id": "6Pp1PSUw7axv"
      },
      "source": [
        "from datetime import datetime\n",
        "import io\n",
        "import itertools\n",
        "import numpy as np\n",
        "import sklearn.metrics"
      ],
      "execution_count": null,
      "outputs": []
    },
    {
      "cell_type": "code",
      "metadata": {
        "id": "2VChwxbTFiC4"
      },
      "source": [
        "model_name = '/content/gdrive/MyDrive/upgrad/LJMU/'+'model_init' + '/'\n",
        "    \n",
        "if not os.path.exists(model_name):\n",
        "   os.mkdir(model_name)\n",
        "\n",
        "filepath = model_name + 'model-{epoch:05d}-bestmodel.h5'\n",
        "\n",
        "checkpoint = ModelCheckpoint(filepath, monitor='val_Pathology_accuracy', verbose=1, save_best_only=False, save_weights_only=False, mode='max', save_freq='epoch')\n"
      ],
      "execution_count": null,
      "outputs": []
    },
    {
      "cell_type": "code",
      "metadata": {
        "id": "zEE2PdGUsYn8"
      },
      "source": [
        "num_train_sequences=u_zeros_df_train.shape[0]\n",
        "num_val_sequences=u_zeros_df_val.shape[0]\n",
        "\n",
        "\n",
        "if (num_train_sequences%batch_size) == 0:\n",
        "    steps_per_epoch = int(num_train_sequences/batch_size)\n",
        "else:\n",
        "    steps_per_epoch = (num_train_sequences//batch_size) + 1\n",
        "\n",
        "if (num_val_sequences%batch_size) == 0:\n",
        "    validation_steps = int(num_val_sequences/batch_size)\n",
        "else:\n",
        "    validation_steps = (num_val_sequences//batch_size) + 1"
      ],
      "execution_count": null,
      "outputs": []
    },
    {
      "cell_type": "code",
      "metadata": {
        "id": "EMGN7xBXpi1-"
      },
      "source": [
        ""
      ],
      "execution_count": null,
      "outputs": []
    },
    {
      "cell_type": "code",
      "metadata": {
        "id": "brSJv6q_Hxx4"
      },
      "source": [
        "callbacks_list = [checkpoint]"
      ],
      "execution_count": null,
      "outputs": []
    },
    {
      "cell_type": "markdown",
      "metadata": {
        "id": "85q8nFSLkbyi"
      },
      "source": [
        "## Model Training"
      ]
    },
    {
      "cell_type": "code",
      "metadata": {
        "id": "3AP5YCoFkbyj"
      },
      "source": [
        ""
      ],
      "execution_count": null,
      "outputs": []
    },
    {
      "cell_type": "code",
      "metadata": {
        "id": "1KCL-NBRkbyj"
      },
      "source": [
        "num_train_sequences=u_zeros_df_train.shape[0]\n",
        "num_val_sequences=u_zeros_df_val.shape[0]"
      ],
      "execution_count": null,
      "outputs": []
    },
    {
      "cell_type": "code",
      "metadata": {
        "id": "MdtwKfiikbyk"
      },
      "source": [
        "if (num_train_sequences%batch_size) == 0:\n",
        "    steps_per_epoch = int(num_train_sequences/batch_size)\n",
        "else:\n",
        "    steps_per_epoch = (num_train_sequences//batch_size) + 1\n",
        "\n",
        "if (num_val_sequences%batch_size) == 0:\n",
        "    validation_steps = int(num_val_sequences/batch_size)\n",
        "else:\n",
        "    validation_steps = (num_val_sequences//batch_size) + 1"
      ],
      "execution_count": null,
      "outputs": []
    },
    {
      "cell_type": "code",
      "metadata": {
        "colab": {
          "base_uri": "https://localhost:8080/"
        },
        "id": "DfvwTu84kbyk",
        "scrolled": false,
        "outputId": "376ebf44-ceb3-48c7-8c65-36ed5fb593fa"
      },
      "source": [
        "\n",
        "history=model.fit(train_generator, epochs=num_epochs, steps_per_epoch=steps_per_epoch,verbose=1, \n",
        "                    validation_data=val_generator,  validation_steps=validation_steps,\n",
        "                     class_weight=None, workers=3, initial_epoch=0,callbacks=callbacks_list)"
      ],
      "execution_count": null,
      "outputs": [
        {
          "output_type": "stream",
          "text": [
            "Epoch 1/15\n",
            "2803/2803 [==============================] - 1889s 660ms/step - loss: 0.1738 - Pathology_loss: 0.1284 - Age_loss: 0.0455 - Pathology_accuracy: 0.7473 - Pathology_f1_m: 0.8275 - Pathology_precision_m: 0.9489 - Pathology_recall_m: 0.7463 - Age_mean_absolute_error: 7.9140 - val_loss: 0.1659 - val_Pathology_loss: 0.1374 - val_Age_loss: 0.0285 - val_Pathology_accuracy: 0.6122 - val_Pathology_f1_m: 0.7011 - val_Pathology_precision_m: 0.9617 - val_Pathology_recall_m: 0.5641 - val_Age_mean_absolute_error: 7.1983\n",
            "\n",
            "Epoch 00001: saving model to /content/gdrive/MyDrive/upgrad/LJMU/model_init/model-00001-bestmodel.h5\n"
          ],
          "name": "stdout"
        },
        {
          "output_type": "stream",
          "text": [
            "/usr/local/lib/python3.7/dist-packages/tensorflow/python/keras/utils/generic_utils.py:497: CustomMaskWarning: Custom mask layers require a config and must override get_config. When loading, the custom mask layer must be passed to the custom_objects argument.\n",
            "  category=CustomMaskWarning)\n"
          ],
          "name": "stderr"
        },
        {
          "output_type": "stream",
          "text": [
            "Epoch 2/15\n",
            "2803/2803 [==============================] - 1844s 658ms/step - loss: 0.1454 - Pathology_loss: 0.1221 - Age_loss: 0.0233 - Pathology_accuracy: 0.7635 - Pathology_f1_m: 0.8417 - Pathology_precision_m: 0.9526 - Pathology_recall_m: 0.7628 - Age_mean_absolute_error: 6.6204 - val_loss: 0.1767 - val_Pathology_loss: 0.1344 - val_Age_loss: 0.0423 - val_Pathology_accuracy: 0.6406 - val_Pathology_f1_m: 0.7296 - val_Pathology_precision_m: 0.9587 - val_Pathology_recall_m: 0.6003 - val_Age_mean_absolute_error: 9.4297\n",
            "\n",
            "Epoch 00002: saving model to /content/gdrive/MyDrive/upgrad/LJMU/model_init/model-00002-bestmodel.h5\n",
            "Epoch 3/15\n",
            "2803/2803 [==============================] - 1845s 658ms/step - loss: 0.1384 - Pathology_loss: 0.1175 - Age_loss: 0.0209 - Pathology_accuracy: 0.7729 - Pathology_f1_m: 0.8497 - Pathology_precision_m: 0.9550 - Pathology_recall_m: 0.7721 - Age_mean_absolute_error: 6.3110 - val_loss: 0.1601 - val_Pathology_loss: 0.1265 - val_Age_loss: 0.0336 - val_Pathology_accuracy: 0.7376 - val_Pathology_f1_m: 0.8175 - val_Pathology_precision_m: 0.9461 - val_Pathology_recall_m: 0.7274 - val_Age_mean_absolute_error: 8.1049\n",
            "\n",
            "Epoch 00003: saving model to /content/gdrive/MyDrive/upgrad/LJMU/model_init/model-00003-bestmodel.h5\n",
            "Epoch 4/15\n",
            "2803/2803 [==============================] - 1843s 658ms/step - loss: 0.1306 - Pathology_loss: 0.1118 - Age_loss: 0.0187 - Pathology_accuracy: 0.7825 - Pathology_f1_m: 0.8568 - Pathology_precision_m: 0.9585 - Pathology_recall_m: 0.7804 - Age_mean_absolute_error: 6.0388 - val_loss: 0.1627 - val_Pathology_loss: 0.1375 - val_Age_loss: 0.0251 - val_Pathology_accuracy: 0.8161 - val_Pathology_f1_m: 0.8800 - val_Pathology_precision_m: 0.9335 - val_Pathology_recall_m: 0.8363 - val_Age_mean_absolute_error: 6.9112\n",
            "\n",
            "Epoch 00004: saving model to /content/gdrive/MyDrive/upgrad/LJMU/model_init/model-00004-bestmodel.h5\n",
            "Epoch 5/15\n",
            "2803/2803 [==============================] - 1844s 658ms/step - loss: 0.1188 - Pathology_loss: 0.1018 - Age_loss: 0.0170 - Pathology_accuracy: 0.7978 - Pathology_f1_m: 0.8681 - Pathology_precision_m: 0.9651 - Pathology_recall_m: 0.7930 - Age_mean_absolute_error: 5.8181 - val_loss: 0.1619 - val_Pathology_loss: 0.1385 - val_Age_loss: 0.0234 - val_Pathology_accuracy: 0.6838 - val_Pathology_f1_m: 0.7740 - val_Pathology_precision_m: 0.9450 - val_Pathology_recall_m: 0.6633 - val_Age_mean_absolute_error: 6.6601\n",
            "\n",
            "Epoch 00005: saving model to /content/gdrive/MyDrive/upgrad/LJMU/model_init/model-00005-bestmodel.h5\n",
            "Epoch 6/15\n",
            "2803/2803 [==============================] - 1843s 658ms/step - loss: 0.0990 - Pathology_loss: 0.0831 - Age_loss: 0.0159 - Pathology_accuracy: 0.8323 - Pathology_f1_m: 0.8920 - Pathology_precision_m: 0.9761 - Pathology_recall_m: 0.8247 - Age_mean_absolute_error: 5.6596 - val_loss: 0.2501 - val_Pathology_loss: 0.2266 - val_Age_loss: 0.0235 - val_Pathology_accuracy: 0.8496 - val_Pathology_f1_m: 0.9068 - val_Pathology_precision_m: 0.9114 - val_Pathology_recall_m: 0.9045 - val_Age_mean_absolute_error: 6.5445\n",
            "\n",
            "Epoch 00006: saving model to /content/gdrive/MyDrive/upgrad/LJMU/model_init/model-00006-bestmodel.h5\n",
            "Epoch 7/15\n",
            "2803/2803 [==============================] - 1845s 658ms/step - loss: 0.0777 - Pathology_loss: 0.0625 - Age_loss: 0.0152 - Pathology_accuracy: 0.8755 - Pathology_f1_m: 0.9215 - Pathology_precision_m: 0.9847 - Pathology_recall_m: 0.8683 - Age_mean_absolute_error: 5.5494 - val_loss: 0.2330 - val_Pathology_loss: 0.2090 - val_Age_loss: 0.0241 - val_Pathology_accuracy: 0.7421 - val_Pathology_f1_m: 0.8257 - val_Pathology_precision_m: 0.9325 - val_Pathology_recall_m: 0.7461 - val_Age_mean_absolute_error: 6.4033\n",
            "\n",
            "Epoch 00007: saving model to /content/gdrive/MyDrive/upgrad/LJMU/model_init/model-00007-bestmodel.h5\n",
            "Epoch 8/15\n",
            "2803/2803 [==============================] - 1845s 658ms/step - loss: 0.0637 - Pathology_loss: 0.0492 - Age_loss: 0.0145 - Pathology_accuracy: 0.9059 - Pathology_f1_m: 0.9418 - Pathology_precision_m: 0.9891 - Pathology_recall_m: 0.9004 - Age_mean_absolute_error: 5.4349 - val_loss: 0.3932 - val_Pathology_loss: 0.3679 - val_Age_loss: 0.0253 - val_Pathology_accuracy: 0.8441 - val_Pathology_f1_m: 0.9050 - val_Pathology_precision_m: 0.8998 - val_Pathology_recall_m: 0.9123 - val_Age_mean_absolute_error: 6.6193\n",
            "\n",
            "Epoch 00008: saving model to /content/gdrive/MyDrive/upgrad/LJMU/model_init/model-00008-bestmodel.h5\n",
            "Epoch 9/15\n",
            "2803/2803 [==============================] - 1845s 658ms/step - loss: 0.0536 - Pathology_loss: 0.0396 - Age_loss: 0.0140 - Pathology_accuracy: 0.9253 - Pathology_f1_m: 0.9543 - Pathology_precision_m: 0.9913 - Pathology_recall_m: 0.9213 - Age_mean_absolute_error: 5.3336 - val_loss: 0.3081 - val_Pathology_loss: 0.2858 - val_Age_loss: 0.0223 - val_Pathology_accuracy: 0.7975 - val_Pathology_f1_m: 0.8712 - val_Pathology_precision_m: 0.9116 - val_Pathology_recall_m: 0.8372 - val_Age_mean_absolute_error: 6.2596\n",
            "\n",
            "Epoch 00009: saving model to /content/gdrive/MyDrive/upgrad/LJMU/model_init/model-00009-bestmodel.h5\n",
            "Epoch 10/15\n",
            "2803/2803 [==============================] - 1846s 659ms/step - loss: 0.0478 - Pathology_loss: 0.0343 - Age_loss: 0.0134 - Pathology_accuracy: 0.9373 - Pathology_f1_m: 0.9619 - Pathology_precision_m: 0.9923 - Pathology_recall_m: 0.9343 - Age_mean_absolute_error: 5.2442 - val_loss: 0.3056 - val_Pathology_loss: 0.2746 - val_Age_loss: 0.0310 - val_Pathology_accuracy: 0.7408 - val_Pathology_f1_m: 0.8253 - val_Pathology_precision_m: 0.9303 - val_Pathology_recall_m: 0.7462 - val_Age_mean_absolute_error: 7.4187\n",
            "\n",
            "Epoch 00010: saving model to /content/gdrive/MyDrive/upgrad/LJMU/model_init/model-00010-bestmodel.h5\n",
            "Epoch 11/15\n",
            "2803/2803 [==============================] - 1845s 658ms/step - loss: 0.0425 - Pathology_loss: 0.0297 - Age_loss: 0.0128 - Pathology_accuracy: 0.9459 - Pathology_f1_m: 0.9673 - Pathology_precision_m: 0.9933 - Pathology_recall_m: 0.9435 - Age_mean_absolute_error: 5.1383 - val_loss: 0.4714 - val_Pathology_loss: 0.4315 - val_Age_loss: 0.0399 - val_Pathology_accuracy: 0.8231 - val_Pathology_f1_m: 0.8886 - val_Pathology_precision_m: 0.9141 - val_Pathology_recall_m: 0.8670 - val_Age_mean_absolute_error: 8.9348\n",
            "\n",
            "Epoch 00011: saving model to /content/gdrive/MyDrive/upgrad/LJMU/model_init/model-00011-bestmodel.h5\n",
            "Epoch 12/15\n",
            "2803/2803 [==============================] - 1846s 659ms/step - loss: 0.0394 - Pathology_loss: 0.0271 - Age_loss: 0.0123 - Pathology_accuracy: 0.9520 - Pathology_f1_m: 0.9711 - Pathology_precision_m: 0.9938 - Pathology_recall_m: 0.9502 - Age_mean_absolute_error: 5.0368 - val_loss: 0.3649 - val_Pathology_loss: 0.3406 - val_Age_loss: 0.0243 - val_Pathology_accuracy: 0.7794 - val_Pathology_f1_m: 0.8556 - val_Pathology_precision_m: 0.9260 - val_Pathology_recall_m: 0.7987 - val_Age_mean_absolute_error: 6.6712\n",
            "\n",
            "Epoch 00012: saving model to /content/gdrive/MyDrive/upgrad/LJMU/model_init/model-00012-bestmodel.h5\n",
            "Epoch 13/15\n",
            "2803/2803 [==============================] - 1845s 658ms/step - loss: 0.0358 - Pathology_loss: 0.0240 - Age_loss: 0.0118 - Pathology_accuracy: 0.9582 - Pathology_f1_m: 0.9749 - Pathology_precision_m: 0.9944 - Pathology_recall_m: 0.9569 - Age_mean_absolute_error: 4.9556 - val_loss: 0.4025 - val_Pathology_loss: 0.3727 - val_Age_loss: 0.0297 - val_Pathology_accuracy: 0.8050 - val_Pathology_f1_m: 0.8770 - val_Pathology_precision_m: 0.9131 - val_Pathology_recall_m: 0.8462 - val_Age_mean_absolute_error: 7.0380\n",
            "\n",
            "Epoch 00013: saving model to /content/gdrive/MyDrive/upgrad/LJMU/model_init/model-00013-bestmodel.h5\n",
            "Epoch 14/15\n",
            "2803/2803 [==============================] - 1847s 659ms/step - loss: 0.0336 - Pathology_loss: 0.0225 - Age_loss: 0.0111 - Pathology_accuracy: 0.9606 - Pathology_f1_m: 0.9764 - Pathology_precision_m: 0.9947 - Pathology_recall_m: 0.9595 - Age_mean_absolute_error: 4.8350 - val_loss: 0.4049 - val_Pathology_loss: 0.3718 - val_Age_loss: 0.0331 - val_Pathology_accuracy: 0.7914 - val_Pathology_f1_m: 0.8650 - val_Pathology_precision_m: 0.9219 - val_Pathology_recall_m: 0.8180 - val_Age_mean_absolute_error: 8.1434\n",
            "\n",
            "Epoch 00014: saving model to /content/gdrive/MyDrive/upgrad/LJMU/model_init/model-00014-bestmodel.h5\n",
            "Epoch 15/15\n",
            "2803/2803 [==============================] - 1848s 659ms/step - loss: 0.0307 - Pathology_loss: 0.0199 - Age_loss: 0.0107 - Pathology_accuracy: 0.9659 - Pathology_f1_m: 0.9797 - Pathology_precision_m: 0.9953 - Pathology_recall_m: 0.9652 - Age_mean_absolute_error: 4.7592 - val_loss: 0.3921 - val_Pathology_loss: 0.3642 - val_Age_loss: 0.0279 - val_Pathology_accuracy: 0.6962 - val_Pathology_f1_m: 0.7874 - val_Pathology_precision_m: 0.9402 - val_Pathology_recall_m: 0.6832 - val_Age_mean_absolute_error: 7.0694\n",
            "\n",
            "Epoch 00015: saving model to /content/gdrive/MyDrive/upgrad/LJMU/model_init/model-00015-bestmodel.h5\n"
          ],
          "name": "stdout"
        }
      ]
    },
    {
      "cell_type": "code",
      "metadata": {
        "id": "0YTu1eOkpifL",
        "colab": {
          "base_uri": "https://localhost:8080/",
          "height": 35
        },
        "outputId": "dffb077a-1cc3-426c-a4d0-e3418928ef89"
      },
      "source": [
        "import os\n",
        "import shutil\n",
        "os.getcwd()"
      ],
      "execution_count": null,
      "outputs": [
        {
          "output_type": "execute_result",
          "data": {
            "application/vnd.google.colaboratory.intrinsic+json": {
              "type": "string"
            },
            "text/plain": [
              "'/content'"
            ]
          },
          "metadata": {
            "tags": []
          },
          "execution_count": 157
        }
      ]
    },
    {
      "cell_type": "markdown",
      "metadata": {
        "id": "sp0eJAB5kbym"
      },
      "source": [
        "# Test"
      ]
    },
    {
      "cell_type": "markdown",
      "metadata": {
        "id": "ayNPyhZfJFNQ"
      },
      "source": [
        "Choosing model at epoch 6, which showed optimal performance on both abnormality detection and age prediction tasks"
      ]
    },
    {
      "cell_type": "code",
      "metadata": {
        "id": "_uGgsE94rWli"
      },
      "source": [
        "model_name = '/content/gdrive/MyDrive/upgrad/LJMU/model_init/model-00006-bestmodel.h5'\n",
        "\n",
        "model_load = tf.keras.models.load_model(model_name,compile=False)"
      ],
      "execution_count": null,
      "outputs": []
    },
    {
      "cell_type": "code",
      "metadata": {
        "id": "XHYITDGUMAcB"
      },
      "source": [
        ""
      ],
      "execution_count": null,
      "outputs": []
    },
    {
      "cell_type": "code",
      "metadata": {
        "id": "yekpx5m8kbym"
      },
      "source": [
        "main_test_csv=pd.read_csv(\"./CheXpert-v1.0-small/valid.csv\")"
      ],
      "execution_count": null,
      "outputs": []
    },
    {
      "cell_type": "code",
      "metadata": {
        "id": "L3rehoi5Jja0",
        "colab": {
          "base_uri": "https://localhost:8080/"
        },
        "outputId": "8d33d25c-1f0e-48d9-f350-6d001790dc5f"
      },
      "source": [
        "cols=main_test_csv.columns[6:-1]\n",
        "cols"
      ],
      "execution_count": null,
      "outputs": [
        {
          "output_type": "execute_result",
          "data": {
            "text/plain": [
              "Index(['Enlarged Cardiomediastinum', 'Cardiomegaly', 'Lung Opacity',\n",
              "       'Lung Lesion', 'Edema', 'Consolidation', 'Pneumonia', 'Atelectasis',\n",
              "       'Pneumothorax', 'Pleural Effusion', 'Pleural Other', 'Fracture'],\n",
              "      dtype='object')"
            ]
          },
          "metadata": {
            "tags": []
          },
          "execution_count": 360
        }
      ]
    },
    {
      "cell_type": "code",
      "metadata": {
        "id": "lGKO6FWmFkBY",
        "colab": {
          "base_uri": "https://localhost:8080/"
        },
        "outputId": "afe3cad2-2845-4ef0-f94e-d4d992e71c18"
      },
      "source": [
        "# create  processing dataframe\n",
        "main_test_csv['drop']=0\n",
        "count=0\n",
        "for row in range(main_test_csv.shape[0]):\n",
        "    if 1 not in list(main_test_csv.loc[row,cols]) and -1 not in list(main_test_csv.loc[row,cols]) and main_test_csv.loc[row,'No Finding']!=1:\n",
        "        main_test_csv.loc[row,'drop']=1            \n",
        "        count=count+1\n",
        "        print(count)"
      ],
      "execution_count": null,
      "outputs": [
        {
          "output_type": "stream",
          "text": [
            "1\n",
            "2\n",
            "3\n",
            "4\n",
            "5\n",
            "6\n",
            "7\n",
            "8\n",
            "9\n",
            "10\n",
            "11\n",
            "12\n",
            "13\n",
            "14\n",
            "15\n",
            "16\n",
            "17\n",
            "18\n",
            "19\n",
            "20\n",
            "21\n",
            "22\n",
            "23\n",
            "24\n",
            "25\n",
            "26\n",
            "27\n",
            "28\n",
            "29\n",
            "30\n",
            "31\n",
            "32\n",
            "33\n",
            "34\n",
            "35\n",
            "36\n",
            "37\n",
            "38\n",
            "39\n"
          ],
          "name": "stdout"
        }
      ]
    },
    {
      "cell_type": "code",
      "metadata": {
        "id": "tYxW9_NQFxbk"
      },
      "source": [
        "main_test_csv=main_test_csv[main_test_csv['drop']!=1].reset_index(drop=True)"
      ],
      "execution_count": null,
      "outputs": []
    },
    {
      "cell_type": "code",
      "metadata": {
        "id": "ahZevawikbyo",
        "colab": {
          "base_uri": "https://localhost:8080/"
        },
        "outputId": "566e41a3-424e-4692-ad52-dad9cd868a96"
      },
      "source": [
        "# create  processing dataframe\n",
        "main_test_csv['Abnormal']=0\n",
        "count=0\n",
        "for row in range(main_test_csv.shape[0]):\n",
        "    if 1 in list(main_test_csv.loc[row,cols]):\n",
        "        main_test_csv.loc[row,'Abnormal']=1\n",
        "    elif -1 in list(main_test_csv.loc[row,cols]):\n",
        "        main_test_csv.loc[row,'Abnormal']=-1            \n",
        "    else:\n",
        "        main_test_csv.loc[row,'Abnormal']=0            \n",
        "       \n",
        "        count=count+1\n",
        "        print(count)"
      ],
      "execution_count": null,
      "outputs": [
        {
          "output_type": "stream",
          "text": [
            "1\n",
            "2\n",
            "3\n",
            "4\n",
            "5\n",
            "6\n",
            "7\n",
            "8\n",
            "9\n",
            "10\n",
            "11\n",
            "12\n",
            "13\n",
            "14\n",
            "15\n",
            "16\n",
            "17\n",
            "18\n",
            "19\n",
            "20\n",
            "21\n",
            "22\n",
            "23\n",
            "24\n",
            "25\n",
            "26\n",
            "27\n",
            "28\n",
            "29\n",
            "30\n",
            "31\n",
            "32\n",
            "33\n",
            "34\n",
            "35\n",
            "36\n",
            "37\n",
            "38\n"
          ],
          "name": "stdout"
        }
      ]
    },
    {
      "cell_type": "code",
      "metadata": {
        "id": "OLEcdCfLkbyp",
        "colab": {
          "base_uri": "https://localhost:8080/"
        },
        "outputId": "a1630525-9954-4884-f926-514c9b741d1f"
      },
      "source": [
        "main_cols=main_train_csv_u_zeros.columns\n",
        "tst=list(main_cols[:5])\n",
        "tst.append(main_cols[-1])\n",
        "\n",
        "main_cols=tst\n",
        "\n",
        "main_cols"
      ],
      "execution_count": null,
      "outputs": [
        {
          "output_type": "execute_result",
          "data": {
            "text/plain": [
              "['Path', 'Sex', 'Age', 'Frontal/Lateral', 'AP/PA', 'Abnormal']"
            ]
          },
          "metadata": {
            "tags": []
          },
          "execution_count": 369
        }
      ]
    },
    {
      "cell_type": "code",
      "metadata": {
        "id": "0bkH4wr-kbyq"
      },
      "source": [
        "main_test_csv=main_test_csv[main_cols]"
      ],
      "execution_count": null,
      "outputs": []
    },
    {
      "cell_type": "code",
      "metadata": {
        "id": "sMuHbxTx9U8S"
      },
      "source": [
        "main_test_csv=main_test_csv[main_test_csv['Frontal/Lateral']==\"Frontal\"].reset_index(drop=True)"
      ],
      "execution_count": null,
      "outputs": []
    },
    {
      "cell_type": "code",
      "metadata": {
        "id": "X4FmtFOgoiZp"
      },
      "source": [
        "label=LabelEncoder()\n",
        "\n",
        "main_test_csv.Sex=label.fit_transform(main_test_csv.Sex)\n",
        "main_test_csv['Frontal/Lateral']=label.fit_transform(main_test_csv['Frontal/Lateral'])"
      ],
      "execution_count": null,
      "outputs": []
    },
    {
      "cell_type": "code",
      "metadata": {
        "id": "eylxSCczRj9C"
      },
      "source": [
        ""
      ],
      "execution_count": null,
      "outputs": []
    },
    {
      "cell_type": "code",
      "metadata": {
        "id": "5MQoHjexN26w"
      },
      "source": [
        "main_test_csv=main_test_csv[main_test_csv['Age']<=90]\n",
        "main_test_csv=main_test_csv[main_test_csv['Age']!=0]\n",
        "\n",
        "\n",
        "main_test_csv=main_test_csv.reset_index(drop=True)\n"
      ],
      "execution_count": null,
      "outputs": []
    },
    {
      "cell_type": "code",
      "metadata": {
        "id": "m1iXxYIfQher"
      },
      "source": [
        "paths_test=list(main_test_csv['Path'])\n",
        "labels_abnormal_test=list(main_test_csv['Abnormal'])\n",
        "labels_age_test=list(main_test_csv['Age'])"
      ],
      "execution_count": null,
      "outputs": []
    },
    {
      "cell_type": "code",
      "metadata": {
        "id": "tbc59r5Mkbys",
        "colab": {
          "base_uri": "https://localhost:8080/"
        },
        "outputId": "41548e28-0b91-475c-a7c7-d4998b4a0bed"
      },
      "source": [
        "test_gen = tf.data.Dataset.from_tensor_slices((paths_test,(labels_abnormal_test,labels_age_test)))\n",
        "test_gen=test_gen.map(_load_and_preprocess_from_path_label, num_parallel_calls=tf.data.experimental.AUTOTUNE).batch(batch_size).prefetch(tf.data.experimental.AUTOTUNE)"
      ],
      "execution_count": null,
      "outputs": [
        {
          "output_type": "stream",
          "text": [
            "image-> Tensor(\"args_0:0\", shape=(), dtype=string)\n"
          ],
          "name": "stdout"
        }
      ]
    },
    {
      "cell_type": "code",
      "metadata": {
        "id": "FRXT---7kbyt"
      },
      "source": [
        "if (main_test_csv.shape[0]%batch_size) == 0:\n",
        "    test_steps = int(main_test_csv.shape[0]/batch_size)\n",
        "else:\n",
        "    test_steps = (main_test_csv.shape[0]//batch_size) + 1\n",
        "\n",
        "pred_prob=model_load.predict(test_gen,steps=test_steps)"
      ],
      "execution_count": null,
      "outputs": []
    },
    {
      "cell_type": "code",
      "metadata": {
        "id": "cwlbYeW7HxOB"
      },
      "source": [
        "pred=[it[0] for it in pred_prob[0]]"
      ],
      "execution_count": null,
      "outputs": []
    },
    {
      "cell_type": "code",
      "metadata": {
        "id": "m5ak8Gfakbyw"
      },
      "source": [
        "pred=[1.0 if it>0.5 else 0.0 for it in pred]"
      ],
      "execution_count": null,
      "outputs": []
    },
    {
      "cell_type": "code",
      "metadata": {
        "id": "K7QKLdDakbyw"
      },
      "source": [
        "import sklearn\n",
        "import sklearn.metrics"
      ],
      "execution_count": null,
      "outputs": []
    },
    {
      "cell_type": "markdown",
      "metadata": {
        "id": "Anjj0-DdWsZ3"
      },
      "source": [
        "# Check Abnormality"
      ]
    },
    {
      "cell_type": "code",
      "metadata": {
        "id": "1muw-1Qwkbyx",
        "colab": {
          "base_uri": "https://localhost:8080/"
        },
        "outputId": "87b84c97-0b25-433e-935b-24c3a923b467"
      },
      "source": [
        "sklearn.metrics.confusion_matrix(main_test_csv['Abnormal'],pred)"
      ],
      "execution_count": null,
      "outputs": [
        {
          "output_type": "execute_result",
          "data": {
            "text/plain": [
              "array([[ 21,   5],\n",
              "       [ 18, 128]])"
            ]
          },
          "metadata": {
            "tags": []
          },
          "execution_count": 384
        }
      ]
    },
    {
      "cell_type": "code",
      "metadata": {
        "id": "x8ejWOM5kbyx",
        "colab": {
          "base_uri": "https://localhost:8080/"
        },
        "outputId": "f1d34785-817b-4d7f-c52d-1ca1ffaf20b2"
      },
      "source": [
        "sklearn.metrics.precision_recall_fscore_support(main_test_csv['Abnormal'],pred)"
      ],
      "execution_count": null,
      "outputs": [
        {
          "output_type": "execute_result",
          "data": {
            "text/plain": [
              "(array([0.53846154, 0.96240602]),\n",
              " array([0.80769231, 0.87671233]),\n",
              " array([0.64615385, 0.91756272]),\n",
              " array([ 26, 146]))"
            ]
          },
          "metadata": {
            "tags": []
          },
          "execution_count": 385
        }
      ]
    },
    {
      "cell_type": "markdown",
      "metadata": {
        "id": "SEUOSmjMLwsz"
      },
      "source": [
        ""
      ]
    },
    {
      "cell_type": "code",
      "metadata": {
        "id": "PO_hrL07kbyy",
        "colab": {
          "base_uri": "https://localhost:8080/"
        },
        "outputId": "5e3ff665-e0fb-4197-8a24-64878d195360"
      },
      "source": [
        "print(sklearn.metrics.classification_report(y_pred=pred ,y_true=main_test_csv['Abnormal']))"
      ],
      "execution_count": null,
      "outputs": [
        {
          "output_type": "stream",
          "text": [
            "              precision    recall  f1-score   support\n",
            "\n",
            "           0       0.54      0.81      0.65        26\n",
            "           1       0.96      0.88      0.92       146\n",
            "\n",
            "    accuracy                           0.87       172\n",
            "   macro avg       0.75      0.84      0.78       172\n",
            "weighted avg       0.90      0.87      0.88       172\n",
            "\n"
          ],
          "name": "stdout"
        }
      ]
    },
    {
      "cell_type": "code",
      "metadata": {
        "id": "oNWM2EuAQ5DP"
      },
      "source": [
        "age_pred=[it[0] for it in pred_prob[1]]"
      ],
      "execution_count": null,
      "outputs": []
    },
    {
      "cell_type": "code",
      "metadata": {
        "id": "FvptaJdpkbyz"
      },
      "source": [
        "diff_age=abs(age_pred-main_test_csv['Age'])"
      ],
      "execution_count": null,
      "outputs": []
    },
    {
      "cell_type": "code",
      "metadata": {
        "id": "1OZvkDXTUvfa",
        "colab": {
          "base_uri": "https://localhost:8080/"
        },
        "outputId": "1f992bb8-9867-4ea0-93ff-11446fcde95c"
      },
      "source": [
        "sum(diff_age)/len(diff_age)"
      ],
      "execution_count": null,
      "outputs": [
        {
          "output_type": "execute_result",
          "data": {
            "text/plain": [
              "6.304514330486919"
            ]
          },
          "metadata": {
            "tags": []
          },
          "execution_count": 389
        }
      ]
    },
    {
      "cell_type": "code",
      "metadata": {
        "id": "Vl6PqEDgPIng",
        "colab": {
          "base_uri": "https://localhost:8080/"
        },
        "outputId": "66ecaa2a-8f54-445b-eff5-906628a7b971"
      },
      "source": [
        "import statistics\n",
        "statistics.median(diff_age)"
      ],
      "execution_count": null,
      "outputs": [
        {
          "output_type": "execute_result",
          "data": {
            "text/plain": [
              "5.361225128173828"
            ]
          },
          "metadata": {
            "tags": []
          },
          "execution_count": 390
        }
      ]
    },
    {
      "cell_type": "code",
      "metadata": {
        "id": "-zKw893Hkbyz",
        "colab": {
          "base_uri": "https://localhost:8080/",
          "height": 380
        },
        "outputId": "5d61b42f-285d-4f3d-cf58-c1fd469e64f0"
      },
      "source": [
        "sns.distplot(age_pred)\n",
        "sns.distplot(main_test_csv['Age'])"
      ],
      "execution_count": null,
      "outputs": [
        {
          "output_type": "stream",
          "text": [
            "/usr/local/lib/python3.7/dist-packages/seaborn/distributions.py:2557: FutureWarning: `distplot` is a deprecated function and will be removed in a future version. Please adapt your code to use either `displot` (a figure-level function with similar flexibility) or `histplot` (an axes-level function for histograms).\n",
            "  warnings.warn(msg, FutureWarning)\n",
            "/usr/local/lib/python3.7/dist-packages/seaborn/distributions.py:2557: FutureWarning: `distplot` is a deprecated function and will be removed in a future version. Please adapt your code to use either `displot` (a figure-level function with similar flexibility) or `histplot` (an axes-level function for histograms).\n",
            "  warnings.warn(msg, FutureWarning)\n"
          ],
          "name": "stderr"
        },
        {
          "output_type": "execute_result",
          "data": {
            "text/plain": [
              "<matplotlib.axes._subplots.AxesSubplot at 0x7efb1e6987d0>"
            ]
          },
          "metadata": {
            "tags": []
          },
          "execution_count": 391
        },
        {
          "output_type": "display_data",
          "data": {
            "image/png": "[encoded data removed]",
            "text/plain": [
              "<Figure size 432x288 with 1 Axes>"
            ]
          },
          "metadata": {
            "tags": [],
            "needs_background": "light"
          }
        }
      ]
    },
    {
      "cell_type": "markdown",
      "metadata": {
        "id": "GZiXwt0xWZd-"
      },
      "source": [
        "Age value less than 9 years"
      ]
    },
    {
      "cell_type": "code",
      "metadata": {
        "id": "_HRwy8DlSGNp",
        "colab": {
          "base_uri": "https://localhost:8080/"
        },
        "outputId": "3cd727b1-c0c6-4d24-ff0e-11c18cd13e0c"
      },
      "source": [
        "sum(diff_age<9)/len(diff_age)"
      ],
      "execution_count": null,
      "outputs": [
        {
          "output_type": "execute_result",
          "data": {
            "text/plain": [
              "0.7848837209302325"
            ]
          },
          "metadata": {
            "tags": []
          },
          "execution_count": 392
        }
      ]
    },
    {
      "cell_type": "markdown",
      "metadata": {
        "id": "2ADhDDFOWeLx"
      },
      "source": [
        "Age value less than 13 years"
      ]
    },
    {
      "cell_type": "code",
      "metadata": {
        "id": "DjrUWJ1uRhRN",
        "colab": {
          "base_uri": "https://localhost:8080/"
        },
        "outputId": "5fc07869-5fac-4c50-c07f-64b14e1d6cad"
      },
      "source": [
        "sum(diff_age<13)/len(diff_age)"
      ],
      "execution_count": null,
      "outputs": [
        {
          "output_type": "execute_result",
          "data": {
            "text/plain": [
              "0.9069767441860465"
            ]
          },
          "metadata": {
            "tags": []
          },
          "execution_count": 393
        }
      ]
    },
    {
      "cell_type": "markdown",
      "metadata": {
        "id": "qfqiX_EiWhgj"
      },
      "source": [
        "Age value less than 10 years"
      ]
    },
    {
      "cell_type": "code",
      "metadata": {
        "id": "3hcX_9YAmPkW",
        "colab": {
          "base_uri": "https://localhost:8080/"
        },
        "outputId": "a27bc4b3-0ad9-4a80-f129-00bd3e01542b"
      },
      "source": [
        "sum(diff_age<10)/len(diff_age)"
      ],
      "execution_count": null,
      "outputs": [
        {
          "output_type": "execute_result",
          "data": {
            "text/plain": [
              "0.8255813953488372"
            ]
          },
          "metadata": {
            "tags": []
          },
          "execution_count": 394
        }
      ]
    },
    {
      "cell_type": "code",
      "metadata": {
        "id": "WTeU-sZ47Btt",
        "scrolled": true,
        "colab": {
          "base_uri": "https://localhost:8080/",
          "height": 138
        },
        "outputId": "65fa1101-c209-46f5-e7cd-c3289f5487f0"
      },
      "source": [
        "main_test_csv[diff_age>0.1].groupby('Abnormal').count()"
      ],
      "execution_count": null,
      "outputs": [
        {
          "output_type": "execute_result",
          "data": {
            "text/html": [
              "<div>\n",
              "<style scoped>\n",
              "    .dataframe tbody tr th:only-of-type {\n",
              "        vertical-align: middle;\n",
              "    }\n",
              "\n",
              "    .dataframe tbody tr th {\n",
              "        vertical-align: top;\n",
              "    }\n",
              "\n",
              "    .dataframe thead th {\n",
              "        text-align: right;\n",
              "    }\n",
              "</style>\n",
              "<table border=\"1\" class=\"dataframe\">\n",
              "  <thead>\n",
              "    <tr style=\"text-align: right;\">\n",
              "      <th></th>\n",
              "      <th>Path</th>\n",
              "      <th>Sex</th>\n",
              "      <th>Age</th>\n",
              "      <th>Frontal/Lateral</th>\n",
              "      <th>AP/PA</th>\n",
              "    </tr>\n",
              "    <tr>\n",
              "      <th>Abnormal</th>\n",
              "      <th></th>\n",
              "      <th></th>\n",
              "      <th></th>\n",
              "      <th></th>\n",
              "      <th></th>\n",
              "    </tr>\n",
              "  </thead>\n",
              "  <tbody>\n",
              "    <tr>\n",
              "      <th>0</th>\n",
              "      <td>25</td>\n",
              "      <td>25</td>\n",
              "      <td>25</td>\n",
              "      <td>25</td>\n",
              "      <td>25</td>\n",
              "    </tr>\n",
              "    <tr>\n",
              "      <th>1</th>\n",
              "      <td>145</td>\n",
              "      <td>145</td>\n",
              "      <td>145</td>\n",
              "      <td>145</td>\n",
              "      <td>145</td>\n",
              "    </tr>\n",
              "  </tbody>\n",
              "</table>\n",
              "</div>"
            ],
            "text/plain": [
              "          Path  Sex  Age  Frontal/Lateral  AP/PA\n",
              "Abnormal                                        \n",
              "0           25   25   25               25     25\n",
              "1          145  145  145              145    145"
            ]
          },
          "metadata": {
            "tags": []
          },
          "execution_count": 395
        }
      ]
    },
    {
      "cell_type": "code",
      "metadata": {
        "id": "ryj36x9i7eJ3",
        "colab": {
          "base_uri": "https://localhost:8080/"
        },
        "outputId": "a695c69d-cf2f-4a66-f8e3-d84d15b744b7"
      },
      "source": [
        "main_test_csv[diff_age>0.1]['Age'].min()"
      ],
      "execution_count": null,
      "outputs": [
        {
          "output_type": "execute_result",
          "data": {
            "text/plain": [
              "21"
            ]
          },
          "metadata": {
            "tags": []
          },
          "execution_count": 396
        }
      ]
    },
    {
      "cell_type": "code",
      "metadata": {
        "id": "noc_UHapyKRi",
        "colab": {
          "base_uri": "https://localhost:8080/"
        },
        "outputId": "e4b0610b-e65c-4fe4-ed94-b0cde246feca"
      },
      "source": [
        "sum(diff_age<6)/len(diff_age)"
      ],
      "execution_count": null,
      "outputs": [
        {
          "output_type": "execute_result",
          "data": {
            "text/plain": [
              "0.5348837209302325"
            ]
          },
          "metadata": {
            "tags": []
          },
          "execution_count": 398
        }
      ]
    },
    {
      "cell_type": "code",
      "metadata": {
        "id": "Vff3jWFXrH0r",
        "colab": {
          "base_uri": "https://localhost:8080/"
        },
        "outputId": "900dd714-3633-421f-ba57-8a3e0fed8afb"
      },
      "source": [
        "sum(diff_age<4)/len(diff_age)"
      ],
      "execution_count": null,
      "outputs": [
        {
          "output_type": "execute_result",
          "data": {
            "text/plain": [
              "0.37790697674418605"
            ]
          },
          "metadata": {
            "tags": []
          },
          "execution_count": 399
        }
      ]
    },
    {
      "cell_type": "code",
      "metadata": {
        "id": "d4epK7rrQDqF"
      },
      "source": [
        "testval=100"
      ],
      "execution_count": null,
      "outputs": []
    },
    {
      "cell_type": "code",
      "metadata": {
        "id": "3z7zn47QgcIg"
      },
      "source": [
        "# precision-recall curve and f1 for an imbalanced dataset\n",
        "from sklearn.datasets import make_classification\n",
        "from sklearn.linear_model import LogisticRegression\n",
        "from sklearn.model_selection import train_test_split\n",
        "from sklearn.metrics import precision_recall_curve\n",
        "from sklearn.metrics import f1_score\n",
        "from sklearn.metrics import auc\n",
        "\n",
        "\n",
        "from matplotlib import pyplot\n",
        "from sklearn.metrics import roc_auc_score,average_precision_score"
      ],
      "execution_count": null,
      "outputs": []
    },
    {
      "cell_type": "code",
      "metadata": {
        "id": "ypIIS7UeENK9"
      },
      "source": [
        "pred=[it[0] for it in pred_prob[0]]"
      ],
      "execution_count": null,
      "outputs": []
    },
    {
      "cell_type": "code",
      "metadata": {
        "id": "OF2WQQoAjoYk",
        "colab": {
          "base_uri": "https://localhost:8080/"
        },
        "outputId": "02ffc354-caa1-4f10-f78a-a0cb27753235"
      },
      "source": [
        "roc_auc_score(main_test_csv['Abnormal'],pred)"
      ],
      "execution_count": null,
      "outputs": [
        {
          "output_type": "execute_result",
          "data": {
            "text/plain": [
              "0.928872497365648"
            ]
          },
          "metadata": {
            "tags": []
          },
          "execution_count": 407
        }
      ]
    },
    {
      "cell_type": "code",
      "metadata": {
        "id": "BRGl1LomMNlK",
        "colab": {
          "base_uri": "https://localhost:8080/"
        },
        "outputId": "34f6de9c-f8b6-41e0-fc66-3b2f4c98280e"
      },
      "source": [
        "average_precision_score(main_test_csv['Abnormal'],pred)"
      ],
      "execution_count": null,
      "outputs": [
        {
          "output_type": "execute_result",
          "data": {
            "text/plain": [
              "0.9869787280190027"
            ]
          },
          "metadata": {
            "tags": []
          },
          "execution_count": 408
        }
      ]
    },
    {
      "cell_type": "code",
      "metadata": {
        "id": "vIhEIjCToadE"
      },
      "source": [
        "pred=[it[0] for it in pred_prob[0]]"
      ],
      "execution_count": null,
      "outputs": []
    },
    {
      "cell_type": "code",
      "metadata": {
        "id": "qEvH3OtEkUOf"
      },
      "source": [
        "from sklearn.metrics import roc_curve\n",
        "fpr_keras, tpr_keras, thresholds_keras = roc_curve(main_test_csv['Abnormal'],pred)\n"
      ],
      "execution_count": null,
      "outputs": []
    },
    {
      "cell_type": "code",
      "metadata": {
        "id": "spwIg4MemlgS",
        "colab": {
          "base_uri": "https://localhost:8080/"
        },
        "outputId": "162ea5d1-bd06-4ad2-f93d-441100b58d8c"
      },
      "source": [
        "from sklearn.metrics import auc\n",
        "auc_keras = auc(fpr_keras, tpr_keras)\n",
        "auc_keras"
      ],
      "execution_count": null,
      "outputs": [
        {
          "output_type": "execute_result",
          "data": {
            "text/plain": [
              "0.928872497365648"
            ]
          },
          "metadata": {
            "tags": []
          },
          "execution_count": 411
        }
      ]
    },
    {
      "cell_type": "code",
      "metadata": {
        "id": "J1__VaiooJdc"
      },
      "source": [
        "import sklearn.metrics as metrics"
      ],
      "execution_count": null,
      "outputs": []
    },
    {
      "cell_type": "markdown",
      "metadata": {
        "id": "8imU5BRPWTRc"
      },
      "source": [
        "# AUC Curve"
      ]
    },
    {
      "cell_type": "code",
      "metadata": {
        "id": "bBESJa1o-iin"
      },
      "source": [
        "pred=[it[0] for it in pred_prob[0]]"
      ],
      "execution_count": null,
      "outputs": []
    },
    {
      "cell_type": "code",
      "metadata": {
        "id": "XsnJ-tmsnj3y",
        "colab": {
          "base_uri": "https://localhost:8080/",
          "height": 295
        },
        "outputId": "b2eb89b1-ac4c-452a-bc04-79f3a4705766"
      },
      "source": [
        "fpr, tpr, threshold = metrics.roc_curve(main_test_csv['Abnormal'],pred)\n",
        "roc_auc = metrics.auc(fpr, tpr)\n",
        "\n",
        "# method I: plt\n",
        "import matplotlib.pyplot as plt\n",
        "plt.title('Receiver Operating Characteristic')\n",
        "plt.plot(fpr, tpr, 'b', label = 'AUC = %0.2f' % roc_auc)\n",
        "plt.legend(loc = 'lower right')\n",
        "plt.plot([0, 1], [0, 1],'r--')\n",
        "plt.xlim([0, 1])\n",
        "plt.ylim([0, 1])\n",
        "plt.ylabel('True Positive Rate')\n",
        "plt.xlabel('False Positive Rate')\n",
        "plt.show()"
      ],
      "execution_count": null,
      "outputs": [
        {
          "output_type": "display_data",
          "data": {
            "image/png": "[encoded data removed]",
            "text/plain": [
              "<Figure size 432x288 with 1 Axes>"
            ]
          },
          "metadata": {
            "tags": [],
            "needs_background": "light"
          }
        }
      ]
    },
    {
      "cell_type": "code",
      "metadata": {
        "id": "qrLCabmf-ecz"
      },
      "source": [
        "pred=[it[0] for it in pred_prob[0]]"
      ],
      "execution_count": null,
      "outputs": []
    },
    {
      "cell_type": "code",
      "metadata": {
        "id": "hpnEWI2HOgVg"
      },
      "source": [
        "pred_val=[1.0 if it>0.5 else 0.0 for it in pred]"
      ],
      "execution_count": null,
      "outputs": []
    },
    {
      "cell_type": "code",
      "metadata": {
        "id": "otXMzFQTdhuV",
        "colab": {
          "base_uri": "https://localhost:8080/"
        },
        "outputId": "0a324413-e612-4896-950e-b0a6c407c6e4"
      },
      "source": [
        "sklearn.metrics.confusion_matrix(main_test_csv['Abnormal'],pred_val)"
      ],
      "execution_count": null,
      "outputs": [
        {
          "output_type": "execute_result",
          "data": {
            "text/plain": [
              "array([[ 21,   5],\n",
              "       [ 18, 128]])"
            ]
          },
          "metadata": {
            "tags": []
          },
          "execution_count": 417
        }
      ]
    },
    {
      "cell_type": "code",
      "metadata": {
        "id": "vazOLpyPdTf0",
        "colab": {
          "base_uri": "https://localhost:8080/"
        },
        "outputId": "a310d6bb-9a0e-4db5-bdef-5d4abe5eb6c8"
      },
      "source": [
        "print(sklearn.metrics.classification_report(y_pred=pred_val ,y_true=main_test_csv['Abnormal']))"
      ],
      "execution_count": null,
      "outputs": [
        {
          "output_type": "stream",
          "text": [
            "              precision    recall  f1-score   support\n",
            "\n",
            "           0       0.54      0.81      0.65        26\n",
            "           1       0.96      0.88      0.92       146\n",
            "\n",
            "    accuracy                           0.87       172\n",
            "   macro avg       0.75      0.84      0.78       172\n",
            "weighted avg       0.90      0.87      0.88       172\n",
            "\n"
          ],
          "name": "stdout"
        }
      ]
    },
    {
      "cell_type": "code",
      "metadata": {
        "id": "gwnKj5PXdswu"
      },
      "source": [
        "pred=[it[0] for it in pred_prob[0]]"
      ],
      "execution_count": null,
      "outputs": []
    },
    {
      "cell_type": "markdown",
      "metadata": {
        "id": "K1f38KWCWP8b"
      },
      "source": [
        "## AUPRC Curve"
      ]
    },
    {
      "cell_type": "code",
      "metadata": {
        "id": "itRaLdrMoFCH",
        "colab": {
          "base_uri": "https://localhost:8080/",
          "height": 278
        },
        "outputId": "dd0d3579-0f31-4eaf-b7e3-f10d367d7ec1"
      },
      "source": [
        "lr_precision, lr_recall, _ = precision_recall_curve(main_test_csv['Abnormal'],pred)\n",
        "lr_f1, lr_auc = f1_score(main_test_csv['Abnormal'],pred_val), auc(lr_recall, lr_precision)\n",
        "# summarize scores\n",
        "#print('Logistic: f1=%.3f auc=%.3f' % (lr_f1, lr_auc))\n",
        "# plot the precision-recall curves\n",
        "no_skill = len(main_test_csv['Abnormal'][main_test_csv['Abnormal']==1]) / len(main_test_csv['Abnormal'])\n",
        "pyplot.plot([0, 1], [no_skill, no_skill], linestyle='--', label='No Skill')\n",
        "pyplot.plot(lr_recall, lr_precision, marker='.', label='model')\n",
        "# axis labels\n",
        "pyplot.xlabel('Recall')\n",
        "pyplot.ylabel('Precision')\n",
        "# show the legend\n",
        "pyplot.legend()\n",
        "# show the plot\n",
        "pyplot.show()"
      ],
      "execution_count": null,
      "outputs": [
        {
          "output_type": "display_data",
          "data": {
            "image/png": "[encoded data removed]",
            "text/plain": [
              "<Figure size 432x288 with 1 Axes>"
            ]
          },
          "metadata": {
            "tags": [],
            "needs_background": "light"
          }
        }
      ]
    },
    {
      "cell_type": "code",
      "metadata": {
        "id": "_lCmojmuNcjs",
        "colab": {
          "base_uri": "https://localhost:8080/"
        },
        "outputId": "849bc2b0-5c55-42a5-e0f3-2d7916eea951"
      },
      "source": [
        "lr_f1"
      ],
      "execution_count": null,
      "outputs": [
        {
          "output_type": "execute_result",
          "data": {
            "text/plain": [
              "0.9175627240143369"
            ]
          },
          "metadata": {
            "tags": []
          },
          "execution_count": 421
        }
      ]
    },
    {
      "cell_type": "code",
      "metadata": {
        "id": "js_lM90-Onj7",
        "colab": {
          "base_uri": "https://localhost:8080/"
        },
        "outputId": "69fc7dfe-5a93-4f59-d09d-27817aebce18"
      },
      "source": [
        "lr_auc"
      ],
      "execution_count": null,
      "outputs": [
        {
          "output_type": "execute_result",
          "data": {
            "text/plain": [
              "0.9869317529997358"
            ]
          },
          "metadata": {
            "tags": []
          },
          "execution_count": 422
        }
      ]
    },
    {
      "cell_type": "code",
      "metadata": {
        "id": "vT6zEDh4OqDp",
        "colab": {
          "base_uri": "https://localhost:8080/"
        },
        "outputId": "3257bf03-98b0-4b57-cffe-0d57b64408f0"
      },
      "source": [
        "average_precision = average_precision_score(main_test_csv['Abnormal'],pred)\n",
        "\n",
        "print('Average precision-recall score: {0:0.2f}'.format(\n",
        "      average_precision))"
      ],
      "execution_count": null,
      "outputs": [
        {
          "output_type": "stream",
          "text": [
            "Average precision-recall score: 0.99\n"
          ],
          "name": "stdout"
        }
      ]
    },
    {
      "cell_type": "code",
      "metadata": {
        "id": "YC598ZwwPOZE"
      },
      "source": [
        "precision, recall, thresholds = precision_recall_curve(main_test_csv['Abnormal'],pred)"
      ],
      "execution_count": null,
      "outputs": []
    },
    {
      "cell_type": "code",
      "metadata": {
        "id": "JHiLRlj9PpAN"
      },
      "source": [
        "auc_score = auc(recall, precision)"
      ],
      "execution_count": null,
      "outputs": []
    },
    {
      "cell_type": "code",
      "metadata": {
        "id": "dsecDOE6Qi21",
        "colab": {
          "base_uri": "https://localhost:8080/"
        },
        "outputId": "c7e0505e-f598-4d21-ad21-dc7c06df68f2"
      },
      "source": [
        "auc_score"
      ],
      "execution_count": null,
      "outputs": [
        {
          "output_type": "execute_result",
          "data": {
            "text/plain": [
              "0.9869317529997358"
            ]
          },
          "metadata": {
            "tags": []
          },
          "execution_count": 427
        }
      ]
    }
  ]
}