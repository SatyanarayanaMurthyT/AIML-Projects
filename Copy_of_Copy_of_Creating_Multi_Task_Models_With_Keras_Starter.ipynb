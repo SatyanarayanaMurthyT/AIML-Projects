{
  "nbformat": 4,
  "nbformat_minor": 0,
  "metadata": {
    "kernelspec": {
      "display_name": "Python 3",
      "language": "python",
      "name": "python3"
    },
    "language_info": {
      "codemirror_mode": {
        "name": "ipython",
        "version": 3
      },
      "file_extension": ".py",
      "mimetype": "text/x-python",
      "name": "python",
      "nbconvert_exporter": "python",
      "pygments_lexer": "ipython3",
      "version": "3.8.5"
    },
    "colab": {
      "name": "Copy of Copy of Creating Multi Task Models With Keras - Starter.ipynb",
      "provenance": [],
      "collapsed_sections": [],
      "include_colab_link": true
    },
    "accelerator": "GPU"
  },
  "cells": [
    {
      "cell_type": "markdown",
      "metadata": {
        "id": "view-in-github",
        "colab_type": "text"
      },
      "source": [
        "<a href=\"https://colab.research.google.com/github/SatyanarayanaMurthyT/AIML-Projects/blob/main/Copy_of_Copy_of_Creating_Multi_Task_Models_With_Keras_Starter.ipynb\" target=\"_parent\"><img src=\"https://colab.research.google.com/assets/colab-badge.svg\" alt=\"Open In Colab\"/></a>"
      ]
    },
    {
      "cell_type": "markdown",
      "metadata": {
        "id": "jKIdV8hoVX5F"
      },
      "source": [
        "## Task 1: Introduction\n",
        "\n",
        "Starter notebook for the Coursera Guided Project [Creating Multi Task Models With Keras](https://www.coursera.org/projects/multi-task-models-keras)"
      ]
    },
    {
      "cell_type": "code",
      "metadata": {
        "id": "JM_cJ0ayVX5M",
        "colab": {
          "base_uri": "https://localhost:8080/"
        },
        "outputId": "e837689d-7000-49f6-f32b-0727fc8a4aaa"
      },
      "source": [
        "%matplotlib inline\n",
        "%load_ext tensorboard\n",
        "\n",
        "import tensorflow as tf\n",
        "import numpy as np\n",
        "import matplotlib.pyplot as plt\n",
        "import shutil\n",
        "\n",
        "try:\n",
        "  shutil.rmtree('logs')\n",
        "except:\n",
        "  pass"
      ],
      "execution_count": null,
      "outputs": [
        {
          "output_type": "stream",
          "text": [
            "The tensorboard extension is already loaded. To reload it, use:\n",
            "  %reload_ext tensorboard\n"
          ],
          "name": "stdout"
        }
      ]
    },
    {
      "cell_type": "markdown",
      "metadata": {
        "id": "QiIPp2H0VX5N"
      },
      "source": [
        "## Task 2: Create Dataset"
      ]
    },
    {
      "cell_type": "code",
      "metadata": {
        "id": "QovZqtGiVX5P"
      },
      "source": [
        "(x_train,y_train),(x_test,y_test)=tf.keras.datasets.mnist.load_data()"
      ],
      "execution_count": null,
      "outputs": []
    },
    {
      "cell_type": "code",
      "metadata": {
        "id": "8RZZS1NoVX5P"
      },
      "source": [
        "def create_example(x,y):\n",
        "  c=np.random.randint(0,2)\n",
        "  image= 0.5*np.random.rand(28,28,3)\n",
        "  image[:,:,c]+=0.5*x/255.\n",
        "  return image,y,c"
      ],
      "execution_count": null,
      "outputs": []
    },
    {
      "cell_type": "code",
      "metadata": {
        "id": "F5t-OsIpVX5Q",
        "colab": {
          "base_uri": "https://localhost:8080/",
          "height": 282
        },
        "outputId": "094fdbf5-29ff-4929-fb40-3503ed570a02"
      },
      "source": [
        "colors={0:'red',1:'green'}\n",
        "\n",
        "x,y,c=create_example(x_train[1],y_train[1])\n",
        "print(f'digit:{y},color:{colors[c]}')\n",
        "\n",
        "plt.imshow(x)\n",
        "plt.show()"
      ],
      "execution_count": null,
      "outputs": [
        {
          "output_type": "stream",
          "text": [
            "digit:0,color:red\n"
          ],
          "name": "stdout"
        },
        {
          "output_type": "display_data",
          "data": {
            "image/png": "[encoded data removed]",
            "text/plain": [
              "<Figure size 432x288 with 1 Axes>"
            ]
          },
          "metadata": {
            "tags": [],
            "needs_background": "light"
          }
        }
      ]
    },
    {
      "cell_type": "code",
      "metadata": {
        "id": "xYKeRuWqj-QY"
      },
      "source": [
        ""
      ],
      "execution_count": null,
      "outputs": []
    },
    {
      "cell_type": "markdown",
      "metadata": {
        "id": "bzzPlFteVX5Q"
      },
      "source": [
        "## Task 3: Dataset Generator"
      ]
    },
    {
      "cell_type": "code",
      "metadata": {
        "id": "FflkdksnVX5R"
      },
      "source": [
        "def generate_data(x,y,batch_size=32):\n",
        "  num_examples=len(y)\n",
        "\n",
        "  while True:\n",
        "    x_batch=np.zeros((batch_size,28,28,3))\n",
        "    y_batch=np.zeros((batch_size,))\n",
        "    c_batch=np.zeros((batch_size,))\n",
        "\n",
        "    for i in range(0,batch_size):\n",
        "      index=np.random.randint(0,num_examples)\n",
        "      image,digit,color=create_example(x[index],y[index])\n",
        "      x_batch[i]=image\n",
        "      y_batch[i]=digit\n",
        "      c_batch[i]=color\n",
        "    yield x_batch,[y_batch,c_batch]"
      ],
      "execution_count": null,
      "outputs": []
    },
    {
      "cell_type": "markdown",
      "metadata": {
        "id": "yQDBRzzoVX5R"
      },
      "source": [
        "## Task 4: Create Model"
      ]
    },
    {
      "cell_type": "code",
      "metadata": {
        "id": "TJJ9Bj86VX5R"
      },
      "source": [
        "x,[y,c]=next(generate_data(x_test,y_test,batch_size=1))"
      ],
      "execution_count": null,
      "outputs": []
    },
    {
      "cell_type": "code",
      "metadata": {
        "id": "agtm1bq3VX5T",
        "colab": {
          "base_uri": "https://localhost:8080/",
          "height": 299
        },
        "outputId": "852b9915-eaa9-416d-f6c3-49f3ec6c7ad6"
      },
      "source": [
        "print(y,c)\n",
        "plt.imshow(x[0])"
      ],
      "execution_count": null,
      "outputs": [
        {
          "output_type": "stream",
          "text": [
            "[1.] [0.]\n"
          ],
          "name": "stdout"
        },
        {
          "output_type": "execute_result",
          "data": {
            "text/plain": [
              "<matplotlib.image.AxesImage at 0x7fea4085bad0>"
            ]
          },
          "metadata": {
            "tags": []
          },
          "execution_count": 20
        },
        {
          "output_type": "display_data",
          "data": {
            "image/png": "[encoded data removed]",
            "text/plain": [
              "<Figure size 432x288 with 1 Axes>"
            ]
          },
          "metadata": {
            "tags": [],
            "needs_background": "light"
          }
        }
      ]
    },
    {
      "cell_type": "code",
      "metadata": {
        "id": "oxG5tm0Nl6TD"
      },
      "source": [
        "from tensorflow.keras.layers import Input,Conv2D,Activation,MaxPool2D,Flatten,Add,Dense"
      ],
      "execution_count": null,
      "outputs": []
    },
    {
      "cell_type": "code",
      "metadata": {
        "id": "TWyZ5YNfmNFh",
        "colab": {
          "base_uri": "https://localhost:8080/"
        },
        "outputId": "d8ff5d8c-93cc-42a1-fab6-000115e0501c"
      },
      "source": [
        "input_=Input(shape=(28,28,3),name='input')\n",
        "\n",
        "conv_1=Conv2D(32,3,name='conv_1')(input_)\n",
        "act_1=Activation('relu',name='act_1')(conv_1)\n",
        "\n",
        "pool_1=MaxPool2D(4,name='pool_1')(act_1)\n",
        "flat_1=Flatten(name='flat_1')(pool_1)\n",
        "\n",
        "\n",
        "color=Dense(1,activation='sigmoid',name='color')(flat_1)\n",
        "\n",
        "conv_2=Conv2D(32,3,padding='same',name='conv_2')(act_1)\n",
        "act_2=Activation('relu',name='act_2')(conv_2)\n",
        "\n",
        "conv_3=Conv2D(32,3,padding='same',name='conv_3')(act_2)\n",
        "add=Add(name='add')([act_1,conv_3])\n",
        "\n",
        "\n",
        "act_3=Activation('relu',name='act_3')(add)\n",
        "\n",
        "\n",
        "pool_2=MaxPool2D(4,name='pool_2')(act_3)\n",
        "flat_2=Flatten(name='flat_2')(pool_2)\n",
        "\n",
        "\n",
        "digit=Dense(10,activation='softmax',name='digit')(flat_2)\n",
        "\n",
        "model=tf.keras.models.Model(input_,[digit,color])\n",
        "\n",
        "model.compile(\n",
        "    loss={\n",
        "        'digit':'sparse_categorical_crossentropy',\n",
        "        'color':'binary_crossentropy'\n",
        "    },\n",
        "        optimizer='adam',\n",
        "        metrics=['accuracy']\n",
        "    \n",
        "  )\n",
        "model.summary()"
      ],
      "execution_count": null,
      "outputs": [
        {
          "output_type": "stream",
          "text": [
            "Model: \"model_4\"\n",
            "__________________________________________________________________________________________________\n",
            "Layer (type)                    Output Shape         Param #     Connected to                     \n",
            "==================================================================================================\n",
            "input (InputLayer)              [(None, 28, 28, 3)]  0                                            \n",
            "__________________________________________________________________________________________________\n",
            "conv_1 (Conv2D)                 (None, 26, 26, 32)   896         input[0][0]                      \n",
            "__________________________________________________________________________________________________\n",
            "act_1 (Activation)              (None, 26, 26, 32)   0           conv_1[0][0]                     \n",
            "__________________________________________________________________________________________________\n",
            "conv_2 (Conv2D)                 (None, 26, 26, 32)   9248        act_1[0][0]                      \n",
            "__________________________________________________________________________________________________\n",
            "act_2 (Activation)              (None, 26, 26, 32)   0           conv_2[0][0]                     \n",
            "__________________________________________________________________________________________________\n",
            "conv_3 (Conv2D)                 (None, 26, 26, 32)   9248        act_2[0][0]                      \n",
            "__________________________________________________________________________________________________\n",
            "add (Add)                       (None, 26, 26, 32)   0           act_1[0][0]                      \n",
            "                                                                 conv_3[0][0]                     \n",
            "__________________________________________________________________________________________________\n",
            "act_3 (Activation)              (None, 26, 26, 32)   0           add[0][0]                        \n",
            "__________________________________________________________________________________________________\n",
            "pool_2 (MaxPooling2D)           (None, 6, 6, 32)     0           act_3[0][0]                      \n",
            "__________________________________________________________________________________________________\n",
            "pool_1 (MaxPooling2D)           (None, 6, 6, 32)     0           act_1[0][0]                      \n",
            "__________________________________________________________________________________________________\n",
            "flat_2 (Flatten)                (None, 1152)         0           pool_2[0][0]                     \n",
            "__________________________________________________________________________________________________\n",
            "flat_1 (Flatten)                (None, 1152)         0           pool_1[0][0]                     \n",
            "__________________________________________________________________________________________________\n",
            "digit (Dense)                   (None, 10)           11530       flat_2[0][0]                     \n",
            "__________________________________________________________________________________________________\n",
            "color (Dense)                   (None, 1)            1153        flat_1[0][0]                     \n",
            "==================================================================================================\n",
            "Total params: 32,075\n",
            "Trainable params: 32,075\n",
            "Non-trainable params: 0\n",
            "__________________________________________________________________________________________________\n"
          ],
          "name": "stdout"
        }
      ]
    },
    {
      "cell_type": "code",
      "metadata": {
        "id": "CzziAd-6mMgz",
        "colab": {
          "base_uri": "https://localhost:8080/",
          "height": 1000
        },
        "outputId": "035f2c4d-7f84-4e8d-ea66-e2009b8c9457"
      },
      "source": [
        "tf.keras.utils.plot_model(model)"
      ],
      "execution_count": null,
      "outputs": [
        {
          "output_type": "execute_result",
          "data": {
            "image/png": "[encoded data removed]",
            "text/plain": [
              "<IPython.core.display.Image object>"
            ]
          },
          "metadata": {
            "tags": []
          },
          "execution_count": 38
        }
      ]
    },
    {
      "cell_type": "code",
      "metadata": {
        "id": "xPQvo0cLmL9v"
      },
      "source": [
        ""
      ],
      "execution_count": null,
      "outputs": []
    },
    {
      "cell_type": "code",
      "metadata": {
        "id": "2WDNqDf4l5AX"
      },
      "source": [
        ""
      ],
      "execution_count": null,
      "outputs": []
    },
    {
      "cell_type": "markdown",
      "metadata": {
        "id": "Aa6yAsj-VX5U"
      },
      "source": [
        "## Task 5: Training the Model"
      ]
    },
    {
      "cell_type": "code",
      "metadata": {
        "id": "hDEFFWKGVX5U"
      },
      "source": [
        "class Logger(tf.keras.callbacks.Callback):\n",
        "  def on_epoch_end(self, epoch, logs=None):\n",
        "    digit_accuracy = logs.get('digit_accuracy')\n",
        "    color_accuracy = logs.get('color_accuracy')\n",
        "    val_digit_accuracy = logs.get('val_digit_accuracy')\n",
        "    val_color_accuracy = logs.get('val_color_accuracy')\n",
        "    print('='*30, epoch + 1, '='*30)\n",
        "    print(f'digit_accuracy: {digit_accuracy:.2f}, color_accuracy: {color_accuracy:.2f}')\n",
        "    print(f'val_digit_accuracy: {val_digit_accuracy:.2f}, val_color_accuracy: {val_color_accuracy:.2f}')"
      ],
      "execution_count": null,
      "outputs": []
    },
    {
      "cell_type": "code",
      "metadata": {
        "id": "q92Hm71DVX5V",
        "colab": {
          "base_uri": "https://localhost:8080/"
        },
        "outputId": "f781dce0-3f55-4aca-ee65-52789162b2fe"
      },
      "source": [
        "train_gen=generate_data(x_train,y_train)\n",
        "test_gen=generate_data(x_test,y_test)\n",
        "\n",
        "model.fit(train_gen,\n",
        "          validation_data=test_gen,\n",
        "          steps_per_epoch=200,\n",
        "          validation_steps=100,\n",
        "          epochs=10,\n",
        "          callbacks=[\n",
        "                     Logger(),\n",
        "                     tf.keras.callbacks.TensorBoard(log_dir='./logs')\n",
        "          ],\n",
        "          verbose=False\n",
        "        )"
      ],
      "execution_count": null,
      "outputs": [
        {
          "output_type": "stream",
          "text": [
            "WARNING:tensorflow:Callback method `on_train_batch_begin` is slow compared to the batch time (batch time: 0.0063s vs `on_train_batch_begin` time: 0.0882s). Check your callbacks.\n",
            "WARNING:tensorflow:Callback method `on_train_batch_end` is slow compared to the batch time (batch time: 0.0063s vs `on_train_batch_end` time: 0.0366s). Check your callbacks.\n",
            "============================== 1 ==============================\n",
            "digit_accuracy: 0.57, color_accuracy: 0.97\n",
            "val_digit_accuracy: 0.83, val_color_accuracy: 1.00\n",
            "============================== 2 ==============================\n",
            "digit_accuracy: 0.88, color_accuracy: 1.00\n",
            "val_digit_accuracy: 0.92, val_color_accuracy: 1.00\n",
            "============================== 3 ==============================\n",
            "digit_accuracy: 0.93, color_accuracy: 1.00\n",
            "val_digit_accuracy: 0.95, val_color_accuracy: 1.00\n",
            "============================== 4 ==============================\n",
            "digit_accuracy: 0.95, color_accuracy: 1.00\n",
            "val_digit_accuracy: 0.95, val_color_accuracy: 1.00\n",
            "============================== 5 ==============================\n",
            "digit_accuracy: 0.95, color_accuracy: 1.00\n",
            "val_digit_accuracy: 0.96, val_color_accuracy: 1.00\n",
            "============================== 6 ==============================\n",
            "digit_accuracy: 0.95, color_accuracy: 1.00\n",
            "val_digit_accuracy: 0.95, val_color_accuracy: 1.00\n",
            "============================== 7 ==============================\n",
            "digit_accuracy: 0.96, color_accuracy: 1.00\n",
            "val_digit_accuracy: 0.97, val_color_accuracy: 1.00\n",
            "============================== 8 ==============================\n",
            "digit_accuracy: 0.96, color_accuracy: 1.00\n",
            "val_digit_accuracy: 0.97, val_color_accuracy: 1.00\n",
            "============================== 9 ==============================\n",
            "digit_accuracy: 0.96, color_accuracy: 1.00\n",
            "val_digit_accuracy: 0.97, val_color_accuracy: 1.00\n",
            "============================== 10 ==============================\n",
            "digit_accuracy: 0.97, color_accuracy: 1.00\n",
            "val_digit_accuracy: 0.97, val_color_accuracy: 1.00\n"
          ],
          "name": "stdout"
        },
        {
          "output_type": "execute_result",
          "data": {
            "text/plain": [
              "<tensorflow.python.keras.callbacks.History at 0x7fea30188a50>"
            ]
          },
          "metadata": {
            "tags": []
          },
          "execution_count": 40
        }
      ]
    },
    {
      "cell_type": "code",
      "metadata": {
        "id": "Uw2cUj9dVX5V",
        "colab": {
          "base_uri": "https://localhost:8080/",
          "height": 821
        },
        "outputId": "bce19c55-ded5-4c61-8053-f51e075a2462"
      },
      "source": [
        "%tensorboard --logdir logs"
      ],
      "execution_count": null,
      "outputs": [
        {
          "output_type": "display_data",
          "data": {
            "application/javascript": [
              "\n",
              "        (async () => {\n",
              "            const url = new URL(await google.colab.kernel.proxyPort(6006, {'cache': true}));\n",
              "            url.searchParams.set('tensorboardColab', 'true');\n",
              "            const iframe = document.createElement('iframe');\n",
              "            iframe.src = url;\n",
              "            iframe.setAttribute('width', '100%');\n",
              "            iframe.setAttribute('height', '800');\n",
              "            iframe.setAttribute('frameborder', 0);\n",
              "            document.body.appendChild(iframe);\n",
              "        })();\n",
              "    "
            ],
            "text/plain": [
              "<IPython.core.display.Javascript object>"
            ]
          },
          "metadata": {
            "tags": []
          }
        }
      ]
    },
    {
      "cell_type": "markdown",
      "metadata": {
        "id": "SatoHJXuVX5V"
      },
      "source": [
        "## Task 6: Final Predictions"
      ]
    },
    {
      "cell_type": "code",
      "metadata": {
        "id": "FB2VxmrpVX5V"
      },
      "source": [
        "def test_model(show=True):\n",
        "  x, [y, c] = next(test)\n",
        "  \n",
        "  preds = model.predict(x)\n",
        "  pred_digit = np.argmax(preds[0])\n",
        "  pred_color = int(preds[1] > 0.5)\n",
        "  gt_digit = int(y[0])\n",
        "  gt_color = int(c[0])\n",
        "  \n",
        "  plt.imshow(x[0])\n",
        "  if show:\n",
        "    print(f'GT: {gt_digit}, {colors[gt_color]}')\n",
        "    print(f'Pr: {pred_digit}, {colors[pred_color]}')\n",
        "    plt.show()\n",
        "  else:\n",
        "    col = 'green' if gt_digit == pred_digit and gt_color == pred_color else 'red'\n",
        "    plt.ylabel(f'GT: {gt_digit}, {colors[gt_color]}', color=col)\n",
        "    plt.xlabel(f'Pr: {pred_digit}, {colors[pred_color]}', color=col)\n",
        "    plt.xticks([])\n",
        "    plt.yticks([])\n",
        "\n",
        "\n",
        "test = generate_data(x_test, y_test, batch_size=1)"
      ],
      "execution_count": null,
      "outputs": []
    },
    {
      "cell_type": "code",
      "metadata": {
        "id": "TosHWUfsVX5V",
        "colab": {
          "base_uri": "https://localhost:8080/",
          "height": 299
        },
        "outputId": "11a2450f-1f03-4d6b-95c4-bb8cb79d9b87"
      },
      "source": [
        "test_model()"
      ],
      "execution_count": null,
      "outputs": [
        {
          "output_type": "stream",
          "text": [
            "GT: 9, red\n",
            "Pr: 9, red\n"
          ],
          "name": "stdout"
        },
        {
          "output_type": "display_data",
          "data": {
            "image/png": "[encoded data removed]",
            "text/plain": [
              "<Figure size 432x288 with 1 Axes>"
            ]
          },
          "metadata": {
            "tags": [],
            "needs_background": "light"
          }
        }
      ]
    },
    {
      "cell_type": "code",
      "metadata": {
        "id": "7EG78TwdVX5W"
      },
      "source": [
        ""
      ],
      "execution_count": null,
      "outputs": []
    }
  ]
}